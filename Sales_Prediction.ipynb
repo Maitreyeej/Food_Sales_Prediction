{
  "nbformat": 4,
  "nbformat_minor": 0,
  "metadata": {
    "colab": {
      "name": "Sales_Prediction.ipynb",
      "provenance": [],
      "collapsed_sections": [],
      "mount_file_id": "1NaaHZoD0BwBAlhxM7j5rGZDZMDa1bftI",
      "authorship_tag": "ABX9TyNunJ3qBKTqRD6M3lSX6V0O",
      "include_colab_link": true
    },
    "kernelspec": {
      "name": "python3",
      "display_name": "Python 3"
    },
    "language_info": {
      "name": "python"
    }
  },
  "cells": [
    {
      "cell_type": "markdown",
      "metadata": {
        "id": "view-in-github",
        "colab_type": "text"
      },
      "source": [
        "<a href=\"https://colab.research.google.com/github/Maitreyeej/Food_Sales_Prediction/blob/main/Sales_Prediction.ipynb\" target=\"_parent\"><img src=\"https://colab.research.google.com/assets/colab-badge.svg\" alt=\"Open In Colab\"/></a>"
      ]
    },
    {
      "cell_type": "code",
      "metadata": {
        "colab": {
          "base_uri": "https://localhost:8080/"
        },
        "id": "80r3VjJwShVx",
        "outputId": "695297f7-8fda-48fc-e395-6dcbacf9783f"
      },
      "source": [
        "from google.colab import drive        #Mounting the drive\n",
        "drive.mount('/content/drive')"
      ],
      "execution_count": 81,
      "outputs": [
        {
          "output_type": "stream",
          "text": [
            "Drive already mounted at /content/drive; to attempt to forcibly remount, call drive.mount(\"/content/drive\", force_remount=True).\n"
          ],
          "name": "stdout"
        }
      ]
    },
    {
      "cell_type": "code",
      "metadata": {
        "colab": {
          "base_uri": "https://localhost:8080/",
          "height": 309
        },
        "id": "yw0MM_xdDUob",
        "outputId": "4628d9e4-7447-42cc-e0ee-cb3a4a0cdd49"
      },
      "source": [
        "import pandas as pd\n",
        "import numpy as np\n",
        "import seaborn as sns\n",
        "import matplotlib.pyplot as plt\n",
        "\n",
        "filename = '/content/drive/MyDrive/CODING_DOJO/WEEK2/sales_predictions.csv'\n",
        "sales_prediction_df=pd.read_csv(filename)         #importing and reading the data into panda dataframe\n",
        "sales_prediction_df.head()"
      ],
      "execution_count": 82,
      "outputs": [
        {
          "output_type": "execute_result",
          "data": {
            "text/html": [
              "<div>\n",
              "<style scoped>\n",
              "    .dataframe tbody tr th:only-of-type {\n",
              "        vertical-align: middle;\n",
              "    }\n",
              "\n",
              "    .dataframe tbody tr th {\n",
              "        vertical-align: top;\n",
              "    }\n",
              "\n",
              "    .dataframe thead th {\n",
              "        text-align: right;\n",
              "    }\n",
              "</style>\n",
              "<table border=\"1\" class=\"dataframe\">\n",
              "  <thead>\n",
              "    <tr style=\"text-align: right;\">\n",
              "      <th></th>\n",
              "      <th>Item_Identifier</th>\n",
              "      <th>Item_Weight</th>\n",
              "      <th>Item_Fat_Content</th>\n",
              "      <th>Item_Visibility</th>\n",
              "      <th>Item_Type</th>\n",
              "      <th>Item_MRP</th>\n",
              "      <th>Outlet_Identifier</th>\n",
              "      <th>Outlet_Establishment_Year</th>\n",
              "      <th>Outlet_Size</th>\n",
              "      <th>Outlet_Location_Type</th>\n",
              "      <th>Outlet_Type</th>\n",
              "      <th>Item_Outlet_Sales</th>\n",
              "    </tr>\n",
              "  </thead>\n",
              "  <tbody>\n",
              "    <tr>\n",
              "      <th>0</th>\n",
              "      <td>FDA15</td>\n",
              "      <td>9.30</td>\n",
              "      <td>Low Fat</td>\n",
              "      <td>0.016047</td>\n",
              "      <td>Dairy</td>\n",
              "      <td>249.8092</td>\n",
              "      <td>OUT049</td>\n",
              "      <td>1999</td>\n",
              "      <td>Medium</td>\n",
              "      <td>Tier 1</td>\n",
              "      <td>Supermarket Type1</td>\n",
              "      <td>3735.1380</td>\n",
              "    </tr>\n",
              "    <tr>\n",
              "      <th>1</th>\n",
              "      <td>DRC01</td>\n",
              "      <td>5.92</td>\n",
              "      <td>Regular</td>\n",
              "      <td>0.019278</td>\n",
              "      <td>Soft Drinks</td>\n",
              "      <td>48.2692</td>\n",
              "      <td>OUT018</td>\n",
              "      <td>2009</td>\n",
              "      <td>Medium</td>\n",
              "      <td>Tier 3</td>\n",
              "      <td>Supermarket Type2</td>\n",
              "      <td>443.4228</td>\n",
              "    </tr>\n",
              "    <tr>\n",
              "      <th>2</th>\n",
              "      <td>FDN15</td>\n",
              "      <td>17.50</td>\n",
              "      <td>Low Fat</td>\n",
              "      <td>0.016760</td>\n",
              "      <td>Meat</td>\n",
              "      <td>141.6180</td>\n",
              "      <td>OUT049</td>\n",
              "      <td>1999</td>\n",
              "      <td>Medium</td>\n",
              "      <td>Tier 1</td>\n",
              "      <td>Supermarket Type1</td>\n",
              "      <td>2097.2700</td>\n",
              "    </tr>\n",
              "    <tr>\n",
              "      <th>3</th>\n",
              "      <td>FDX07</td>\n",
              "      <td>19.20</td>\n",
              "      <td>Regular</td>\n",
              "      <td>0.000000</td>\n",
              "      <td>Fruits and Vegetables</td>\n",
              "      <td>182.0950</td>\n",
              "      <td>OUT010</td>\n",
              "      <td>1998</td>\n",
              "      <td>NaN</td>\n",
              "      <td>Tier 3</td>\n",
              "      <td>Grocery Store</td>\n",
              "      <td>732.3800</td>\n",
              "    </tr>\n",
              "    <tr>\n",
              "      <th>4</th>\n",
              "      <td>NCD19</td>\n",
              "      <td>8.93</td>\n",
              "      <td>Low Fat</td>\n",
              "      <td>0.000000</td>\n",
              "      <td>Household</td>\n",
              "      <td>53.8614</td>\n",
              "      <td>OUT013</td>\n",
              "      <td>1987</td>\n",
              "      <td>High</td>\n",
              "      <td>Tier 3</td>\n",
              "      <td>Supermarket Type1</td>\n",
              "      <td>994.7052</td>\n",
              "    </tr>\n",
              "  </tbody>\n",
              "</table>\n",
              "</div>"
            ],
            "text/plain": [
              "  Item_Identifier  Item_Weight  ...        Outlet_Type  Item_Outlet_Sales\n",
              "0           FDA15         9.30  ...  Supermarket Type1          3735.1380\n",
              "1           DRC01         5.92  ...  Supermarket Type2           443.4228\n",
              "2           FDN15        17.50  ...  Supermarket Type1          2097.2700\n",
              "3           FDX07        19.20  ...      Grocery Store           732.3800\n",
              "4           NCD19         8.93  ...  Supermarket Type1           994.7052\n",
              "\n",
              "[5 rows x 12 columns]"
            ]
          },
          "metadata": {
            "tags": []
          },
          "execution_count": 82
        }
      ]
    },
    {
      "cell_type": "code",
      "metadata": {
        "colab": {
          "base_uri": "https://localhost:8080/"
        },
        "id": "JLd0CPpXGIwd",
        "outputId": "d907301c-1003-44e9-894e-85136adb74bd"
      },
      "source": [
        "sales_prediction_df.info()"
      ],
      "execution_count": 83,
      "outputs": [
        {
          "output_type": "stream",
          "text": [
            "<class 'pandas.core.frame.DataFrame'>\n",
            "RangeIndex: 8523 entries, 0 to 8522\n",
            "Data columns (total 12 columns):\n",
            " #   Column                     Non-Null Count  Dtype  \n",
            "---  ------                     --------------  -----  \n",
            " 0   Item_Identifier            8523 non-null   object \n",
            " 1   Item_Weight                7060 non-null   float64\n",
            " 2   Item_Fat_Content           8523 non-null   object \n",
            " 3   Item_Visibility            8523 non-null   float64\n",
            " 4   Item_Type                  8523 non-null   object \n",
            " 5   Item_MRP                   8523 non-null   float64\n",
            " 6   Outlet_Identifier          8523 non-null   object \n",
            " 7   Outlet_Establishment_Year  8523 non-null   int64  \n",
            " 8   Outlet_Size                6113 non-null   object \n",
            " 9   Outlet_Location_Type       8523 non-null   object \n",
            " 10  Outlet_Type                8523 non-null   object \n",
            " 11  Item_Outlet_Sales          8523 non-null   float64\n",
            "dtypes: float64(4), int64(1), object(7)\n",
            "memory usage: 799.2+ KB\n"
          ],
          "name": "stdout"
        }
      ]
    },
    {
      "cell_type": "markdown",
      "metadata": {
        "id": "Ud9ZbmbMPrUf"
      },
      "source": [
        "***To clean the data, we will check for any duplicates and also the missing data in a data frame. We will delete the duplicated data. We will also check for unit consistencies. We will either eliminate or fill in the missing data.***\n",
        "\n",
        "***Cleaning up data which can be used is essential to get good results.***"
      ]
    },
    {
      "cell_type": "code",
      "metadata": {
        "colab": {
          "base_uri": "https://localhost:8080/"
        },
        "id": "VwA1FLi3KqfQ",
        "outputId": "f3afe804-38ba-48b0-d525-39061e77ffb5"
      },
      "source": [
        "sales_prediction_df.shape"
      ],
      "execution_count": 84,
      "outputs": [
        {
          "output_type": "execute_result",
          "data": {
            "text/plain": [
              "(8523, 12)"
            ]
          },
          "metadata": {
            "tags": []
          },
          "execution_count": 84
        }
      ]
    },
    {
      "cell_type": "markdown",
      "metadata": {
        "id": "mZR1XijaK_4p"
      },
      "source": [
        "***Two columns have missing values.***\n",
        "\n",
        "***Column Names: Item_Weight, Outlet_Size***\n"
      ]
    },
    {
      "cell_type": "code",
      "metadata": {
        "colab": {
          "base_uri": "https://localhost:8080/"
        },
        "id": "BshtKb04RmMQ",
        "outputId": "160d89bd-0090-451e-cc1d-ece64330d39b"
      },
      "source": [
        "sales_prediction_df.isna().sum()        #getting the sum of the missing values in each column"
      ],
      "execution_count": 85,
      "outputs": [
        {
          "output_type": "execute_result",
          "data": {
            "text/plain": [
              "Item_Identifier                 0\n",
              "Item_Weight                  1463\n",
              "Item_Fat_Content                0\n",
              "Item_Visibility                 0\n",
              "Item_Type                       0\n",
              "                             ... \n",
              "Outlet_Establishment_Year       0\n",
              "Outlet_Size                  2410\n",
              "Outlet_Location_Type            0\n",
              "Outlet_Type                     0\n",
              "Item_Outlet_Sales               0\n",
              "Length: 12, dtype: int64"
            ]
          },
          "metadata": {
            "tags": []
          },
          "execution_count": 85
        }
      ]
    },
    {
      "cell_type": "code",
      "metadata": {
        "colab": {
          "base_uri": "https://localhost:8080/"
        },
        "id": "8DI7ENMBMVhe",
        "outputId": "75a7eec8-5d0b-4b56-bb35-8d717ff4a43c"
      },
      "source": [
        "sales_prediction_df.duplicated().any()        #checking if there are any duplicated data"
      ],
      "execution_count": 86,
      "outputs": [
        {
          "output_type": "execute_result",
          "data": {
            "text/plain": [
              "False"
            ]
          },
          "metadata": {
            "tags": []
          },
          "execution_count": 86
        }
      ]
    },
    {
      "cell_type": "markdown",
      "metadata": {
        "id": "cWaEoq7RSa4p"
      },
      "source": [
        "***This shows us that there are inconsistencies in the data in the column \"Item_Fat_Content\". Low Fat is entered as Low Fat and also as LF, low Fat. Regular is entered as Regular and also reg. We will need to be careful while dealing with this data.***"
      ]
    },
    {
      "cell_type": "markdown",
      "metadata": {
        "id": "jr0l1JiWTzRz"
      },
      "source": [
        ""
      ]
    },
    {
      "cell_type": "code",
      "metadata": {
        "colab": {
          "base_uri": "https://localhost:8080/"
        },
        "id": "fN15Cmz-Mt6C",
        "outputId": "cce86fd9-f85f-4bb8-f94e-555c3f69293a"
      },
      "source": [
        "sales_prediction_df['Item_Weight'].value_counts()    #calculating most occured value in Item Weights column"
      ],
      "execution_count": 87,
      "outputs": [
        {
          "output_type": "execute_result",
          "data": {
            "text/plain": [
              "12.150    86\n",
              "17.600    82\n",
              "13.650    77\n",
              "11.800    76\n",
              "15.100    68\n",
              "          ..\n",
              "7.560      2\n",
              "9.420      1\n",
              "5.400      1\n",
              "6.520      1\n",
              "7.685      1\n",
              "Name: Item_Weight, Length: 415, dtype: int64"
            ]
          },
          "metadata": {
            "tags": []
          },
          "execution_count": 87
        }
      ]
    },
    {
      "cell_type": "code",
      "metadata": {
        "colab": {
          "base_uri": "https://localhost:8080/"
        },
        "id": "ePwbswhcE76R",
        "outputId": "5c898822-9d4a-4bf3-a3d4-a284ce3fb602"
      },
      "source": [
        "sales_prediction_df['Outlet_Size'].value_counts()       #calculating most occured value in Outlet Size column"
      ],
      "execution_count": 88,
      "outputs": [
        {
          "output_type": "execute_result",
          "data": {
            "text/plain": [
              "Medium    2793\n",
              "Small     2388\n",
              "High       932\n",
              "Name: Outlet_Size, dtype: int64"
            ]
          },
          "metadata": {
            "tags": []
          },
          "execution_count": 88
        }
      ]
    },
    {
      "cell_type": "code",
      "metadata": {
        "colab": {
          "base_uri": "https://localhost:8080/"
        },
        "id": "-Gre-zanFIv2",
        "outputId": "5ec67109-6526-4507-d4d2-d0eef4e78000"
      },
      "source": [
        "sales_prediction_df['Item_Weight'].min()          #getting the minimum of the Item Weight"
      ],
      "execution_count": 89,
      "outputs": [
        {
          "output_type": "execute_result",
          "data": {
            "text/plain": [
              "4.555"
            ]
          },
          "metadata": {
            "tags": []
          },
          "execution_count": 89
        }
      ]
    },
    {
      "cell_type": "code",
      "metadata": {
        "colab": {
          "base_uri": "https://localhost:8080/"
        },
        "id": "peIrNDkEGDpu",
        "outputId": "5de250ef-685f-4398-933e-59f9963ed235"
      },
      "source": [
        "sales_prediction_df['Item_Weight'].max()        #getting the maximum of the Item Weight"
      ],
      "execution_count": 90,
      "outputs": [
        {
          "output_type": "execute_result",
          "data": {
            "text/plain": [
              "21.35"
            ]
          },
          "metadata": {
            "tags": []
          },
          "execution_count": 90
        }
      ]
    },
    {
      "cell_type": "code",
      "metadata": {
        "colab": {
          "base_uri": "https://localhost:8080/"
        },
        "id": "Hrc9VTPtGJiz",
        "outputId": "29ded6e1-ce00-4a9b-c485-85c5c13b2537"
      },
      "source": [
        "Weight_mean=sales_prediction_df['Item_Weight'].mean()         #calculating the mean of Item Weight column\n",
        "print(Weight_mean)"
      ],
      "execution_count": 91,
      "outputs": [
        {
          "output_type": "stream",
          "text": [
            "12.857645184136183\n"
          ],
          "name": "stdout"
        }
      ]
    },
    {
      "cell_type": "code",
      "metadata": {
        "colab": {
          "base_uri": "https://localhost:8080/",
          "height": 450
        },
        "id": "V4nyNxeXG-td",
        "outputId": "acd64bf6-84b1-4960-ffd1-069f13ad5b04"
      },
      "source": [
        "pd.set_option('display.max_rows', 10)\n",
        "sales_prediction_df.groupby(['Item_Weight',  'Outlet_Size'])[['Outlet_Size']].count()         #checking if the grouping by Item Weight and Outlet Size "
      ],
      "execution_count": 92,
      "outputs": [
        {
          "output_type": "execute_result",
          "data": {
            "text/html": [
              "<div>\n",
              "<style scoped>\n",
              "    .dataframe tbody tr th:only-of-type {\n",
              "        vertical-align: middle;\n",
              "    }\n",
              "\n",
              "    .dataframe tbody tr th {\n",
              "        vertical-align: top;\n",
              "    }\n",
              "\n",
              "    .dataframe thead th {\n",
              "        text-align: right;\n",
              "    }\n",
              "</style>\n",
              "<table border=\"1\" class=\"dataframe\">\n",
              "  <thead>\n",
              "    <tr style=\"text-align: right;\">\n",
              "      <th></th>\n",
              "      <th></th>\n",
              "      <th>Outlet_Size</th>\n",
              "    </tr>\n",
              "    <tr>\n",
              "      <th>Item_Weight</th>\n",
              "      <th>Outlet_Size</th>\n",
              "      <th></th>\n",
              "    </tr>\n",
              "  </thead>\n",
              "  <tbody>\n",
              "    <tr>\n",
              "      <th rowspan=\"3\" valign=\"top\">4.555</th>\n",
              "      <th>High</th>\n",
              "      <td>1</td>\n",
              "    </tr>\n",
              "    <tr>\n",
              "      <th>Medium</th>\n",
              "      <td>1</td>\n",
              "    </tr>\n",
              "    <tr>\n",
              "      <th>Small</th>\n",
              "      <td>2</td>\n",
              "    </tr>\n",
              "    <tr>\n",
              "      <th rowspan=\"2\" valign=\"top\">4.590</th>\n",
              "      <th>High</th>\n",
              "      <td>1</td>\n",
              "    </tr>\n",
              "    <tr>\n",
              "      <th>Medium</th>\n",
              "      <td>1</td>\n",
              "    </tr>\n",
              "    <tr>\n",
              "      <th>...</th>\n",
              "      <th>...</th>\n",
              "      <td>...</td>\n",
              "    </tr>\n",
              "    <tr>\n",
              "      <th rowspan=\"2\" valign=\"top\">21.250</th>\n",
              "      <th>Medium</th>\n",
              "      <td>7</td>\n",
              "    </tr>\n",
              "    <tr>\n",
              "      <th>Small</th>\n",
              "      <td>5</td>\n",
              "    </tr>\n",
              "    <tr>\n",
              "      <th rowspan=\"3\" valign=\"top\">21.350</th>\n",
              "      <th>High</th>\n",
              "      <td>1</td>\n",
              "    </tr>\n",
              "    <tr>\n",
              "      <th>Medium</th>\n",
              "      <td>2</td>\n",
              "    </tr>\n",
              "    <tr>\n",
              "      <th>Small</th>\n",
              "      <td>2</td>\n",
              "    </tr>\n",
              "  </tbody>\n",
              "</table>\n",
              "<p>1082 rows × 1 columns</p>\n",
              "</div>"
            ],
            "text/plain": [
              "                         Outlet_Size\n",
              "Item_Weight Outlet_Size             \n",
              "4.555       High                   1\n",
              "            Medium                 1\n",
              "            Small                  2\n",
              "4.590       High                   1\n",
              "            Medium                 1\n",
              "...                              ...\n",
              "21.250      Medium                 7\n",
              "            Small                  5\n",
              "21.350      High                   1\n",
              "            Medium                 2\n",
              "            Small                  2\n",
              "\n",
              "[1082 rows x 1 columns]"
            ]
          },
          "metadata": {
            "tags": []
          },
          "execution_count": 92
        }
      ]
    },
    {
      "cell_type": "code",
      "metadata": {
        "colab": {
          "base_uri": "https://localhost:8080/",
          "height": 450
        },
        "id": "GWXVpTIZNa9c",
        "outputId": "a9ae5290-79ca-492a-99d0-66db07b0a774"
      },
      "source": [
        "sales_prediction_temp_df=sales_prediction_df.loc[(sales_prediction_df['Item_Weight']>12) & (sales_prediction_df['Item_Weight']<13)]  \n",
        "sales_prediction_temp_df.groupby(['Item_Weight',  'Outlet_Size'])[['Outlet_Size']].count()  #checking the Outlet Size for the Item Weight between 12 and 13"
      ],
      "execution_count": 93,
      "outputs": [
        {
          "output_type": "execute_result",
          "data": {
            "text/html": [
              "<div>\n",
              "<style scoped>\n",
              "    .dataframe tbody tr th:only-of-type {\n",
              "        vertical-align: middle;\n",
              "    }\n",
              "\n",
              "    .dataframe tbody tr th {\n",
              "        vertical-align: top;\n",
              "    }\n",
              "\n",
              "    .dataframe thead th {\n",
              "        text-align: right;\n",
              "    }\n",
              "</style>\n",
              "<table border=\"1\" class=\"dataframe\">\n",
              "  <thead>\n",
              "    <tr style=\"text-align: right;\">\n",
              "      <th></th>\n",
              "      <th></th>\n",
              "      <th>Outlet_Size</th>\n",
              "    </tr>\n",
              "    <tr>\n",
              "      <th>Item_Weight</th>\n",
              "      <th>Outlet_Size</th>\n",
              "      <th></th>\n",
              "    </tr>\n",
              "  </thead>\n",
              "  <tbody>\n",
              "    <tr>\n",
              "      <th rowspan=\"3\" valign=\"top\">12.10</th>\n",
              "      <th>High</th>\n",
              "      <td>6</td>\n",
              "    </tr>\n",
              "    <tr>\n",
              "      <th>Medium</th>\n",
              "      <td>17</td>\n",
              "    </tr>\n",
              "    <tr>\n",
              "      <th>Small</th>\n",
              "      <td>12</td>\n",
              "    </tr>\n",
              "    <tr>\n",
              "      <th rowspan=\"2\" valign=\"top\">12.15</th>\n",
              "      <th>High</th>\n",
              "      <td>11</td>\n",
              "    </tr>\n",
              "    <tr>\n",
              "      <th>Medium</th>\n",
              "      <td>26</td>\n",
              "    </tr>\n",
              "    <tr>\n",
              "      <th>...</th>\n",
              "      <th>...</th>\n",
              "      <td>...</td>\n",
              "    </tr>\n",
              "    <tr>\n",
              "      <th rowspan=\"2\" valign=\"top\">12.80</th>\n",
              "      <th>Medium</th>\n",
              "      <td>7</td>\n",
              "    </tr>\n",
              "    <tr>\n",
              "      <th>Small</th>\n",
              "      <td>6</td>\n",
              "    </tr>\n",
              "    <tr>\n",
              "      <th rowspan=\"3\" valign=\"top\">12.85</th>\n",
              "      <th>High</th>\n",
              "      <td>7</td>\n",
              "    </tr>\n",
              "    <tr>\n",
              "      <th>Medium</th>\n",
              "      <td>16</td>\n",
              "    </tr>\n",
              "    <tr>\n",
              "      <th>Small</th>\n",
              "      <td>12</td>\n",
              "    </tr>\n",
              "  </tbody>\n",
              "</table>\n",
              "<p>27 rows × 1 columns</p>\n",
              "</div>"
            ],
            "text/plain": [
              "                         Outlet_Size\n",
              "Item_Weight Outlet_Size             \n",
              "12.10       High                   6\n",
              "            Medium                17\n",
              "            Small                 12\n",
              "12.15       High                  11\n",
              "            Medium                26\n",
              "...                              ...\n",
              "12.80       Medium                 7\n",
              "            Small                  6\n",
              "12.85       High                   7\n",
              "            Medium                16\n",
              "            Small                 12\n",
              "\n",
              "[27 rows x 1 columns]"
            ]
          },
          "metadata": {
            "tags": []
          },
          "execution_count": 93
        }
      ]
    },
    {
      "cell_type": "code",
      "metadata": {
        "colab": {
          "base_uri": "https://localhost:8080/",
          "height": 49
        },
        "id": "gSN69OalHabr",
        "outputId": "2052ebd1-824d-453c-e371-89a8affa75df"
      },
      "source": [
        "Weight_missing=sales_prediction_df['Item_Weight'].isna()          #checking if the data missing is for the overlapping data points or different data points\n",
        "Outlet_missing=sales_prediction_df['Outlet_Size'].isna()\n",
        "sales_prediction_df.loc[(Weight_missing & Outlet_missing),('Item_Weight', 'Outlet_Size')]"
      ],
      "execution_count": 94,
      "outputs": [
        {
          "output_type": "execute_result",
          "data": {
            "text/html": [
              "<div>\n",
              "<style scoped>\n",
              "    .dataframe tbody tr th:only-of-type {\n",
              "        vertical-align: middle;\n",
              "    }\n",
              "\n",
              "    .dataframe tbody tr th {\n",
              "        vertical-align: top;\n",
              "    }\n",
              "\n",
              "    .dataframe thead th {\n",
              "        text-align: right;\n",
              "    }\n",
              "</style>\n",
              "<table border=\"1\" class=\"dataframe\">\n",
              "  <thead>\n",
              "    <tr style=\"text-align: right;\">\n",
              "      <th></th>\n",
              "      <th>Item_Weight</th>\n",
              "      <th>Outlet_Size</th>\n",
              "    </tr>\n",
              "  </thead>\n",
              "  <tbody>\n",
              "  </tbody>\n",
              "</table>\n",
              "</div>"
            ],
            "text/plain": [
              "Empty DataFrame\n",
              "Columns: [Item_Weight, Outlet_Size]\n",
              "Index: []"
            ]
          },
          "metadata": {
            "tags": []
          },
          "execution_count": 94
        }
      ]
    },
    {
      "cell_type": "markdown",
      "metadata": {
        "id": "LOB4jFKMP7KG"
      },
      "source": [
        "***Since there are no overlapping missing values, if we decide to eliminate the values, we will end up missing total of 3873 values which is about 45% of the data. So eliminating the data is not an option.***"
      ]
    },
    {
      "cell_type": "code",
      "metadata": {
        "id": "-8IDlzUcLsa7"
      },
      "source": [
        "sales_prediction_df['Item_Weight'].fillna(Weight_mean, inplace=True)   #Filling in the data in 'Item_Weight' Column by the way of filling in the mean value of the column"
      ],
      "execution_count": 95,
      "outputs": []
    },
    {
      "cell_type": "markdown",
      "metadata": {
        "id": "uSRofWSKMjVe"
      },
      "source": [
        "***'Item_Weight' column is filled in by the mean value of the column. Mean value is around 12.85. Mode / most occured value of the column is also 12.15. This value is close to the value of mean as well.***"
      ]
    },
    {
      "cell_type": "code",
      "metadata": {
        "colab": {
          "base_uri": "https://localhost:8080/"
        },
        "id": "7JC1m4wRL_Ss",
        "outputId": "ae97760b-e288-4e94-ce70-38235c50f20b"
      },
      "source": [
        "sales_prediction_df.info()        #verifying that the missing values in column 'Item_Weight' are filled "
      ],
      "execution_count": 96,
      "outputs": [
        {
          "output_type": "stream",
          "text": [
            "<class 'pandas.core.frame.DataFrame'>\n",
            "RangeIndex: 8523 entries, 0 to 8522\n",
            "Data columns (total 12 columns):\n",
            " #   Column                     Non-Null Count  Dtype  \n",
            "---  ------                     --------------  -----  \n",
            " 0   Item_Identifier            8523 non-null   object \n",
            " 1   Item_Weight                8523 non-null   float64\n",
            " 2   Item_Fat_Content           8523 non-null   object \n",
            " 3   Item_Visibility            8523 non-null   float64\n",
            " 4   Item_Type                  8523 non-null   object \n",
            " 5   Item_MRP                   8523 non-null   float64\n",
            " 6   Outlet_Identifier          8523 non-null   object \n",
            " 7   Outlet_Establishment_Year  8523 non-null   int64  \n",
            " 8   Outlet_Size                6113 non-null   object \n",
            " 9   Outlet_Location_Type       8523 non-null   object \n",
            " 10  Outlet_Type                8523 non-null   object \n",
            " 11  Item_Outlet_Sales          8523 non-null   float64\n",
            "dtypes: float64(4), int64(1), object(7)\n",
            "memory usage: 799.2+ KB\n"
          ],
          "name": "stdout"
        }
      ]
    },
    {
      "cell_type": "code",
      "metadata": {
        "id": "1wyFs2CrMKOC"
      },
      "source": [
        "sales_prediction_df['Outlet_Size'].fillna('Medium', inplace=True)  \n",
        "#Filling in the missing values in Outlet Size as the most occured value in the range of 12 to 13 Item Weight"
      ],
      "execution_count": 97,
      "outputs": []
    },
    {
      "cell_type": "markdown",
      "metadata": {
        "id": "8Xvddcj7Y5Kz"
      },
      "source": [
        "***Based on the grouped analysis as per the Item Weight between 12 and 13. As the most occured values are around 12 and 13, Outlet Size estimation is based on the grouped analysis. As most occured Outlet Size value is medium, missing field is filled with that value.***"
      ]
    },
    {
      "cell_type": "code",
      "metadata": {
        "colab": {
          "base_uri": "https://localhost:8080/"
        },
        "id": "_c-jxAD5ZnO2",
        "outputId": "929fc8e8-ef93-420d-f7dd-215636d31ca7"
      },
      "source": [
        "sales_prediction_df.info()        #making sure there are no missing values anymore"
      ],
      "execution_count": 98,
      "outputs": [
        {
          "output_type": "stream",
          "text": [
            "<class 'pandas.core.frame.DataFrame'>\n",
            "RangeIndex: 8523 entries, 0 to 8522\n",
            "Data columns (total 12 columns):\n",
            " #   Column                     Non-Null Count  Dtype  \n",
            "---  ------                     --------------  -----  \n",
            " 0   Item_Identifier            8523 non-null   object \n",
            " 1   Item_Weight                8523 non-null   float64\n",
            " 2   Item_Fat_Content           8523 non-null   object \n",
            " 3   Item_Visibility            8523 non-null   float64\n",
            " 4   Item_Type                  8523 non-null   object \n",
            " 5   Item_MRP                   8523 non-null   float64\n",
            " 6   Outlet_Identifier          8523 non-null   object \n",
            " 7   Outlet_Establishment_Year  8523 non-null   int64  \n",
            " 8   Outlet_Size                8523 non-null   object \n",
            " 9   Outlet_Location_Type       8523 non-null   object \n",
            " 10  Outlet_Type                8523 non-null   object \n",
            " 11  Item_Outlet_Sales          8523 non-null   float64\n",
            "dtypes: float64(4), int64(1), object(7)\n",
            "memory usage: 799.2+ KB\n"
          ],
          "name": "stdout"
        }
      ]
    },
    {
      "cell_type": "markdown",
      "metadata": {
        "id": "vZtygcQnaLTH"
      },
      "source": [
        "***OBSERVATIONS***\n",
        "\n",
        "***1. Data types for all the columns seems to be correct.***\n",
        "\n",
        "***2.Missing Values only in 2 columns.***\n",
        "\n",
        "***3.This data is from between the year 1985 and 2009.***"
      ]
    },
    {
      "cell_type": "code",
      "metadata": {
        "id": "ChIoM5a8afUv"
      },
      "source": [
        "#verifying for the irregularities for all the columns"
      ],
      "execution_count": null,
      "outputs": []
    },
    {
      "cell_type": "code",
      "metadata": {
        "colab": {
          "base_uri": "https://localhost:8080/"
        },
        "id": "SufXs_ubaoS7",
        "outputId": "bba88763-1e35-476c-99b7-75b7c3861f3e"
      },
      "source": [
        "sales_prediction_df['Item_Identifier'].value_counts()"
      ],
      "execution_count": 99,
      "outputs": [
        {
          "output_type": "execute_result",
          "data": {
            "text/plain": [
              "FDG33    10\n",
              "FDW13    10\n",
              "FDW26     9\n",
              "NCL31     9\n",
              "FDW49     9\n",
              "         ..\n",
              "FDC23     1\n",
              "FDN52     1\n",
              "FDY43     1\n",
              "FDE52     1\n",
              "FDK57     1\n",
              "Name: Item_Identifier, Length: 1559, dtype: int64"
            ]
          },
          "metadata": {
            "tags": []
          },
          "execution_count": 99
        }
      ]
    },
    {
      "cell_type": "code",
      "metadata": {
        "colab": {
          "base_uri": "https://localhost:8080/"
        },
        "id": "hi3_kXssbkZw",
        "outputId": "5f874826-14b6-4c2d-e6e2-93facf826af3"
      },
      "source": [
        "sales_prediction_df['Outlet_Location_Type'].value_counts()"
      ],
      "execution_count": 100,
      "outputs": [
        {
          "output_type": "execute_result",
          "data": {
            "text/plain": [
              "Tier 3    3350\n",
              "Tier 2    2785\n",
              "Tier 1    2388\n",
              "Name: Outlet_Location_Type, dtype: int64"
            ]
          },
          "metadata": {
            "tags": []
          },
          "execution_count": 100
        }
      ]
    },
    {
      "cell_type": "code",
      "metadata": {
        "colab": {
          "base_uri": "https://localhost:8080/"
        },
        "id": "HSOduVpVcAQn",
        "outputId": "99e9ef61-83e9-4337-ab78-7c39bab4f0a0"
      },
      "source": [
        "sales_prediction_df['Outlet_Size'].value_counts()"
      ],
      "execution_count": 101,
      "outputs": [
        {
          "output_type": "execute_result",
          "data": {
            "text/plain": [
              "Medium    5203\n",
              "Small     2388\n",
              "High       932\n",
              "Name: Outlet_Size, dtype: int64"
            ]
          },
          "metadata": {
            "tags": []
          },
          "execution_count": 101
        }
      ]
    },
    {
      "cell_type": "code",
      "metadata": {
        "colab": {
          "base_uri": "https://localhost:8080/"
        },
        "id": "Z_Q54kB-cjAo",
        "outputId": "d7196165-3403-4d0b-f44d-8a8b2c34c389"
      },
      "source": [
        "sales_prediction_df['Outlet_Type'].value_counts()"
      ],
      "execution_count": 102,
      "outputs": [
        {
          "output_type": "execute_result",
          "data": {
            "text/plain": [
              "Supermarket Type1    5577\n",
              "Grocery Store        1083\n",
              "Supermarket Type3     935\n",
              "Supermarket Type2     928\n",
              "Name: Outlet_Type, dtype: int64"
            ]
          },
          "metadata": {
            "tags": []
          },
          "execution_count": 102
        }
      ]
    },
    {
      "cell_type": "code",
      "metadata": {
        "colab": {
          "base_uri": "https://localhost:8080/"
        },
        "id": "UhPJzmb5bco0",
        "outputId": "372ec9af-46f5-4db0-af00-cd6c358d6f0b"
      },
      "source": [
        "sales_prediction_df['Outlet_Establishment_Year'].value_counts()"
      ],
      "execution_count": 103,
      "outputs": [
        {
          "output_type": "execute_result",
          "data": {
            "text/plain": [
              "1985    1463\n",
              "1987     932\n",
              "1999     930\n",
              "1997     930\n",
              "2004     930\n",
              "2002     929\n",
              "2009     928\n",
              "2007     926\n",
              "1998     555\n",
              "Name: Outlet_Establishment_Year, dtype: int64"
            ]
          },
          "metadata": {
            "tags": []
          },
          "execution_count": 103
        }
      ]
    },
    {
      "cell_type": "code",
      "metadata": {
        "id": "jcuXVz4OdfJB",
        "colab": {
          "base_uri": "https://localhost:8080/"
        },
        "outputId": "515b5fd0-b8ae-49ea-e468-124ff3f86066"
      },
      "source": [
        "sales_prediction_df['Item_Fat_Content'].value_counts()"
      ],
      "execution_count": 104,
      "outputs": [
        {
          "output_type": "execute_result",
          "data": {
            "text/plain": [
              "Low Fat    5089\n",
              "Regular    2889\n",
              "LF          316\n",
              "reg         117\n",
              "low fat     112\n",
              "Name: Item_Fat_Content, dtype: int64"
            ]
          },
          "metadata": {
            "tags": []
          },
          "execution_count": 104
        }
      ]
    },
    {
      "cell_type": "markdown",
      "metadata": {
        "id": "JZACTUi9nFn_"
      },
      "source": [
        "***This shows us that there are inconsistencies in the data in the column \"Item_Fat_Content\". Low Fat is entered as Low Fat and also as LF, low Fat. Regular is entered as Regular and also reg. We will need to be careful while dealing with this data.***"
      ]
    },
    {
      "cell_type": "code",
      "metadata": {
        "colab": {
          "base_uri": "https://localhost:8080/"
        },
        "id": "cCBxWHh0UyRh",
        "outputId": "e83d2986-c736-4bda-b535-80e28d9382fc"
      },
      "source": [
        "#Fixing the irregularities in the column of 'Item_Fat_Content'\n",
        "sales_prediction_df=sales_prediction_df.replace({'Item_Fat_Content' : { 'LF' : 'Low Fat', 'low fat' : 'Low Fat', 'reg' : 'Regular'}})   \n",
        "sales_prediction_df['Item_Fat_Content'].value_counts()"
      ],
      "execution_count": 105,
      "outputs": [
        {
          "output_type": "execute_result",
          "data": {
            "text/plain": [
              "Low Fat    5517\n",
              "Regular    3006\n",
              "Name: Item_Fat_Content, dtype: int64"
            ]
          },
          "metadata": {
            "tags": []
          },
          "execution_count": 105
        }
      ]
    },
    {
      "cell_type": "code",
      "metadata": {
        "colab": {
          "base_uri": "https://localhost:8080/"
        },
        "id": "znwETC6Hmbj9",
        "outputId": "4965b078-1159-4c7f-a0c6-07fbffe24d66"
      },
      "source": [
        "sales_prediction_df['Outlet_Size'].value_counts()"
      ],
      "execution_count": 106,
      "outputs": [
        {
          "output_type": "execute_result",
          "data": {
            "text/plain": [
              "Medium    5203\n",
              "Small     2388\n",
              "High       932\n",
              "Name: Outlet_Size, dtype: int64"
            ]
          },
          "metadata": {
            "tags": []
          },
          "execution_count": 106
        }
      ]
    },
    {
      "cell_type": "code",
      "metadata": {
        "colab": {
          "base_uri": "https://localhost:8080/"
        },
        "id": "4RCHbbsem8UG",
        "outputId": "be3d178b-0e36-415e-a618-39bd9c4949c5"
      },
      "source": [
        "sales_prediction_df['Outlet_Identifier'].value_counts()"
      ],
      "execution_count": 107,
      "outputs": [
        {
          "output_type": "execute_result",
          "data": {
            "text/plain": [
              "OUT027    935\n",
              "OUT013    932\n",
              "OUT035    930\n",
              "OUT049    930\n",
              "OUT046    930\n",
              "OUT045    929\n",
              "OUT018    928\n",
              "OUT017    926\n",
              "OUT010    555\n",
              "OUT019    528\n",
              "Name: Outlet_Identifier, dtype: int64"
            ]
          },
          "metadata": {
            "tags": []
          },
          "execution_count": 107
        }
      ]
    },
    {
      "cell_type": "code",
      "metadata": {
        "id": "erO6kpMMswP-"
      },
      "source": [
        "sales_prediction_df_TotalSales=sales_prediction_df.groupby(['Outlet_Establishment_Year'])['Item_Outlet_Sales'].sum()       #plotting for sales in the years of establishment"
      ],
      "execution_count": 157,
      "outputs": []
    },
    {
      "cell_type": "code",
      "metadata": {
        "id": "hAGyMX9H2s8C"
      },
      "source": [
        "X1_sales=sales_prediction_df_TotalSales.index\n",
        "Y1_sales=sales_prediction_df_TotalSales.values"
      ],
      "execution_count": 177,
      "outputs": []
    },
    {
      "cell_type": "code",
      "metadata": {
        "colab": {
          "base_uri": "https://localhost:8080/",
          "height": 366
        },
        "id": "n_7wQwYV3CjJ",
        "outputId": "ae49e054-bab3-4320-cdbb-b3c49bb50f01"
      },
      "source": [
        "sns.barplot(X1_sales, Y1_sales)\n",
        "plt.title('Sales for Outlets established over the years', fontweight='bold', c='red')\n",
        "plt.ylabel('Total Sales in Dollars', c='red')\n",
        "plt.xlabel('Years', c='red');\n"
      ],
      "execution_count": 176,
      "outputs": [
        {
          "output_type": "stream",
          "text": [
            "/usr/local/lib/python3.7/dist-packages/seaborn/_decorators.py:43: FutureWarning: Pass the following variables as keyword args: x, y. From version 0.12, the only valid positional argument will be `data`, and passing other arguments without an explicit keyword will result in an error or misinterpretation.\n",
            "  FutureWarning\n",
            "No handles with labels found to put in legend.\n"
          ],
          "name": "stderr"
        },
        {
          "output_type": "display_data",
          "data": {
            "image/png": "[encoded data removed]",
            "text/plain": [
              "<Figure size 432x288 with 1 Axes>"
            ]
          },
          "metadata": {
            "tags": [],
            "needs_background": "light"
          }
        }
      ]
    },
    {
      "cell_type": "code",
      "metadata": {
        "colab": {
          "base_uri": "https://localhost:8080/",
          "height": 264
        },
        "id": "V1H05o2vV1a5",
        "outputId": "c9c0b432-c853-4762-b384-9a6faabfe5fd"
      },
      "source": [
        "sales_prediction_df_tier=sales_prediction_df.groupby(['Outlet_Location_Type'])['Item_Outlet_Sales'].sum()     #Plotting a pie chart with the share of sales as per the location\n",
        "Pie_Tier=sales_prediction_df_tier.values\n",
        "Pie_Tier_Lable= sales_prediction_df_tier.index\n",
        "temp=Pie_Tier.sum()\n",
        "\n",
        "for ele in Pie_Tier:\n",
        "   ele=ele/temp*100\n",
        "\n",
        "plt.title('Percent Sales per Tier Shops', c='navy', fontweight='bold')\n",
        "plt.pie(Pie_Tier, autopct='%1.1f%%', labels= Pie_Tier_Lable );"
      ],
      "execution_count": 138,
      "outputs": [
        {
          "output_type": "display_data",
          "data": {
            "image/png": "[encoded data removed]",
            "text/plain": [
              "<Figure size 432x288 with 1 Axes>"
            ]
          },
          "metadata": {
            "tags": []
          }
        }
      ]
    },
    {
      "cell_type": "code",
      "metadata": {
        "id": "o_Euz4IZiZe4"
      },
      "source": [
        "sales_prediction_df_outlets=sales_prediction_df.groupby(['Outlet_Establishment_Year']) ['Outlet_Identifier'].count()      #Plot for no. of outlets established over the years"
      ],
      "execution_count": 161,
      "outputs": []
    },
    {
      "cell_type": "code",
      "metadata": {
        "colab": {
          "base_uri": "https://localhost:8080/",
          "height": 295
        },
        "id": "eMI_V6rmyRno",
        "outputId": "eca1f7f2-2101-41a2-96af-3fcd8fc0ff7a"
      },
      "source": [
        "outlets_X=sales_prediction_df_outlets.index\n",
        "outlets_Y=sales_prediction_df_outlets.values\n",
        "plt.title('No. of Outlets Established over the Years', fontweight='bold')\n",
        "plt.xlabel('Years')\n",
        "plt.ylabel('No. of Oulets Established')\n",
        "plt.scatter(outlets_X, outlets_Y, c='red');"
      ],
      "execution_count": 149,
      "outputs": [
        {
          "output_type": "display_data",
          "data": {
            "image/png": "[encoded data removed]",
            "text/plain": [
              "<Figure size 432x288 with 1 Axes>"
            ]
          },
          "metadata": {
            "tags": [],
            "needs_background": "light"
          }
        }
      ]
    },
    {
      "cell_type": "markdown",
      "metadata": {
        "id": "I1LLT072jNb_"
      },
      "source": [
        "***Number of outlets established seems to have plateued at around 930. A sudden dip in number of outlets was seen in the year 1998 to 555.***"
      ]
    },
    {
      "cell_type": "code",
      "metadata": {
        "id": "3qBoWajc15I0"
      },
      "source": [
        "sales_prediction_df_outletSize=sales_prediction_df.groupby(['Outlet_Size'])['Item_Outlet_Sales'].sum()        #Plotting for the sales as per the outlet size"
      ],
      "execution_count": 166,
      "outputs": []
    },
    {
      "cell_type": "code",
      "metadata": {
        "colab": {
          "base_uri": "https://localhost:8080/",
          "height": 295
        },
        "id": "WPXBDjXEH-Go",
        "outputId": "c31fb212-235c-4786-8719-25f86c0508b0"
      },
      "source": [
        "sales_prediction_df_outletSize\n",
        "plt.barh(sales_prediction_df_outletSize.index, sales_prediction_df_outletSize.values, color='palevioletred')\n",
        "plt.title('Total Sales based on the Outlet Size', fontweight='bold', c='red')\n",
        "plt.ylabel('Total Sales in Dollars', c='red')\n",
        "plt.xlabel('Outlet Size', c='red');"
      ],
      "execution_count": 178,
      "outputs": [
        {
          "output_type": "display_data",
          "data": {
            "image/png": "[encoded data removed]",
            "text/plain": [
              "<Figure size 432x288 with 1 Axes>"
            ]
          },
          "metadata": {
            "tags": [],
            "needs_background": "light"
          }
        }
      ]
    },
    {
      "cell_type": "code",
      "metadata": {
        "colab": {
          "base_uri": "https://localhost:8080/",
          "height": 312
        },
        "id": "8n846rLfYWxx",
        "outputId": "6aef2d06-bd5f-4578-f5d3-1e01ebca4cf8"
      },
      "source": [
        "sales_prediction_df_fat=sales_prediction_df.groupby(['Item_Fat_Content'])['Item_Outlet_Sales'].sum()        #plotting for sales based on the fat content in food items\n",
        "sales_prediction_df_fat\n",
        "plt.bar(sales_prediction_df_fat.index, sales_prediction_df_fat.values, color='lightgreen')\n",
        "plt.title('Total Sales based on the Fat Content', fontweight='bold', c='red')\n",
        "plt.ylabel('Total Sales in Dollars', c='red')\n",
        "plt.xlabel('Fat Content', c='red')"
      ],
      "execution_count": 175,
      "outputs": [
        {
          "output_type": "execute_result",
          "data": {
            "text/plain": [
              "Text(0.5, 0, 'Fat Content')"
            ]
          },
          "metadata": {
            "tags": []
          },
          "execution_count": 175
        },
        {
          "output_type": "display_data",
          "data": {
            "image/png": "[encoded data removed]",
            "text/plain": [
              "<Figure size 432x288 with 1 Axes>"
            ]
          },
          "metadata": {
            "tags": [],
            "needs_background": "light"
          }
        }
      ]
    },
    {
      "cell_type": "code",
      "metadata": {
        "id": "zCCeHeiJzu48"
      },
      "source": [
        ""
      ],
      "execution_count": null,
      "outputs": []
    }
  ]
}