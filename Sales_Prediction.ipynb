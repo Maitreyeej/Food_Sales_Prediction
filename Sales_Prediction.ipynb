{
  "nbformat": 4,
  "nbformat_minor": 0,
  "metadata": {
    "colab": {
      "name": "Sales_Prediction.ipynb",
      "provenance": [],
      "collapsed_sections": [],
      "mount_file_id": "1NaaHZoD0BwBAlhxM7j5rGZDZMDa1bftI",
      "authorship_tag": "ABX9TyMX/Hc92UtwroeMz8EfZRYB",
      "include_colab_link": true
    },
    "kernelspec": {
      "name": "python3",
      "display_name": "Python 3"
    },
    "language_info": {
      "name": "python"
    }
  },
  "cells": [
    {
      "cell_type": "markdown",
      "metadata": {
        "id": "view-in-github",
        "colab_type": "text"
      },
      "source": [
        "<a href=\"https://colab.research.google.com/github/Maitreyeej/Food_Sales_Prediction/blob/main/Sales_Prediction.ipynb\" target=\"_parent\"><img src=\"https://colab.research.google.com/assets/colab-badge.svg\" alt=\"Open In Colab\"/></a>"
      ]
    },
    {
      "cell_type": "markdown",
      "metadata": {
        "id": "EpePu9t0aAgk"
      },
      "source": [
        "# **Imports and Creating a Dataframe**"
      ]
    },
    {
      "cell_type": "code",
      "metadata": {
        "colab": {
          "base_uri": "https://localhost:8080/"
        },
        "id": "80r3VjJwShVx",
        "outputId": "754f81bf-000c-4d3b-9312-1dc37d1efcc1"
      },
      "source": [
        "from google.colab import drive        #Mounting the drive\n",
        "drive.mount('/content/drive')"
      ],
      "execution_count": 90,
      "outputs": [
        {
          "output_type": "stream",
          "text": [
            "Drive already mounted at /content/drive; to attempt to forcibly remount, call drive.mount(\"/content/drive\", force_remount=True).\n"
          ],
          "name": "stdout"
        }
      ]
    },
    {
      "cell_type": "code",
      "metadata": {
        "id": "QRngM0UVM6nj"
      },
      "source": [
        "from sklearn.preprocessing import StandardScaler\n",
        "from sklearn.neighbors import KNeighborsRegressor\n",
        "from sklearn.model_selection import train_test_split\n",
        "from sklearn.ensemble import BaggingRegressor\n",
        "from sklearn.ensemble import RandomForestRegressor \n",
        "from sklearn.metrics import mean_squared_error\n",
        "from sklearn.linear_model import LinearRegression"
      ],
      "execution_count": 91,
      "outputs": []
    },
    {
      "cell_type": "code",
      "metadata": {
        "colab": {
          "base_uri": "https://localhost:8080/",
          "height": 309
        },
        "id": "yw0MM_xdDUob",
        "outputId": "f65cf9c0-26a0-4641-8123-a1f5ccaae863"
      },
      "source": [
        "import pandas as pd\n",
        "import numpy as np\n",
        "import seaborn as sns\n",
        "import matplotlib.pyplot as plt\n",
        "\n",
        "filename = '/content/drive/MyDrive/CODING_DOJO/WEEK2/sales_predictions.csv'\n",
        "sales_prediction_df=pd.read_csv(filename)         #importing and reading the data into panda dataframe\n",
        "sales_prediction_df.head()"
      ],
      "execution_count": 92,
      "outputs": [
        {
          "output_type": "execute_result",
          "data": {
            "text/html": [
              "<div>\n",
              "<style scoped>\n",
              "    .dataframe tbody tr th:only-of-type {\n",
              "        vertical-align: middle;\n",
              "    }\n",
              "\n",
              "    .dataframe tbody tr th {\n",
              "        vertical-align: top;\n",
              "    }\n",
              "\n",
              "    .dataframe thead th {\n",
              "        text-align: right;\n",
              "    }\n",
              "</style>\n",
              "<table border=\"1\" class=\"dataframe\">\n",
              "  <thead>\n",
              "    <tr style=\"text-align: right;\">\n",
              "      <th></th>\n",
              "      <th>Item_Identifier</th>\n",
              "      <th>Item_Weight</th>\n",
              "      <th>Item_Fat_Content</th>\n",
              "      <th>Item_Visibility</th>\n",
              "      <th>Item_Type</th>\n",
              "      <th>Item_MRP</th>\n",
              "      <th>Outlet_Identifier</th>\n",
              "      <th>Outlet_Establishment_Year</th>\n",
              "      <th>Outlet_Size</th>\n",
              "      <th>Outlet_Location_Type</th>\n",
              "      <th>Outlet_Type</th>\n",
              "      <th>Item_Outlet_Sales</th>\n",
              "    </tr>\n",
              "  </thead>\n",
              "  <tbody>\n",
              "    <tr>\n",
              "      <th>0</th>\n",
              "      <td>FDA15</td>\n",
              "      <td>9.30</td>\n",
              "      <td>Low Fat</td>\n",
              "      <td>0.016047</td>\n",
              "      <td>Dairy</td>\n",
              "      <td>249.8092</td>\n",
              "      <td>OUT049</td>\n",
              "      <td>1999</td>\n",
              "      <td>Medium</td>\n",
              "      <td>Tier 1</td>\n",
              "      <td>Supermarket Type1</td>\n",
              "      <td>3735.1380</td>\n",
              "    </tr>\n",
              "    <tr>\n",
              "      <th>1</th>\n",
              "      <td>DRC01</td>\n",
              "      <td>5.92</td>\n",
              "      <td>Regular</td>\n",
              "      <td>0.019278</td>\n",
              "      <td>Soft Drinks</td>\n",
              "      <td>48.2692</td>\n",
              "      <td>OUT018</td>\n",
              "      <td>2009</td>\n",
              "      <td>Medium</td>\n",
              "      <td>Tier 3</td>\n",
              "      <td>Supermarket Type2</td>\n",
              "      <td>443.4228</td>\n",
              "    </tr>\n",
              "    <tr>\n",
              "      <th>2</th>\n",
              "      <td>FDN15</td>\n",
              "      <td>17.50</td>\n",
              "      <td>Low Fat</td>\n",
              "      <td>0.016760</td>\n",
              "      <td>Meat</td>\n",
              "      <td>141.6180</td>\n",
              "      <td>OUT049</td>\n",
              "      <td>1999</td>\n",
              "      <td>Medium</td>\n",
              "      <td>Tier 1</td>\n",
              "      <td>Supermarket Type1</td>\n",
              "      <td>2097.2700</td>\n",
              "    </tr>\n",
              "    <tr>\n",
              "      <th>3</th>\n",
              "      <td>FDX07</td>\n",
              "      <td>19.20</td>\n",
              "      <td>Regular</td>\n",
              "      <td>0.000000</td>\n",
              "      <td>Fruits and Vegetables</td>\n",
              "      <td>182.0950</td>\n",
              "      <td>OUT010</td>\n",
              "      <td>1998</td>\n",
              "      <td>NaN</td>\n",
              "      <td>Tier 3</td>\n",
              "      <td>Grocery Store</td>\n",
              "      <td>732.3800</td>\n",
              "    </tr>\n",
              "    <tr>\n",
              "      <th>4</th>\n",
              "      <td>NCD19</td>\n",
              "      <td>8.93</td>\n",
              "      <td>Low Fat</td>\n",
              "      <td>0.000000</td>\n",
              "      <td>Household</td>\n",
              "      <td>53.8614</td>\n",
              "      <td>OUT013</td>\n",
              "      <td>1987</td>\n",
              "      <td>High</td>\n",
              "      <td>Tier 3</td>\n",
              "      <td>Supermarket Type1</td>\n",
              "      <td>994.7052</td>\n",
              "    </tr>\n",
              "  </tbody>\n",
              "</table>\n",
              "</div>"
            ],
            "text/plain": [
              "  Item_Identifier  Item_Weight  ...        Outlet_Type  Item_Outlet_Sales\n",
              "0           FDA15         9.30  ...  Supermarket Type1          3735.1380\n",
              "1           DRC01         5.92  ...  Supermarket Type2           443.4228\n",
              "2           FDN15        17.50  ...  Supermarket Type1          2097.2700\n",
              "3           FDX07        19.20  ...      Grocery Store           732.3800\n",
              "4           NCD19         8.93  ...  Supermarket Type1           994.7052\n",
              "\n",
              "[5 rows x 12 columns]"
            ]
          },
          "metadata": {
            "tags": []
          },
          "execution_count": 92
        }
      ]
    },
    {
      "cell_type": "markdown",
      "metadata": {
        "id": "rNQH6rb8aQ39"
      },
      "source": [
        "# **Preprocessing**"
      ]
    },
    {
      "cell_type": "code",
      "metadata": {
        "colab": {
          "base_uri": "https://localhost:8080/"
        },
        "id": "JLd0CPpXGIwd",
        "outputId": "99b59fb4-65e2-4ba9-a32e-57b437717e88"
      },
      "source": [
        "sales_prediction_df.info()            #Checking the data details"
      ],
      "execution_count": 93,
      "outputs": [
        {
          "output_type": "stream",
          "text": [
            "<class 'pandas.core.frame.DataFrame'>\n",
            "RangeIndex: 8523 entries, 0 to 8522\n",
            "Data columns (total 12 columns):\n",
            " #   Column                     Non-Null Count  Dtype  \n",
            "---  ------                     --------------  -----  \n",
            " 0   Item_Identifier            8523 non-null   object \n",
            " 1   Item_Weight                7060 non-null   float64\n",
            " 2   Item_Fat_Content           8523 non-null   object \n",
            " 3   Item_Visibility            8523 non-null   float64\n",
            " 4   Item_Type                  8523 non-null   object \n",
            " 5   Item_MRP                   8523 non-null   float64\n",
            " 6   Outlet_Identifier          8523 non-null   object \n",
            " 7   Outlet_Establishment_Year  8523 non-null   int64  \n",
            " 8   Outlet_Size                6113 non-null   object \n",
            " 9   Outlet_Location_Type       8523 non-null   object \n",
            " 10  Outlet_Type                8523 non-null   object \n",
            " 11  Item_Outlet_Sales          8523 non-null   float64\n",
            "dtypes: float64(4), int64(1), object(7)\n",
            "memory usage: 799.2+ KB\n"
          ],
          "name": "stdout"
        }
      ]
    },
    {
      "cell_type": "markdown",
      "metadata": {
        "id": "Ud9ZbmbMPrUf"
      },
      "source": [
        "***To clean the data, we will check for any duplicates and also the missing data in a data frame. We will delete the duplicated data. We will also check for unit consistencies. We will either eliminate or fill in the missing data.***\n",
        "\n",
        "***Cleaning up data which can be used is essential to get good results.***"
      ]
    },
    {
      "cell_type": "code",
      "metadata": {
        "colab": {
          "base_uri": "https://localhost:8080/"
        },
        "id": "VwA1FLi3KqfQ",
        "outputId": "15f76153-01f6-42a6-97bc-bbb68b3fcc3b"
      },
      "source": [
        "sales_prediction_df.shape   #checking the shape of the dataframe"
      ],
      "execution_count": 94,
      "outputs": [
        {
          "output_type": "execute_result",
          "data": {
            "text/plain": [
              "(8523, 12)"
            ]
          },
          "metadata": {
            "tags": []
          },
          "execution_count": 94
        }
      ]
    },
    {
      "cell_type": "markdown",
      "metadata": {
        "id": "mZR1XijaK_4p"
      },
      "source": [
        "***Two columns have missing values.***\n",
        "\n",
        "***Column Names: Item_Weight, Outlet_Size***\n"
      ]
    },
    {
      "cell_type": "code",
      "metadata": {
        "colab": {
          "base_uri": "https://localhost:8080/"
        },
        "id": "BshtKb04RmMQ",
        "outputId": "9fea2b91-2af2-4dbf-ff73-f4fb31c92d75"
      },
      "source": [
        "sales_prediction_df.isna().sum()        #getting the sum of the missing values in each column"
      ],
      "execution_count": 95,
      "outputs": [
        {
          "output_type": "execute_result",
          "data": {
            "text/plain": [
              "Item_Identifier                 0\n",
              "Item_Weight                  1463\n",
              "Item_Fat_Content                0\n",
              "Item_Visibility                 0\n",
              "Item_Type                       0\n",
              "                             ... \n",
              "Outlet_Establishment_Year       0\n",
              "Outlet_Size                  2410\n",
              "Outlet_Location_Type            0\n",
              "Outlet_Type                     0\n",
              "Item_Outlet_Sales               0\n",
              "Length: 12, dtype: int64"
            ]
          },
          "metadata": {
            "tags": []
          },
          "execution_count": 95
        }
      ]
    },
    {
      "cell_type": "code",
      "metadata": {
        "colab": {
          "base_uri": "https://localhost:8080/"
        },
        "id": "8DI7ENMBMVhe",
        "outputId": "9d829a36-577b-4404-d921-535931376aa6"
      },
      "source": [
        "sales_prediction_df.duplicated().any()        #checking if there is any duplicated data"
      ],
      "execution_count": 96,
      "outputs": [
        {
          "output_type": "execute_result",
          "data": {
            "text/plain": [
              "False"
            ]
          },
          "metadata": {
            "tags": []
          },
          "execution_count": 96
        }
      ]
    },
    {
      "cell_type": "code",
      "metadata": {
        "colab": {
          "base_uri": "https://localhost:8080/"
        },
        "id": "fN15Cmz-Mt6C",
        "outputId": "4e63acd1-2918-48a0-ca42-1ff1acfde3a0"
      },
      "source": [
        "sales_prediction_df['Item_Weight'].value_counts()    #calculating most occured value in Item Weights column"
      ],
      "execution_count": 97,
      "outputs": [
        {
          "output_type": "execute_result",
          "data": {
            "text/plain": [
              "12.150    86\n",
              "17.600    82\n",
              "13.650    77\n",
              "11.800    76\n",
              "15.100    68\n",
              "          ..\n",
              "7.560      2\n",
              "9.420      1\n",
              "5.400      1\n",
              "6.520      1\n",
              "7.685      1\n",
              "Name: Item_Weight, Length: 415, dtype: int64"
            ]
          },
          "metadata": {
            "tags": []
          },
          "execution_count": 97
        }
      ]
    },
    {
      "cell_type": "code",
      "metadata": {
        "colab": {
          "base_uri": "https://localhost:8080/"
        },
        "id": "ePwbswhcE76R",
        "outputId": "8fbb7828-bb0b-4c2f-b6bc-48e4d604acfe"
      },
      "source": [
        "sales_prediction_df['Outlet_Size'].value_counts()       #calculating most occured value in Outlet Size column"
      ],
      "execution_count": 98,
      "outputs": [
        {
          "output_type": "execute_result",
          "data": {
            "text/plain": [
              "Medium    2793\n",
              "Small     2388\n",
              "High       932\n",
              "Name: Outlet_Size, dtype: int64"
            ]
          },
          "metadata": {
            "tags": []
          },
          "execution_count": 98
        }
      ]
    },
    {
      "cell_type": "code",
      "metadata": {
        "colab": {
          "base_uri": "https://localhost:8080/"
        },
        "id": "-Gre-zanFIv2",
        "outputId": "a0cd6871-faad-4dbf-b2e2-df513eddf498"
      },
      "source": [
        "#Getting statistics on the Item_Weight column\n",
        "sales_prediction_df['Item_Weight'].min()          #getting the minimum of the Item Weight"
      ],
      "execution_count": 99,
      "outputs": [
        {
          "output_type": "execute_result",
          "data": {
            "text/plain": [
              "4.555"
            ]
          },
          "metadata": {
            "tags": []
          },
          "execution_count": 99
        }
      ]
    },
    {
      "cell_type": "code",
      "metadata": {
        "colab": {
          "base_uri": "https://localhost:8080/"
        },
        "id": "peIrNDkEGDpu",
        "outputId": "079bb246-07d1-4a1c-9490-e605563b22cd"
      },
      "source": [
        "sales_prediction_df['Item_Weight'].max()        #getting the maximum of the Item Weight"
      ],
      "execution_count": 100,
      "outputs": [
        {
          "output_type": "execute_result",
          "data": {
            "text/plain": [
              "21.35"
            ]
          },
          "metadata": {
            "tags": []
          },
          "execution_count": 100
        }
      ]
    },
    {
      "cell_type": "code",
      "metadata": {
        "colab": {
          "base_uri": "https://localhost:8080/"
        },
        "id": "Hrc9VTPtGJiz",
        "outputId": "16d9c7de-c877-43e6-8aaa-bbf1ebca4d40"
      },
      "source": [
        "Weight_mean=sales_prediction_df['Item_Weight'].mean()         #calculating the mean of Item Weight column\n",
        "print(Weight_mean)"
      ],
      "execution_count": 101,
      "outputs": [
        {
          "output_type": "stream",
          "text": [
            "12.857645184136183\n"
          ],
          "name": "stdout"
        }
      ]
    },
    {
      "cell_type": "code",
      "metadata": {
        "colab": {
          "base_uri": "https://localhost:8080/",
          "height": 450
        },
        "id": "V4nyNxeXG-td",
        "outputId": "e03ba673-43ac-4850-f425-b5aadb64548f"
      },
      "source": [
        "pd.set_option('display.max_rows', 10)\n",
        "sales_prediction_df.groupby(['Item_Weight',  'Outlet_Size'])[['Outlet_Size']].count()         #checking if the grouping by Item Weight and Outlet Size give an insight on value to be filled "
      ],
      "execution_count": 102,
      "outputs": [
        {
          "output_type": "execute_result",
          "data": {
            "text/html": [
              "<div>\n",
              "<style scoped>\n",
              "    .dataframe tbody tr th:only-of-type {\n",
              "        vertical-align: middle;\n",
              "    }\n",
              "\n",
              "    .dataframe tbody tr th {\n",
              "        vertical-align: top;\n",
              "    }\n",
              "\n",
              "    .dataframe thead th {\n",
              "        text-align: right;\n",
              "    }\n",
              "</style>\n",
              "<table border=\"1\" class=\"dataframe\">\n",
              "  <thead>\n",
              "    <tr style=\"text-align: right;\">\n",
              "      <th></th>\n",
              "      <th></th>\n",
              "      <th>Outlet_Size</th>\n",
              "    </tr>\n",
              "    <tr>\n",
              "      <th>Item_Weight</th>\n",
              "      <th>Outlet_Size</th>\n",
              "      <th></th>\n",
              "    </tr>\n",
              "  </thead>\n",
              "  <tbody>\n",
              "    <tr>\n",
              "      <th rowspan=\"3\" valign=\"top\">4.555</th>\n",
              "      <th>High</th>\n",
              "      <td>1</td>\n",
              "    </tr>\n",
              "    <tr>\n",
              "      <th>Medium</th>\n",
              "      <td>1</td>\n",
              "    </tr>\n",
              "    <tr>\n",
              "      <th>Small</th>\n",
              "      <td>2</td>\n",
              "    </tr>\n",
              "    <tr>\n",
              "      <th rowspan=\"2\" valign=\"top\">4.590</th>\n",
              "      <th>High</th>\n",
              "      <td>1</td>\n",
              "    </tr>\n",
              "    <tr>\n",
              "      <th>Medium</th>\n",
              "      <td>1</td>\n",
              "    </tr>\n",
              "    <tr>\n",
              "      <th>...</th>\n",
              "      <th>...</th>\n",
              "      <td>...</td>\n",
              "    </tr>\n",
              "    <tr>\n",
              "      <th rowspan=\"2\" valign=\"top\">21.250</th>\n",
              "      <th>Medium</th>\n",
              "      <td>7</td>\n",
              "    </tr>\n",
              "    <tr>\n",
              "      <th>Small</th>\n",
              "      <td>5</td>\n",
              "    </tr>\n",
              "    <tr>\n",
              "      <th rowspan=\"3\" valign=\"top\">21.350</th>\n",
              "      <th>High</th>\n",
              "      <td>1</td>\n",
              "    </tr>\n",
              "    <tr>\n",
              "      <th>Medium</th>\n",
              "      <td>2</td>\n",
              "    </tr>\n",
              "    <tr>\n",
              "      <th>Small</th>\n",
              "      <td>2</td>\n",
              "    </tr>\n",
              "  </tbody>\n",
              "</table>\n",
              "<p>1082 rows × 1 columns</p>\n",
              "</div>"
            ],
            "text/plain": [
              "                         Outlet_Size\n",
              "Item_Weight Outlet_Size             \n",
              "4.555       High                   1\n",
              "            Medium                 1\n",
              "            Small                  2\n",
              "4.590       High                   1\n",
              "            Medium                 1\n",
              "...                              ...\n",
              "21.250      Medium                 7\n",
              "            Small                  5\n",
              "21.350      High                   1\n",
              "            Medium                 2\n",
              "            Small                  2\n",
              "\n",
              "[1082 rows x 1 columns]"
            ]
          },
          "metadata": {
            "tags": []
          },
          "execution_count": 102
        }
      ]
    },
    {
      "cell_type": "code",
      "metadata": {
        "colab": {
          "base_uri": "https://localhost:8080/",
          "height": 450
        },
        "id": "GWXVpTIZNa9c",
        "outputId": "22abacb4-164b-470e-d29b-6fb48cee32a3"
      },
      "source": [
        "sales_prediction_temp_df=sales_prediction_df.loc[(sales_prediction_df['Item_Weight']>12) & (sales_prediction_df['Item_Weight']<13)]   #checking in detail between 12 and 13 because of the mean of the column\n",
        "sales_prediction_temp_df.groupby(['Item_Weight',  'Outlet_Size'])[['Outlet_Size']].count()  #checking the Outlet Size for the Item Weight between 12 and 13"
      ],
      "execution_count": 103,
      "outputs": [
        {
          "output_type": "execute_result",
          "data": {
            "text/html": [
              "<div>\n",
              "<style scoped>\n",
              "    .dataframe tbody tr th:only-of-type {\n",
              "        vertical-align: middle;\n",
              "    }\n",
              "\n",
              "    .dataframe tbody tr th {\n",
              "        vertical-align: top;\n",
              "    }\n",
              "\n",
              "    .dataframe thead th {\n",
              "        text-align: right;\n",
              "    }\n",
              "</style>\n",
              "<table border=\"1\" class=\"dataframe\">\n",
              "  <thead>\n",
              "    <tr style=\"text-align: right;\">\n",
              "      <th></th>\n",
              "      <th></th>\n",
              "      <th>Outlet_Size</th>\n",
              "    </tr>\n",
              "    <tr>\n",
              "      <th>Item_Weight</th>\n",
              "      <th>Outlet_Size</th>\n",
              "      <th></th>\n",
              "    </tr>\n",
              "  </thead>\n",
              "  <tbody>\n",
              "    <tr>\n",
              "      <th rowspan=\"3\" valign=\"top\">12.10</th>\n",
              "      <th>High</th>\n",
              "      <td>6</td>\n",
              "    </tr>\n",
              "    <tr>\n",
              "      <th>Medium</th>\n",
              "      <td>17</td>\n",
              "    </tr>\n",
              "    <tr>\n",
              "      <th>Small</th>\n",
              "      <td>12</td>\n",
              "    </tr>\n",
              "    <tr>\n",
              "      <th rowspan=\"2\" valign=\"top\">12.15</th>\n",
              "      <th>High</th>\n",
              "      <td>11</td>\n",
              "    </tr>\n",
              "    <tr>\n",
              "      <th>Medium</th>\n",
              "      <td>26</td>\n",
              "    </tr>\n",
              "    <tr>\n",
              "      <th>...</th>\n",
              "      <th>...</th>\n",
              "      <td>...</td>\n",
              "    </tr>\n",
              "    <tr>\n",
              "      <th rowspan=\"2\" valign=\"top\">12.80</th>\n",
              "      <th>Medium</th>\n",
              "      <td>7</td>\n",
              "    </tr>\n",
              "    <tr>\n",
              "      <th>Small</th>\n",
              "      <td>6</td>\n",
              "    </tr>\n",
              "    <tr>\n",
              "      <th rowspan=\"3\" valign=\"top\">12.85</th>\n",
              "      <th>High</th>\n",
              "      <td>7</td>\n",
              "    </tr>\n",
              "    <tr>\n",
              "      <th>Medium</th>\n",
              "      <td>16</td>\n",
              "    </tr>\n",
              "    <tr>\n",
              "      <th>Small</th>\n",
              "      <td>12</td>\n",
              "    </tr>\n",
              "  </tbody>\n",
              "</table>\n",
              "<p>27 rows × 1 columns</p>\n",
              "</div>"
            ],
            "text/plain": [
              "                         Outlet_Size\n",
              "Item_Weight Outlet_Size             \n",
              "12.10       High                   6\n",
              "            Medium                17\n",
              "            Small                 12\n",
              "12.15       High                  11\n",
              "            Medium                26\n",
              "...                              ...\n",
              "12.80       Medium                 7\n",
              "            Small                  6\n",
              "12.85       High                   7\n",
              "            Medium                16\n",
              "            Small                 12\n",
              "\n",
              "[27 rows x 1 columns]"
            ]
          },
          "metadata": {
            "tags": []
          },
          "execution_count": 103
        }
      ]
    },
    {
      "cell_type": "code",
      "metadata": {
        "colab": {
          "base_uri": "https://localhost:8080/",
          "height": 49
        },
        "id": "gSN69OalHabr",
        "outputId": "9688e396-1ea8-4e22-ee5d-72402b3b9804"
      },
      "source": [
        "#checking if the missing values rows can be dropped\n",
        "Weight_missing=sales_prediction_df['Item_Weight'].isna()          #checking if the data missing is for the overlapping data points or different data points\n",
        "Outlet_missing=sales_prediction_df['Outlet_Size'].isna()\n",
        "sales_prediction_df.loc[(Weight_missing & Outlet_missing),('Item_Weight', 'Outlet_Size')]"
      ],
      "execution_count": 104,
      "outputs": [
        {
          "output_type": "execute_result",
          "data": {
            "text/html": [
              "<div>\n",
              "<style scoped>\n",
              "    .dataframe tbody tr th:only-of-type {\n",
              "        vertical-align: middle;\n",
              "    }\n",
              "\n",
              "    .dataframe tbody tr th {\n",
              "        vertical-align: top;\n",
              "    }\n",
              "\n",
              "    .dataframe thead th {\n",
              "        text-align: right;\n",
              "    }\n",
              "</style>\n",
              "<table border=\"1\" class=\"dataframe\">\n",
              "  <thead>\n",
              "    <tr style=\"text-align: right;\">\n",
              "      <th></th>\n",
              "      <th>Item_Weight</th>\n",
              "      <th>Outlet_Size</th>\n",
              "    </tr>\n",
              "  </thead>\n",
              "  <tbody>\n",
              "  </tbody>\n",
              "</table>\n",
              "</div>"
            ],
            "text/plain": [
              "Empty DataFrame\n",
              "Columns: [Item_Weight, Outlet_Size]\n",
              "Index: []"
            ]
          },
          "metadata": {
            "tags": []
          },
          "execution_count": 104
        }
      ]
    },
    {
      "cell_type": "markdown",
      "metadata": {
        "id": "LOB4jFKMP7KG"
      },
      "source": [
        "***Since there are no overlapping missing values, if we decide to eliminate the values, we will end up missing total of 3873 values which is about 45% of the data. So eliminating the data is not an option.***"
      ]
    },
    {
      "cell_type": "markdown",
      "metadata": {
        "id": "-d_khPERdmog"
      },
      "source": [
        "# **Filling in the missing data**"
      ]
    },
    {
      "cell_type": "code",
      "metadata": {
        "id": "-8IDlzUcLsa7"
      },
      "source": [
        "sales_prediction_df['Item_Weight'].fillna(Weight_mean, inplace=True)   #Filling in the data in 'Item_Weight' Column by the way of filling in the mean value of the column"
      ],
      "execution_count": 105,
      "outputs": []
    },
    {
      "cell_type": "markdown",
      "metadata": {
        "id": "uSRofWSKMjVe"
      },
      "source": [
        "***'Item_Weight' column is filled in by the mean value of the column. Mean value is around 12.85. Mode / most occured value of the column is also 12.15. This value is close to the value of mean as well.***"
      ]
    },
    {
      "cell_type": "code",
      "metadata": {
        "colab": {
          "base_uri": "https://localhost:8080/"
        },
        "id": "7JC1m4wRL_Ss",
        "outputId": "3dde99ad-8bba-4312-81f3-a01787283314"
      },
      "source": [
        "sales_prediction_df.info()        #verifying that the missing values in column 'Item_Weight' are filled "
      ],
      "execution_count": 106,
      "outputs": [
        {
          "output_type": "stream",
          "text": [
            "<class 'pandas.core.frame.DataFrame'>\n",
            "RangeIndex: 8523 entries, 0 to 8522\n",
            "Data columns (total 12 columns):\n",
            " #   Column                     Non-Null Count  Dtype  \n",
            "---  ------                     --------------  -----  \n",
            " 0   Item_Identifier            8523 non-null   object \n",
            " 1   Item_Weight                8523 non-null   float64\n",
            " 2   Item_Fat_Content           8523 non-null   object \n",
            " 3   Item_Visibility            8523 non-null   float64\n",
            " 4   Item_Type                  8523 non-null   object \n",
            " 5   Item_MRP                   8523 non-null   float64\n",
            " 6   Outlet_Identifier          8523 non-null   object \n",
            " 7   Outlet_Establishment_Year  8523 non-null   int64  \n",
            " 8   Outlet_Size                6113 non-null   object \n",
            " 9   Outlet_Location_Type       8523 non-null   object \n",
            " 10  Outlet_Type                8523 non-null   object \n",
            " 11  Item_Outlet_Sales          8523 non-null   float64\n",
            "dtypes: float64(4), int64(1), object(7)\n",
            "memory usage: 799.2+ KB\n"
          ],
          "name": "stdout"
        }
      ]
    },
    {
      "cell_type": "code",
      "metadata": {
        "id": "1wyFs2CrMKOC"
      },
      "source": [
        "sales_prediction_df['Outlet_Size'].fillna('Medium', inplace=True)  \n",
        "#Filling in the missing values in Outlet Size as the most occured value in the range of 12 to 13 Item Weight"
      ],
      "execution_count": 107,
      "outputs": []
    },
    {
      "cell_type": "markdown",
      "metadata": {
        "id": "8Xvddcj7Y5Kz"
      },
      "source": [
        "***Based on the grouped analysis as per the Item Weight between 12 and 13. As the most occured values are around 12 and 13, Outlet Size estimation is based on the grouped analysis. As most occured Outlet Size value is medium, missing field is filled with that value.***"
      ]
    },
    {
      "cell_type": "code",
      "metadata": {
        "colab": {
          "base_uri": "https://localhost:8080/"
        },
        "id": "_c-jxAD5ZnO2",
        "outputId": "04b04f9c-b21a-49c6-94e8-fea33a1955c1"
      },
      "source": [
        "sales_prediction_df.info()        #making sure there are no missing values anymore"
      ],
      "execution_count": 108,
      "outputs": [
        {
          "output_type": "stream",
          "text": [
            "<class 'pandas.core.frame.DataFrame'>\n",
            "RangeIndex: 8523 entries, 0 to 8522\n",
            "Data columns (total 12 columns):\n",
            " #   Column                     Non-Null Count  Dtype  \n",
            "---  ------                     --------------  -----  \n",
            " 0   Item_Identifier            8523 non-null   object \n",
            " 1   Item_Weight                8523 non-null   float64\n",
            " 2   Item_Fat_Content           8523 non-null   object \n",
            " 3   Item_Visibility            8523 non-null   float64\n",
            " 4   Item_Type                  8523 non-null   object \n",
            " 5   Item_MRP                   8523 non-null   float64\n",
            " 6   Outlet_Identifier          8523 non-null   object \n",
            " 7   Outlet_Establishment_Year  8523 non-null   int64  \n",
            " 8   Outlet_Size                8523 non-null   object \n",
            " 9   Outlet_Location_Type       8523 non-null   object \n",
            " 10  Outlet_Type                8523 non-null   object \n",
            " 11  Item_Outlet_Sales          8523 non-null   float64\n",
            "dtypes: float64(4), int64(1), object(7)\n",
            "memory usage: 799.2+ KB\n"
          ],
          "name": "stdout"
        }
      ]
    },
    {
      "cell_type": "markdown",
      "metadata": {
        "id": "vZtygcQnaLTH"
      },
      "source": [
        "***OBSERVATIONS***\n",
        "\n",
        "***1. Data types for all the columns seems to be correct.***\n",
        "\n",
        "***2.Missing Values only in 2 columns.***\n",
        "\n",
        "***3.This data is from between the year 1985 and 2009.***"
      ]
    },
    {
      "cell_type": "markdown",
      "metadata": {
        "id": "bE4RpgSEd9Xo"
      },
      "source": [
        "# **Checking for inconsistencies and fix it**"
      ]
    },
    {
      "cell_type": "code",
      "metadata": {
        "id": "ChIoM5a8afUv"
      },
      "source": [
        "#verifying for the irregularities for all the columns"
      ],
      "execution_count": 109,
      "outputs": []
    },
    {
      "cell_type": "code",
      "metadata": {
        "colab": {
          "base_uri": "https://localhost:8080/"
        },
        "id": "SufXs_ubaoS7",
        "outputId": "0fe995a6-70a6-43af-c2be-dd9686681365"
      },
      "source": [
        "sales_prediction_df['Item_Identifier'].value_counts()"
      ],
      "execution_count": 110,
      "outputs": [
        {
          "output_type": "execute_result",
          "data": {
            "text/plain": [
              "FDW13    10\n",
              "FDG33    10\n",
              "FDW26     9\n",
              "FDP25     9\n",
              "NCB18     9\n",
              "         ..\n",
              "DRF48     1\n",
              "FDO33     1\n",
              "FDT35     1\n",
              "FDY43     1\n",
              "FDE52     1\n",
              "Name: Item_Identifier, Length: 1559, dtype: int64"
            ]
          },
          "metadata": {
            "tags": []
          },
          "execution_count": 110
        }
      ]
    },
    {
      "cell_type": "code",
      "metadata": {
        "colab": {
          "base_uri": "https://localhost:8080/"
        },
        "id": "hi3_kXssbkZw",
        "outputId": "6d553129-0619-4256-e3e4-1ffe6dc08225"
      },
      "source": [
        "sales_prediction_df['Outlet_Location_Type'].value_counts()"
      ],
      "execution_count": 111,
      "outputs": [
        {
          "output_type": "execute_result",
          "data": {
            "text/plain": [
              "Tier 3    3350\n",
              "Tier 2    2785\n",
              "Tier 1    2388\n",
              "Name: Outlet_Location_Type, dtype: int64"
            ]
          },
          "metadata": {
            "tags": []
          },
          "execution_count": 111
        }
      ]
    },
    {
      "cell_type": "code",
      "metadata": {
        "colab": {
          "base_uri": "https://localhost:8080/"
        },
        "id": "HSOduVpVcAQn",
        "outputId": "48ebc35c-018f-47c8-9ca8-df3545bad144"
      },
      "source": [
        "sales_prediction_df['Outlet_Size'].value_counts()"
      ],
      "execution_count": 112,
      "outputs": [
        {
          "output_type": "execute_result",
          "data": {
            "text/plain": [
              "Medium    5203\n",
              "Small     2388\n",
              "High       932\n",
              "Name: Outlet_Size, dtype: int64"
            ]
          },
          "metadata": {
            "tags": []
          },
          "execution_count": 112
        }
      ]
    },
    {
      "cell_type": "code",
      "metadata": {
        "colab": {
          "base_uri": "https://localhost:8080/"
        },
        "id": "Z_Q54kB-cjAo",
        "outputId": "13cbf469-8ab9-43ed-dbd6-bda05f0a741f"
      },
      "source": [
        "sales_prediction_df['Outlet_Type'].value_counts()"
      ],
      "execution_count": 113,
      "outputs": [
        {
          "output_type": "execute_result",
          "data": {
            "text/plain": [
              "Supermarket Type1    5577\n",
              "Grocery Store        1083\n",
              "Supermarket Type3     935\n",
              "Supermarket Type2     928\n",
              "Name: Outlet_Type, dtype: int64"
            ]
          },
          "metadata": {
            "tags": []
          },
          "execution_count": 113
        }
      ]
    },
    {
      "cell_type": "code",
      "metadata": {
        "colab": {
          "base_uri": "https://localhost:8080/"
        },
        "id": "UhPJzmb5bco0",
        "outputId": "5d514dff-31bf-47b9-9e50-72cf981cd922"
      },
      "source": [
        "sales_prediction_df['Outlet_Establishment_Year'].value_counts()"
      ],
      "execution_count": 114,
      "outputs": [
        {
          "output_type": "execute_result",
          "data": {
            "text/plain": [
              "1985    1463\n",
              "1987     932\n",
              "1999     930\n",
              "1997     930\n",
              "2004     930\n",
              "2002     929\n",
              "2009     928\n",
              "2007     926\n",
              "1998     555\n",
              "Name: Outlet_Establishment_Year, dtype: int64"
            ]
          },
          "metadata": {
            "tags": []
          },
          "execution_count": 114
        }
      ]
    },
    {
      "cell_type": "code",
      "metadata": {
        "id": "jcuXVz4OdfJB",
        "colab": {
          "base_uri": "https://localhost:8080/"
        },
        "outputId": "44524ae5-928a-49c5-d8c5-f6c373a0621c"
      },
      "source": [
        "sales_prediction_df['Item_Fat_Content'].value_counts()"
      ],
      "execution_count": 115,
      "outputs": [
        {
          "output_type": "execute_result",
          "data": {
            "text/plain": [
              "Low Fat    5089\n",
              "Regular    2889\n",
              "LF          316\n",
              "reg         117\n",
              "low fat     112\n",
              "Name: Item_Fat_Content, dtype: int64"
            ]
          },
          "metadata": {
            "tags": []
          },
          "execution_count": 115
        }
      ]
    },
    {
      "cell_type": "markdown",
      "metadata": {
        "id": "JZACTUi9nFn_"
      },
      "source": [
        "***This shows us that there are inconsistencies in the data in the column \"Item_Fat_Content\". Low Fat is entered as Low Fat and also as LF, low Fat. Regular is entered as Regular and also reg. We will need to be careful while dealing with this data.***"
      ]
    },
    {
      "cell_type": "code",
      "metadata": {
        "colab": {
          "base_uri": "https://localhost:8080/"
        },
        "id": "cCBxWHh0UyRh",
        "outputId": "9be41e77-0a71-45e7-cd49-edafc853baa4"
      },
      "source": [
        "#Fixing the irregularities in the column of 'Item_Fat_Content'\n",
        "sales_prediction_df=sales_prediction_df.replace({'Item_Fat_Content' : { 'LF' : 'Low Fat', 'low fat' : 'Low Fat', 'reg' : 'Regular'}})   \n",
        "sales_prediction_df['Item_Fat_Content'].value_counts()"
      ],
      "execution_count": 116,
      "outputs": [
        {
          "output_type": "execute_result",
          "data": {
            "text/plain": [
              "Low Fat    5517\n",
              "Regular    3006\n",
              "Name: Item_Fat_Content, dtype: int64"
            ]
          },
          "metadata": {
            "tags": []
          },
          "execution_count": 116
        }
      ]
    },
    {
      "cell_type": "code",
      "metadata": {
        "colab": {
          "base_uri": "https://localhost:8080/"
        },
        "id": "znwETC6Hmbj9",
        "outputId": "3a56834a-2e3f-42e1-c85b-59b3a24daa95"
      },
      "source": [
        "sales_prediction_df['Outlet_Size'].value_counts()"
      ],
      "execution_count": 117,
      "outputs": [
        {
          "output_type": "execute_result",
          "data": {
            "text/plain": [
              "Medium    5203\n",
              "Small     2388\n",
              "High       932\n",
              "Name: Outlet_Size, dtype: int64"
            ]
          },
          "metadata": {
            "tags": []
          },
          "execution_count": 117
        }
      ]
    },
    {
      "cell_type": "code",
      "metadata": {
        "colab": {
          "base_uri": "https://localhost:8080/"
        },
        "id": "4RCHbbsem8UG",
        "outputId": "845a5929-da43-4073-be7e-05c1f324dcee"
      },
      "source": [
        "sales_prediction_df['Outlet_Identifier'].value_counts()"
      ],
      "execution_count": 118,
      "outputs": [
        {
          "output_type": "execute_result",
          "data": {
            "text/plain": [
              "OUT027    935\n",
              "OUT013    932\n",
              "OUT046    930\n",
              "OUT049    930\n",
              "OUT035    930\n",
              "OUT045    929\n",
              "OUT018    928\n",
              "OUT017    926\n",
              "OUT010    555\n",
              "OUT019    528\n",
              "Name: Outlet_Identifier, dtype: int64"
            ]
          },
          "metadata": {
            "tags": []
          },
          "execution_count": 118
        }
      ]
    },
    {
      "cell_type": "markdown",
      "metadata": {
        "id": "uh3iYv4deaSn"
      },
      "source": [
        "# **Understanding the data and visualisation of the data**"
      ]
    },
    {
      "cell_type": "code",
      "metadata": {
        "id": "erO6kpMMswP-"
      },
      "source": [
        "#checking to see if there is a trend in the sales based on the outlets established in an year\n",
        "sales_prediction_df_TotalSales=sales_prediction_df.groupby(['Outlet_Establishment_Year'])['Item_Outlet_Sales'].sum()       #plotting for sales in the years of establishment"
      ],
      "execution_count": 119,
      "outputs": []
    },
    {
      "cell_type": "code",
      "metadata": {
        "id": "hAGyMX9H2s8C"
      },
      "source": [
        "X1_sales=sales_prediction_df_TotalSales.index\n",
        "Y1_sales=sales_prediction_df_TotalSales.values"
      ],
      "execution_count": 120,
      "outputs": []
    },
    {
      "cell_type": "code",
      "metadata": {
        "colab": {
          "base_uri": "https://localhost:8080/",
          "height": 349
        },
        "id": "n_7wQwYV3CjJ",
        "outputId": "2ebe9393-e763-4b7b-c2c0-4945e5f60cfc"
      },
      "source": [
        "sns.barplot(X1_sales, Y1_sales)\n",
        "plt.title('Sales for Outlets established over the years', fontweight='bold', c='red')\n",
        "plt.ylabel('Total Sales in Dollars', c='red')\n",
        "plt.xlabel('Years', c='red');\n"
      ],
      "execution_count": 121,
      "outputs": [
        {
          "output_type": "stream",
          "text": [
            "/usr/local/lib/python3.7/dist-packages/seaborn/_decorators.py:43: FutureWarning: Pass the following variables as keyword args: x, y. From version 0.12, the only valid positional argument will be `data`, and passing other arguments without an explicit keyword will result in an error or misinterpretation.\n",
            "  FutureWarning\n"
          ],
          "name": "stderr"
        },
        {
          "output_type": "display_data",
          "data": {
            "image/png": "[encoded data removed]",
            "text/plain": [
              "<Figure size 432x288 with 1 Axes>"
            ]
          },
          "metadata": {
            "tags": [],
            "needs_background": "light"
          }
        }
      ]
    },
    {
      "cell_type": "code",
      "metadata": {
        "colab": {
          "base_uri": "https://localhost:8080/",
          "height": 264
        },
        "id": "V1H05o2vV1a5",
        "outputId": "c955aeca-7b1d-4714-975a-0c86a8fb73ab"
      },
      "source": [
        "sales_prediction_df_tier=sales_prediction_df.groupby(['Outlet_Location_Type'])['Item_Outlet_Sales'].sum()     #Plotting a pie chart with the share of sales as per the location\n",
        "Pie_Tier=sales_prediction_df_tier.values\n",
        "Pie_Tier_Lable= sales_prediction_df_tier.index\n",
        "temp=Pie_Tier.sum()\n",
        "\n",
        "for ele in Pie_Tier:\n",
        "   ele=ele/temp*100\n",
        "\n",
        "plt.title('Percent Sales per Tier Shops', c='navy', fontweight='bold')\n",
        "plt.pie(Pie_Tier, autopct='%1.1f%%', labels= Pie_Tier_Lable );"
      ],
      "execution_count": 122,
      "outputs": [
        {
          "output_type": "display_data",
          "data": {
            "image/png": "[encoded data removed]",
            "text/plain": [
              "<Figure size 432x288 with 1 Axes>"
            ]
          },
          "metadata": {
            "tags": []
          }
        }
      ]
    },
    {
      "cell_type": "code",
      "metadata": {
        "id": "o_Euz4IZiZe4"
      },
      "source": [
        "sales_prediction_df_outlets=sales_prediction_df.groupby(['Outlet_Establishment_Year']) ['Outlet_Identifier'].count()      #Plot for no. of outlets established over the years"
      ],
      "execution_count": 123,
      "outputs": []
    },
    {
      "cell_type": "code",
      "metadata": {
        "colab": {
          "base_uri": "https://localhost:8080/",
          "height": 295
        },
        "id": "eMI_V6rmyRno",
        "outputId": "e85a8815-ba12-476e-ed44-866cb5e038ae"
      },
      "source": [
        "outlets_X=sales_prediction_df_outlets.index\n",
        "outlets_Y=sales_prediction_df_outlets.values\n",
        "plt.title('No. of Outlets Established over the Years', fontweight='bold')\n",
        "plt.xlabel('Years')\n",
        "plt.ylabel('No. of Oulets Established')\n",
        "plt.scatter(outlets_X, outlets_Y, c='red');"
      ],
      "execution_count": 124,
      "outputs": [
        {
          "output_type": "display_data",
          "data": {
            "image/png": "[encoded data removed]",
            "text/plain": [
              "<Figure size 432x288 with 1 Axes>"
            ]
          },
          "metadata": {
            "tags": [],
            "needs_background": "light"
          }
        }
      ]
    },
    {
      "cell_type": "markdown",
      "metadata": {
        "id": "I1LLT072jNb_"
      },
      "source": [
        "***Number of outlets established seems to have plateued at around 930. A sudden dip in number of outlets was seen in the year 1998 to 555.***"
      ]
    },
    {
      "cell_type": "code",
      "metadata": {
        "id": "3qBoWajc15I0"
      },
      "source": [
        "sales_prediction_df_outletSize=sales_prediction_df.groupby(['Outlet_Size'])['Item_Outlet_Sales'].sum()        #Plotting for the sales as per the outlet size"
      ],
      "execution_count": 125,
      "outputs": []
    },
    {
      "cell_type": "code",
      "metadata": {
        "colab": {
          "base_uri": "https://localhost:8080/",
          "height": 295
        },
        "id": "WPXBDjXEH-Go",
        "outputId": "d4f43440-9c11-4364-8010-0793b8d1f3c1"
      },
      "source": [
        "sales_prediction_df_outletSize\n",
        "plt.barh(sales_prediction_df_outletSize.index, sales_prediction_df_outletSize.values, color='palevioletred')\n",
        "plt.title('Total Sales based on the Outlet Size', fontweight='bold', c='red')\n",
        "plt.ylabel('Total Sales in Dollars', c='red')\n",
        "plt.xlabel('Outlet Size', c='red');"
      ],
      "execution_count": 126,
      "outputs": [
        {
          "output_type": "display_data",
          "data": {
            "image/png": "[encoded data removed]",
            "text/plain": [
              "<Figure size 432x288 with 1 Axes>"
            ]
          },
          "metadata": {
            "tags": [],
            "needs_background": "light"
          }
        }
      ]
    },
    {
      "cell_type": "code",
      "metadata": {
        "colab": {
          "base_uri": "https://localhost:8080/",
          "height": 295
        },
        "id": "8n846rLfYWxx",
        "outputId": "708272a8-e901-4f8d-a3c9-5447735d056d"
      },
      "source": [
        "sales_prediction_df_fat=sales_prediction_df.groupby(['Item_Fat_Content'])['Item_Outlet_Sales'].sum()        #plotting for sales based on the fat content in food items\n",
        "sales_prediction_df_fat\n",
        "plt.bar(sales_prediction_df_fat.index, sales_prediction_df_fat.values, color='lightgreen')\n",
        "plt.title('Total Sales based on the Fat Content', fontweight='bold', c='red')\n",
        "plt.ylabel('Total Sales in Dollars', c='red')\n",
        "plt.xlabel('Fat Content', c='red');"
      ],
      "execution_count": 127,
      "outputs": [
        {
          "output_type": "display_data",
          "data": {
            "image/png": "[encoded data removed]",
            "text/plain": [
              "<Figure size 432x288 with 1 Axes>"
            ]
          },
          "metadata": {
            "tags": [],
            "needs_background": "light"
          }
        }
      ]
    },
    {
      "cell_type": "code",
      "metadata": {
        "id": "zCCeHeiJzu48",
        "colab": {
          "base_uri": "https://localhost:8080/",
          "height": 204
        },
        "outputId": "842aa97f-69ce-4144-8c6f-8ab858e3c341"
      },
      "source": [
        "sales_prediction_df.corr()     #checking the correlation between the features"
      ],
      "execution_count": 128,
      "outputs": [
        {
          "output_type": "execute_result",
          "data": {
            "text/html": [
              "<div>\n",
              "<style scoped>\n",
              "    .dataframe tbody tr th:only-of-type {\n",
              "        vertical-align: middle;\n",
              "    }\n",
              "\n",
              "    .dataframe tbody tr th {\n",
              "        vertical-align: top;\n",
              "    }\n",
              "\n",
              "    .dataframe thead th {\n",
              "        text-align: right;\n",
              "    }\n",
              "</style>\n",
              "<table border=\"1\" class=\"dataframe\">\n",
              "  <thead>\n",
              "    <tr style=\"text-align: right;\">\n",
              "      <th></th>\n",
              "      <th>Item_Weight</th>\n",
              "      <th>Item_Visibility</th>\n",
              "      <th>Item_MRP</th>\n",
              "      <th>Outlet_Establishment_Year</th>\n",
              "      <th>Item_Outlet_Sales</th>\n",
              "    </tr>\n",
              "  </thead>\n",
              "  <tbody>\n",
              "    <tr>\n",
              "      <th>Item_Weight</th>\n",
              "      <td>1.000000</td>\n",
              "      <td>-0.012049</td>\n",
              "      <td>0.024756</td>\n",
              "      <td>-0.008301</td>\n",
              "      <td>0.011550</td>\n",
              "    </tr>\n",
              "    <tr>\n",
              "      <th>Item_Visibility</th>\n",
              "      <td>-0.012049</td>\n",
              "      <td>1.000000</td>\n",
              "      <td>-0.001315</td>\n",
              "      <td>-0.074834</td>\n",
              "      <td>-0.128625</td>\n",
              "    </tr>\n",
              "    <tr>\n",
              "      <th>Item_MRP</th>\n",
              "      <td>0.024756</td>\n",
              "      <td>-0.001315</td>\n",
              "      <td>1.000000</td>\n",
              "      <td>0.005020</td>\n",
              "      <td>0.567574</td>\n",
              "    </tr>\n",
              "    <tr>\n",
              "      <th>Outlet_Establishment_Year</th>\n",
              "      <td>-0.008301</td>\n",
              "      <td>-0.074834</td>\n",
              "      <td>0.005020</td>\n",
              "      <td>1.000000</td>\n",
              "      <td>-0.049135</td>\n",
              "    </tr>\n",
              "    <tr>\n",
              "      <th>Item_Outlet_Sales</th>\n",
              "      <td>0.011550</td>\n",
              "      <td>-0.128625</td>\n",
              "      <td>0.567574</td>\n",
              "      <td>-0.049135</td>\n",
              "      <td>1.000000</td>\n",
              "    </tr>\n",
              "  </tbody>\n",
              "</table>\n",
              "</div>"
            ],
            "text/plain": [
              "                           Item_Weight  ...  Item_Outlet_Sales\n",
              "Item_Weight                   1.000000  ...           0.011550\n",
              "Item_Visibility              -0.012049  ...          -0.128625\n",
              "Item_MRP                      0.024756  ...           0.567574\n",
              "Outlet_Establishment_Year    -0.008301  ...          -0.049135\n",
              "Item_Outlet_Sales             0.011550  ...           1.000000\n",
              "\n",
              "[5 rows x 5 columns]"
            ]
          },
          "metadata": {
            "tags": []
          },
          "execution_count": 128
        }
      ]
    },
    {
      "cell_type": "code",
      "metadata": {
        "colab": {
          "base_uri": "https://localhost:8080/",
          "height": 204
        },
        "id": "5ZGC1TMNJyIF",
        "outputId": "2b03cfb0-9adb-4bc5-e5c4-4769a6fd82ec"
      },
      "source": [
        "sales_prediction_df.corr().sort_values(by = ['Item_Outlet_Sales'])    #checking the correlation between the features based on the target column"
      ],
      "execution_count": 129,
      "outputs": [
        {
          "output_type": "execute_result",
          "data": {
            "text/html": [
              "<div>\n",
              "<style scoped>\n",
              "    .dataframe tbody tr th:only-of-type {\n",
              "        vertical-align: middle;\n",
              "    }\n",
              "\n",
              "    .dataframe tbody tr th {\n",
              "        vertical-align: top;\n",
              "    }\n",
              "\n",
              "    .dataframe thead th {\n",
              "        text-align: right;\n",
              "    }\n",
              "</style>\n",
              "<table border=\"1\" class=\"dataframe\">\n",
              "  <thead>\n",
              "    <tr style=\"text-align: right;\">\n",
              "      <th></th>\n",
              "      <th>Item_Weight</th>\n",
              "      <th>Item_Visibility</th>\n",
              "      <th>Item_MRP</th>\n",
              "      <th>Outlet_Establishment_Year</th>\n",
              "      <th>Item_Outlet_Sales</th>\n",
              "    </tr>\n",
              "  </thead>\n",
              "  <tbody>\n",
              "    <tr>\n",
              "      <th>Item_Visibility</th>\n",
              "      <td>-0.012049</td>\n",
              "      <td>1.000000</td>\n",
              "      <td>-0.001315</td>\n",
              "      <td>-0.074834</td>\n",
              "      <td>-0.128625</td>\n",
              "    </tr>\n",
              "    <tr>\n",
              "      <th>Outlet_Establishment_Year</th>\n",
              "      <td>-0.008301</td>\n",
              "      <td>-0.074834</td>\n",
              "      <td>0.005020</td>\n",
              "      <td>1.000000</td>\n",
              "      <td>-0.049135</td>\n",
              "    </tr>\n",
              "    <tr>\n",
              "      <th>Item_Weight</th>\n",
              "      <td>1.000000</td>\n",
              "      <td>-0.012049</td>\n",
              "      <td>0.024756</td>\n",
              "      <td>-0.008301</td>\n",
              "      <td>0.011550</td>\n",
              "    </tr>\n",
              "    <tr>\n",
              "      <th>Item_MRP</th>\n",
              "      <td>0.024756</td>\n",
              "      <td>-0.001315</td>\n",
              "      <td>1.000000</td>\n",
              "      <td>0.005020</td>\n",
              "      <td>0.567574</td>\n",
              "    </tr>\n",
              "    <tr>\n",
              "      <th>Item_Outlet_Sales</th>\n",
              "      <td>0.011550</td>\n",
              "      <td>-0.128625</td>\n",
              "      <td>0.567574</td>\n",
              "      <td>-0.049135</td>\n",
              "      <td>1.000000</td>\n",
              "    </tr>\n",
              "  </tbody>\n",
              "</table>\n",
              "</div>"
            ],
            "text/plain": [
              "                           Item_Weight  ...  Item_Outlet_Sales\n",
              "Item_Visibility              -0.012049  ...          -0.128625\n",
              "Outlet_Establishment_Year    -0.008301  ...          -0.049135\n",
              "Item_Weight                   1.000000  ...           0.011550\n",
              "Item_MRP                      0.024756  ...           0.567574\n",
              "Item_Outlet_Sales             0.011550  ...           1.000000\n",
              "\n",
              "[5 rows x 5 columns]"
            ]
          },
          "metadata": {
            "tags": []
          },
          "execution_count": 129
        }
      ]
    },
    {
      "cell_type": "code",
      "metadata": {
        "colab": {
          "base_uri": "https://localhost:8080/",
          "height": 392
        },
        "id": "dPaqONGQNTX-",
        "outputId": "18a1f62d-6469-4ba4-95a1-4e27716fa8be"
      },
      "source": [
        "sns.heatmap(sales_prediction_df.corr().sort_values(by = ['Item_Outlet_Sales']), cmap = sns.diverging_palette(240, 10, n=9));         #checking the correlation between the features in the form of heat map for more clarity\n"
      ],
      "execution_count": 130,
      "outputs": [
        {
          "output_type": "display_data",
          "data": {
            "image/png": "[encoded data removed]",
            "text/plain": [
              "<Figure size 432x288 with 2 Axes>"
            ]
          },
          "metadata": {
            "tags": [],
            "needs_background": "light"
          }
        }
      ]
    },
    {
      "cell_type": "markdown",
      "metadata": {
        "id": "Ny3lkZXNEOfd"
      },
      "source": [
        "***From this map, it is clear that columns 'Item_Weight' and 'Outlet_Establishment_Year' has almost no effect on 'Item_Outlet_Sales'. From the colors, we can conclude that these columns correlation is close to zero.***"
      ]
    },
    {
      "cell_type": "code",
      "metadata": {
        "colab": {
          "base_uri": "https://localhost:8080/",
          "height": 473
        },
        "id": "enZyEOiBJYYV",
        "outputId": "478b85cc-0063-4b4d-92a4-1fb2c13f256c"
      },
      "source": [
        "sales_prediction_df.T"
      ],
      "execution_count": 131,
      "outputs": [
        {
          "output_type": "execute_result",
          "data": {
            "text/html": [
              "<div>\n",
              "<style scoped>\n",
              "    .dataframe tbody tr th:only-of-type {\n",
              "        vertical-align: middle;\n",
              "    }\n",
              "\n",
              "    .dataframe tbody tr th {\n",
              "        vertical-align: top;\n",
              "    }\n",
              "\n",
              "    .dataframe thead th {\n",
              "        text-align: right;\n",
              "    }\n",
              "</style>\n",
              "<table border=\"1\" class=\"dataframe\">\n",
              "  <thead>\n",
              "    <tr style=\"text-align: right;\">\n",
              "      <th></th>\n",
              "      <th>0</th>\n",
              "      <th>1</th>\n",
              "      <th>2</th>\n",
              "      <th>3</th>\n",
              "      <th>4</th>\n",
              "      <th>5</th>\n",
              "      <th>6</th>\n",
              "      <th>7</th>\n",
              "      <th>8</th>\n",
              "      <th>9</th>\n",
              "      <th>10</th>\n",
              "      <th>11</th>\n",
              "      <th>12</th>\n",
              "      <th>13</th>\n",
              "      <th>14</th>\n",
              "      <th>15</th>\n",
              "      <th>16</th>\n",
              "      <th>17</th>\n",
              "      <th>18</th>\n",
              "      <th>19</th>\n",
              "      <th>20</th>\n",
              "      <th>21</th>\n",
              "      <th>22</th>\n",
              "      <th>23</th>\n",
              "      <th>24</th>\n",
              "      <th>25</th>\n",
              "      <th>26</th>\n",
              "      <th>27</th>\n",
              "      <th>28</th>\n",
              "      <th>29</th>\n",
              "      <th>30</th>\n",
              "      <th>31</th>\n",
              "      <th>32</th>\n",
              "      <th>33</th>\n",
              "      <th>34</th>\n",
              "      <th>35</th>\n",
              "      <th>36</th>\n",
              "      <th>37</th>\n",
              "      <th>38</th>\n",
              "      <th>39</th>\n",
              "      <th>...</th>\n",
              "      <th>8483</th>\n",
              "      <th>8484</th>\n",
              "      <th>8485</th>\n",
              "      <th>8486</th>\n",
              "      <th>8487</th>\n",
              "      <th>8488</th>\n",
              "      <th>8489</th>\n",
              "      <th>8490</th>\n",
              "      <th>8491</th>\n",
              "      <th>8492</th>\n",
              "      <th>8493</th>\n",
              "      <th>8494</th>\n",
              "      <th>8495</th>\n",
              "      <th>8496</th>\n",
              "      <th>8497</th>\n",
              "      <th>8498</th>\n",
              "      <th>8499</th>\n",
              "      <th>8500</th>\n",
              "      <th>8501</th>\n",
              "      <th>8502</th>\n",
              "      <th>8503</th>\n",
              "      <th>8504</th>\n",
              "      <th>8505</th>\n",
              "      <th>8506</th>\n",
              "      <th>8507</th>\n",
              "      <th>8508</th>\n",
              "      <th>8509</th>\n",
              "      <th>8510</th>\n",
              "      <th>8511</th>\n",
              "      <th>8512</th>\n",
              "      <th>8513</th>\n",
              "      <th>8514</th>\n",
              "      <th>8515</th>\n",
              "      <th>8516</th>\n",
              "      <th>8517</th>\n",
              "      <th>8518</th>\n",
              "      <th>8519</th>\n",
              "      <th>8520</th>\n",
              "      <th>8521</th>\n",
              "      <th>8522</th>\n",
              "    </tr>\n",
              "  </thead>\n",
              "  <tbody>\n",
              "    <tr>\n",
              "      <th>Item_Identifier</th>\n",
              "      <td>FDA15</td>\n",
              "      <td>DRC01</td>\n",
              "      <td>FDN15</td>\n",
              "      <td>FDX07</td>\n",
              "      <td>NCD19</td>\n",
              "      <td>FDP36</td>\n",
              "      <td>FDO10</td>\n",
              "      <td>FDP10</td>\n",
              "      <td>FDH17</td>\n",
              "      <td>FDU28</td>\n",
              "      <td>FDY07</td>\n",
              "      <td>FDA03</td>\n",
              "      <td>FDX32</td>\n",
              "      <td>FDS46</td>\n",
              "      <td>FDF32</td>\n",
              "      <td>FDP49</td>\n",
              "      <td>NCB42</td>\n",
              "      <td>FDP49</td>\n",
              "      <td>DRI11</td>\n",
              "      <td>FDU02</td>\n",
              "      <td>FDN22</td>\n",
              "      <td>FDW12</td>\n",
              "      <td>NCB30</td>\n",
              "      <td>FDC37</td>\n",
              "      <td>FDR28</td>\n",
              "      <td>NCD06</td>\n",
              "      <td>FDV10</td>\n",
              "      <td>DRJ59</td>\n",
              "      <td>FDE51</td>\n",
              "      <td>FDC14</td>\n",
              "      <td>FDV38</td>\n",
              "      <td>NCS17</td>\n",
              "      <td>FDP33</td>\n",
              "      <td>FDO23</td>\n",
              "      <td>DRH01</td>\n",
              "      <td>NCX29</td>\n",
              "      <td>FDV20</td>\n",
              "      <td>DRZ11</td>\n",
              "      <td>FDX10</td>\n",
              "      <td>FDB34</td>\n",
              "      <td>...</td>\n",
              "      <td>DRI11</td>\n",
              "      <td>DRJ49</td>\n",
              "      <td>DRK37</td>\n",
              "      <td>FDR20</td>\n",
              "      <td>DRG13</td>\n",
              "      <td>NCN14</td>\n",
              "      <td>FDV13</td>\n",
              "      <td>FDU44</td>\n",
              "      <td>FDO03</td>\n",
              "      <td>FDT34</td>\n",
              "      <td>FDP21</td>\n",
              "      <td>NCI54</td>\n",
              "      <td>FDE22</td>\n",
              "      <td>FDJ57</td>\n",
              "      <td>FDT08</td>\n",
              "      <td>NCP54</td>\n",
              "      <td>NCK53</td>\n",
              "      <td>NCQ42</td>\n",
              "      <td>FDW21</td>\n",
              "      <td>NCH43</td>\n",
              "      <td>FDQ44</td>\n",
              "      <td>NCN18</td>\n",
              "      <td>FDB46</td>\n",
              "      <td>DRF37</td>\n",
              "      <td>FDN28</td>\n",
              "      <td>FDW31</td>\n",
              "      <td>FDG45</td>\n",
              "      <td>FDN58</td>\n",
              "      <td>FDF05</td>\n",
              "      <td>FDR26</td>\n",
              "      <td>FDH31</td>\n",
              "      <td>FDA01</td>\n",
              "      <td>FDH24</td>\n",
              "      <td>NCJ19</td>\n",
              "      <td>FDF53</td>\n",
              "      <td>FDF22</td>\n",
              "      <td>FDS36</td>\n",
              "      <td>NCJ29</td>\n",
              "      <td>FDN46</td>\n",
              "      <td>DRG01</td>\n",
              "    </tr>\n",
              "    <tr>\n",
              "      <th>Item_Weight</th>\n",
              "      <td>9.3</td>\n",
              "      <td>5.92</td>\n",
              "      <td>17.5</td>\n",
              "      <td>19.2</td>\n",
              "      <td>8.93</td>\n",
              "      <td>10.395</td>\n",
              "      <td>13.65</td>\n",
              "      <td>12.8576</td>\n",
              "      <td>16.2</td>\n",
              "      <td>19.2</td>\n",
              "      <td>11.8</td>\n",
              "      <td>18.5</td>\n",
              "      <td>15.1</td>\n",
              "      <td>17.6</td>\n",
              "      <td>16.35</td>\n",
              "      <td>9</td>\n",
              "      <td>11.8</td>\n",
              "      <td>9</td>\n",
              "      <td>12.8576</td>\n",
              "      <td>13.35</td>\n",
              "      <td>18.85</td>\n",
              "      <td>12.8576</td>\n",
              "      <td>14.6</td>\n",
              "      <td>12.8576</td>\n",
              "      <td>13.85</td>\n",
              "      <td>13</td>\n",
              "      <td>7.645</td>\n",
              "      <td>11.65</td>\n",
              "      <td>5.925</td>\n",
              "      <td>12.8576</td>\n",
              "      <td>19.25</td>\n",
              "      <td>18.6</td>\n",
              "      <td>18.7</td>\n",
              "      <td>17.85</td>\n",
              "      <td>17.5</td>\n",
              "      <td>10</td>\n",
              "      <td>12.8576</td>\n",
              "      <td>8.85</td>\n",
              "      <td>12.8576</td>\n",
              "      <td>12.8576</td>\n",
              "      <td>...</td>\n",
              "      <td>8.26</td>\n",
              "      <td>6.865</td>\n",
              "      <td>12.8576</td>\n",
              "      <td>20</td>\n",
              "      <td>12.8576</td>\n",
              "      <td>12.8576</td>\n",
              "      <td>17.35</td>\n",
              "      <td>12.8576</td>\n",
              "      <td>10.395</td>\n",
              "      <td>9.3</td>\n",
              "      <td>7.42</td>\n",
              "      <td>15.2</td>\n",
              "      <td>9.695</td>\n",
              "      <td>7.42</td>\n",
              "      <td>13.65</td>\n",
              "      <td>15.35</td>\n",
              "      <td>11.6</td>\n",
              "      <td>20.35</td>\n",
              "      <td>5.34</td>\n",
              "      <td>8.42</td>\n",
              "      <td>20.5</td>\n",
              "      <td>12.8576</td>\n",
              "      <td>10.5</td>\n",
              "      <td>17.25</td>\n",
              "      <td>5.88</td>\n",
              "      <td>11.35</td>\n",
              "      <td>8.1</td>\n",
              "      <td>13.8</td>\n",
              "      <td>17.5</td>\n",
              "      <td>20.7</td>\n",
              "      <td>12</td>\n",
              "      <td>15</td>\n",
              "      <td>20.7</td>\n",
              "      <td>18.6</td>\n",
              "      <td>20.75</td>\n",
              "      <td>6.865</td>\n",
              "      <td>8.38</td>\n",
              "      <td>10.6</td>\n",
              "      <td>7.21</td>\n",
              "      <td>14.8</td>\n",
              "    </tr>\n",
              "    <tr>\n",
              "      <th>Item_Fat_Content</th>\n",
              "      <td>Low Fat</td>\n",
              "      <td>Regular</td>\n",
              "      <td>Low Fat</td>\n",
              "      <td>Regular</td>\n",
              "      <td>Low Fat</td>\n",
              "      <td>Regular</td>\n",
              "      <td>Regular</td>\n",
              "      <td>Low Fat</td>\n",
              "      <td>Regular</td>\n",
              "      <td>Regular</td>\n",
              "      <td>Low Fat</td>\n",
              "      <td>Regular</td>\n",
              "      <td>Regular</td>\n",
              "      <td>Regular</td>\n",
              "      <td>Low Fat</td>\n",
              "      <td>Regular</td>\n",
              "      <td>Low Fat</td>\n",
              "      <td>Regular</td>\n",
              "      <td>Low Fat</td>\n",
              "      <td>Low Fat</td>\n",
              "      <td>Regular</td>\n",
              "      <td>Regular</td>\n",
              "      <td>Low Fat</td>\n",
              "      <td>Low Fat</td>\n",
              "      <td>Regular</td>\n",
              "      <td>Low Fat</td>\n",
              "      <td>Regular</td>\n",
              "      <td>Low Fat</td>\n",
              "      <td>Regular</td>\n",
              "      <td>Regular</td>\n",
              "      <td>Low Fat</td>\n",
              "      <td>Low Fat</td>\n",
              "      <td>Low Fat</td>\n",
              "      <td>Low Fat</td>\n",
              "      <td>Low Fat</td>\n",
              "      <td>Low Fat</td>\n",
              "      <td>Regular</td>\n",
              "      <td>Regular</td>\n",
              "      <td>Regular</td>\n",
              "      <td>Low Fat</td>\n",
              "      <td>...</td>\n",
              "      <td>Low Fat</td>\n",
              "      <td>Low Fat</td>\n",
              "      <td>Low Fat</td>\n",
              "      <td>Regular</td>\n",
              "      <td>Low Fat</td>\n",
              "      <td>Low Fat</td>\n",
              "      <td>Regular</td>\n",
              "      <td>Regular</td>\n",
              "      <td>Regular</td>\n",
              "      <td>Low Fat</td>\n",
              "      <td>Regular</td>\n",
              "      <td>Low Fat</td>\n",
              "      <td>Low Fat</td>\n",
              "      <td>Regular</td>\n",
              "      <td>Low Fat</td>\n",
              "      <td>Low Fat</td>\n",
              "      <td>Low Fat</td>\n",
              "      <td>Low Fat</td>\n",
              "      <td>Regular</td>\n",
              "      <td>Low Fat</td>\n",
              "      <td>Low Fat</td>\n",
              "      <td>Low Fat</td>\n",
              "      <td>Regular</td>\n",
              "      <td>Low Fat</td>\n",
              "      <td>Regular</td>\n",
              "      <td>Regular</td>\n",
              "      <td>Low Fat</td>\n",
              "      <td>Regular</td>\n",
              "      <td>Low Fat</td>\n",
              "      <td>Low Fat</td>\n",
              "      <td>Regular</td>\n",
              "      <td>Regular</td>\n",
              "      <td>Low Fat</td>\n",
              "      <td>Low Fat</td>\n",
              "      <td>Regular</td>\n",
              "      <td>Low Fat</td>\n",
              "      <td>Regular</td>\n",
              "      <td>Low Fat</td>\n",
              "      <td>Regular</td>\n",
              "      <td>Low Fat</td>\n",
              "    </tr>\n",
              "    <tr>\n",
              "      <th>Item_Visibility</th>\n",
              "      <td>0.0160473</td>\n",
              "      <td>0.0192782</td>\n",
              "      <td>0.0167601</td>\n",
              "      <td>0</td>\n",
              "      <td>0</td>\n",
              "      <td>0</td>\n",
              "      <td>0.0127411</td>\n",
              "      <td>0.12747</td>\n",
              "      <td>0.0166871</td>\n",
              "      <td>0.0944496</td>\n",
              "      <td>0</td>\n",
              "      <td>0.0454638</td>\n",
              "      <td>0.100014</td>\n",
              "      <td>0.0472573</td>\n",
              "      <td>0.0680243</td>\n",
              "      <td>0.069089</td>\n",
              "      <td>0.00859605</td>\n",
              "      <td>0.0691964</td>\n",
              "      <td>0.0342377</td>\n",
              "      <td>0.102492</td>\n",
              "      <td>0.13819</td>\n",
              "      <td>0.0353999</td>\n",
              "      <td>0.0256981</td>\n",
              "      <td>0.057557</td>\n",
              "      <td>0.0258965</td>\n",
              "      <td>0.0998871</td>\n",
              "      <td>0.0666934</td>\n",
              "      <td>0.0193561</td>\n",
              "      <td>0.161467</td>\n",
              "      <td>0.0722218</td>\n",
              "      <td>0.170349</td>\n",
              "      <td>0.0808294</td>\n",
              "      <td>0</td>\n",
              "      <td>0</td>\n",
              "      <td>0.097904</td>\n",
              "      <td>0.0892911</td>\n",
              "      <td>0.0595118</td>\n",
              "      <td>0.113124</td>\n",
              "      <td>0.123111</td>\n",
              "      <td>0.026481</td>\n",
              "      <td>...</td>\n",
              "      <td>0.0344741</td>\n",
              "      <td>0</td>\n",
              "      <td>0.0437916</td>\n",
              "      <td>0</td>\n",
              "      <td>0.0370061</td>\n",
              "      <td>0.0914727</td>\n",
              "      <td>0.0277233</td>\n",
              "      <td>0.102296</td>\n",
              "      <td>0.0370332</td>\n",
              "      <td>0.17435</td>\n",
              "      <td>0.0258864</td>\n",
              "      <td>0</td>\n",
              "      <td>0.0295672</td>\n",
              "      <td>0.0216957</td>\n",
              "      <td>0.0492092</td>\n",
              "      <td>0.0352929</td>\n",
              "      <td>0.0375741</td>\n",
              "      <td>0</td>\n",
              "      <td>0.00599762</td>\n",
              "      <td>0.070712</td>\n",
              "      <td>0.0361335</td>\n",
              "      <td>0.124111</td>\n",
              "      <td>0.0941458</td>\n",
              "      <td>0.0846762</td>\n",
              "      <td>0.0302422</td>\n",
              "      <td>0.0432456</td>\n",
              "      <td>0.214306</td>\n",
              "      <td>0.0568616</td>\n",
              "      <td>0.0269804</td>\n",
              "      <td>0.0428011</td>\n",
              "      <td>0.0204073</td>\n",
              "      <td>0.0544885</td>\n",
              "      <td>0.0215184</td>\n",
              "      <td>0.118661</td>\n",
              "      <td>0.0836066</td>\n",
              "      <td>0.0567834</td>\n",
              "      <td>0.0469824</td>\n",
              "      <td>0.0351863</td>\n",
              "      <td>0.145221</td>\n",
              "      <td>0.0448783</td>\n",
              "    </tr>\n",
              "    <tr>\n",
              "      <th>Item_Type</th>\n",
              "      <td>Dairy</td>\n",
              "      <td>Soft Drinks</td>\n",
              "      <td>Meat</td>\n",
              "      <td>Fruits and Vegetables</td>\n",
              "      <td>Household</td>\n",
              "      <td>Baking Goods</td>\n",
              "      <td>Snack Foods</td>\n",
              "      <td>Snack Foods</td>\n",
              "      <td>Frozen Foods</td>\n",
              "      <td>Frozen Foods</td>\n",
              "      <td>Fruits and Vegetables</td>\n",
              "      <td>Dairy</td>\n",
              "      <td>Fruits and Vegetables</td>\n",
              "      <td>Snack Foods</td>\n",
              "      <td>Fruits and Vegetables</td>\n",
              "      <td>Breakfast</td>\n",
              "      <td>Health and Hygiene</td>\n",
              "      <td>Breakfast</td>\n",
              "      <td>Hard Drinks</td>\n",
              "      <td>Dairy</td>\n",
              "      <td>Snack Foods</td>\n",
              "      <td>Baking Goods</td>\n",
              "      <td>Household</td>\n",
              "      <td>Baking Goods</td>\n",
              "      <td>Frozen Foods</td>\n",
              "      <td>Household</td>\n",
              "      <td>Snack Foods</td>\n",
              "      <td>Hard Drinks</td>\n",
              "      <td>Dairy</td>\n",
              "      <td>Canned</td>\n",
              "      <td>Dairy</td>\n",
              "      <td>Health and Hygiene</td>\n",
              "      <td>Snack Foods</td>\n",
              "      <td>Breads</td>\n",
              "      <td>Soft Drinks</td>\n",
              "      <td>Health and Hygiene</td>\n",
              "      <td>Fruits and Vegetables</td>\n",
              "      <td>Soft Drinks</td>\n",
              "      <td>Snack Foods</td>\n",
              "      <td>Snack Foods</td>\n",
              "      <td>...</td>\n",
              "      <td>Hard Drinks</td>\n",
              "      <td>Soft Drinks</td>\n",
              "      <td>Soft Drinks</td>\n",
              "      <td>Fruits and Vegetables</td>\n",
              "      <td>Soft Drinks</td>\n",
              "      <td>Others</td>\n",
              "      <td>Canned</td>\n",
              "      <td>Fruits and Vegetables</td>\n",
              "      <td>Meat</td>\n",
              "      <td>Snack Foods</td>\n",
              "      <td>Snack Foods</td>\n",
              "      <td>Household</td>\n",
              "      <td>Snack Foods</td>\n",
              "      <td>Seafood</td>\n",
              "      <td>Fruits and Vegetables</td>\n",
              "      <td>Household</td>\n",
              "      <td>Health and Hygiene</td>\n",
              "      <td>Household</td>\n",
              "      <td>Snack Foods</td>\n",
              "      <td>Household</td>\n",
              "      <td>Fruits and Vegetables</td>\n",
              "      <td>Household</td>\n",
              "      <td>Snack Foods</td>\n",
              "      <td>Soft Drinks</td>\n",
              "      <td>Frozen Foods</td>\n",
              "      <td>Fruits and Vegetables</td>\n",
              "      <td>Fruits and Vegetables</td>\n",
              "      <td>Snack Foods</td>\n",
              "      <td>Frozen Foods</td>\n",
              "      <td>Dairy</td>\n",
              "      <td>Meat</td>\n",
              "      <td>Canned</td>\n",
              "      <td>Baking Goods</td>\n",
              "      <td>Others</td>\n",
              "      <td>Frozen Foods</td>\n",
              "      <td>Snack Foods</td>\n",
              "      <td>Baking Goods</td>\n",
              "      <td>Health and Hygiene</td>\n",
              "      <td>Snack Foods</td>\n",
              "      <td>Soft Drinks</td>\n",
              "    </tr>\n",
              "    <tr>\n",
              "      <th>...</th>\n",
              "      <td>...</td>\n",
              "      <td>...</td>\n",
              "      <td>...</td>\n",
              "      <td>...</td>\n",
              "      <td>...</td>\n",
              "      <td>...</td>\n",
              "      <td>...</td>\n",
              "      <td>...</td>\n",
              "      <td>...</td>\n",
              "      <td>...</td>\n",
              "      <td>...</td>\n",
              "      <td>...</td>\n",
              "      <td>...</td>\n",
              "      <td>...</td>\n",
              "      <td>...</td>\n",
              "      <td>...</td>\n",
              "      <td>...</td>\n",
              "      <td>...</td>\n",
              "      <td>...</td>\n",
              "      <td>...</td>\n",
              "      <td>...</td>\n",
              "      <td>...</td>\n",
              "      <td>...</td>\n",
              "      <td>...</td>\n",
              "      <td>...</td>\n",
              "      <td>...</td>\n",
              "      <td>...</td>\n",
              "      <td>...</td>\n",
              "      <td>...</td>\n",
              "      <td>...</td>\n",
              "      <td>...</td>\n",
              "      <td>...</td>\n",
              "      <td>...</td>\n",
              "      <td>...</td>\n",
              "      <td>...</td>\n",
              "      <td>...</td>\n",
              "      <td>...</td>\n",
              "      <td>...</td>\n",
              "      <td>...</td>\n",
              "      <td>...</td>\n",
              "      <td>...</td>\n",
              "      <td>...</td>\n",
              "      <td>...</td>\n",
              "      <td>...</td>\n",
              "      <td>...</td>\n",
              "      <td>...</td>\n",
              "      <td>...</td>\n",
              "      <td>...</td>\n",
              "      <td>...</td>\n",
              "      <td>...</td>\n",
              "      <td>...</td>\n",
              "      <td>...</td>\n",
              "      <td>...</td>\n",
              "      <td>...</td>\n",
              "      <td>...</td>\n",
              "      <td>...</td>\n",
              "      <td>...</td>\n",
              "      <td>...</td>\n",
              "      <td>...</td>\n",
              "      <td>...</td>\n",
              "      <td>...</td>\n",
              "      <td>...</td>\n",
              "      <td>...</td>\n",
              "      <td>...</td>\n",
              "      <td>...</td>\n",
              "      <td>...</td>\n",
              "      <td>...</td>\n",
              "      <td>...</td>\n",
              "      <td>...</td>\n",
              "      <td>...</td>\n",
              "      <td>...</td>\n",
              "      <td>...</td>\n",
              "      <td>...</td>\n",
              "      <td>...</td>\n",
              "      <td>...</td>\n",
              "      <td>...</td>\n",
              "      <td>...</td>\n",
              "      <td>...</td>\n",
              "      <td>...</td>\n",
              "      <td>...</td>\n",
              "      <td>...</td>\n",
              "    </tr>\n",
              "    <tr>\n",
              "      <th>Outlet_Establishment_Year</th>\n",
              "      <td>1999</td>\n",
              "      <td>2009</td>\n",
              "      <td>1999</td>\n",
              "      <td>1998</td>\n",
              "      <td>1987</td>\n",
              "      <td>2009</td>\n",
              "      <td>1987</td>\n",
              "      <td>1985</td>\n",
              "      <td>2002</td>\n",
              "      <td>2007</td>\n",
              "      <td>1999</td>\n",
              "      <td>1997</td>\n",
              "      <td>1999</td>\n",
              "      <td>1997</td>\n",
              "      <td>1987</td>\n",
              "      <td>1997</td>\n",
              "      <td>2009</td>\n",
              "      <td>1999</td>\n",
              "      <td>1985</td>\n",
              "      <td>2004</td>\n",
              "      <td>1987</td>\n",
              "      <td>1985</td>\n",
              "      <td>2004</td>\n",
              "      <td>1985</td>\n",
              "      <td>1997</td>\n",
              "      <td>2007</td>\n",
              "      <td>2004</td>\n",
              "      <td>1987</td>\n",
              "      <td>1998</td>\n",
              "      <td>1985</td>\n",
              "      <td>1998</td>\n",
              "      <td>2009</td>\n",
              "      <td>2009</td>\n",
              "      <td>2002</td>\n",
              "      <td>1997</td>\n",
              "      <td>1999</td>\n",
              "      <td>1985</td>\n",
              "      <td>2009</td>\n",
              "      <td>1985</td>\n",
              "      <td>1985</td>\n",
              "      <td>...</td>\n",
              "      <td>2002</td>\n",
              "      <td>1987</td>\n",
              "      <td>1985</td>\n",
              "      <td>1998</td>\n",
              "      <td>1985</td>\n",
              "      <td>1985</td>\n",
              "      <td>2009</td>\n",
              "      <td>1985</td>\n",
              "      <td>2009</td>\n",
              "      <td>1997</td>\n",
              "      <td>2007</td>\n",
              "      <td>2007</td>\n",
              "      <td>2004</td>\n",
              "      <td>2007</td>\n",
              "      <td>2004</td>\n",
              "      <td>2009</td>\n",
              "      <td>2004</td>\n",
              "      <td>2007</td>\n",
              "      <td>2007</td>\n",
              "      <td>2002</td>\n",
              "      <td>2004</td>\n",
              "      <td>1985</td>\n",
              "      <td>2009</td>\n",
              "      <td>2009</td>\n",
              "      <td>2004</td>\n",
              "      <td>2002</td>\n",
              "      <td>1998</td>\n",
              "      <td>2004</td>\n",
              "      <td>2009</td>\n",
              "      <td>1987</td>\n",
              "      <td>2004</td>\n",
              "      <td>2002</td>\n",
              "      <td>2009</td>\n",
              "      <td>2009</td>\n",
              "      <td>1997</td>\n",
              "      <td>1987</td>\n",
              "      <td>2002</td>\n",
              "      <td>2004</td>\n",
              "      <td>2009</td>\n",
              "      <td>1997</td>\n",
              "    </tr>\n",
              "    <tr>\n",
              "      <th>Outlet_Size</th>\n",
              "      <td>Medium</td>\n",
              "      <td>Medium</td>\n",
              "      <td>Medium</td>\n",
              "      <td>Medium</td>\n",
              "      <td>High</td>\n",
              "      <td>Medium</td>\n",
              "      <td>High</td>\n",
              "      <td>Medium</td>\n",
              "      <td>Medium</td>\n",
              "      <td>Medium</td>\n",
              "      <td>Medium</td>\n",
              "      <td>Small</td>\n",
              "      <td>Medium</td>\n",
              "      <td>Small</td>\n",
              "      <td>High</td>\n",
              "      <td>Small</td>\n",
              "      <td>Medium</td>\n",
              "      <td>Medium</td>\n",
              "      <td>Medium</td>\n",
              "      <td>Small</td>\n",
              "      <td>High</td>\n",
              "      <td>Medium</td>\n",
              "      <td>Small</td>\n",
              "      <td>Small</td>\n",
              "      <td>Small</td>\n",
              "      <td>Medium</td>\n",
              "      <td>Small</td>\n",
              "      <td>High</td>\n",
              "      <td>Medium</td>\n",
              "      <td>Small</td>\n",
              "      <td>Medium</td>\n",
              "      <td>Medium</td>\n",
              "      <td>Medium</td>\n",
              "      <td>Medium</td>\n",
              "      <td>Small</td>\n",
              "      <td>Medium</td>\n",
              "      <td>Medium</td>\n",
              "      <td>Medium</td>\n",
              "      <td>Medium</td>\n",
              "      <td>Medium</td>\n",
              "      <td>...</td>\n",
              "      <td>Medium</td>\n",
              "      <td>High</td>\n",
              "      <td>Medium</td>\n",
              "      <td>Medium</td>\n",
              "      <td>Medium</td>\n",
              "      <td>Medium</td>\n",
              "      <td>Medium</td>\n",
              "      <td>Small</td>\n",
              "      <td>Medium</td>\n",
              "      <td>Small</td>\n",
              "      <td>Medium</td>\n",
              "      <td>Medium</td>\n",
              "      <td>Small</td>\n",
              "      <td>Medium</td>\n",
              "      <td>Small</td>\n",
              "      <td>Medium</td>\n",
              "      <td>Small</td>\n",
              "      <td>Medium</td>\n",
              "      <td>Medium</td>\n",
              "      <td>Medium</td>\n",
              "      <td>Small</td>\n",
              "      <td>Medium</td>\n",
              "      <td>Medium</td>\n",
              "      <td>Medium</td>\n",
              "      <td>Small</td>\n",
              "      <td>Medium</td>\n",
              "      <td>Medium</td>\n",
              "      <td>Small</td>\n",
              "      <td>Medium</td>\n",
              "      <td>High</td>\n",
              "      <td>Small</td>\n",
              "      <td>Medium</td>\n",
              "      <td>Medium</td>\n",
              "      <td>Medium</td>\n",
              "      <td>Small</td>\n",
              "      <td>High</td>\n",
              "      <td>Medium</td>\n",
              "      <td>Small</td>\n",
              "      <td>Medium</td>\n",
              "      <td>Small</td>\n",
              "    </tr>\n",
              "    <tr>\n",
              "      <th>Outlet_Location_Type</th>\n",
              "      <td>Tier 1</td>\n",
              "      <td>Tier 3</td>\n",
              "      <td>Tier 1</td>\n",
              "      <td>Tier 3</td>\n",
              "      <td>Tier 3</td>\n",
              "      <td>Tier 3</td>\n",
              "      <td>Tier 3</td>\n",
              "      <td>Tier 3</td>\n",
              "      <td>Tier 2</td>\n",
              "      <td>Tier 2</td>\n",
              "      <td>Tier 1</td>\n",
              "      <td>Tier 1</td>\n",
              "      <td>Tier 1</td>\n",
              "      <td>Tier 1</td>\n",
              "      <td>Tier 3</td>\n",
              "      <td>Tier 1</td>\n",
              "      <td>Tier 3</td>\n",
              "      <td>Tier 1</td>\n",
              "      <td>Tier 3</td>\n",
              "      <td>Tier 2</td>\n",
              "      <td>Tier 3</td>\n",
              "      <td>Tier 3</td>\n",
              "      <td>Tier 2</td>\n",
              "      <td>Tier 1</td>\n",
              "      <td>Tier 1</td>\n",
              "      <td>Tier 2</td>\n",
              "      <td>Tier 2</td>\n",
              "      <td>Tier 3</td>\n",
              "      <td>Tier 3</td>\n",
              "      <td>Tier 1</td>\n",
              "      <td>Tier 3</td>\n",
              "      <td>Tier 3</td>\n",
              "      <td>Tier 3</td>\n",
              "      <td>Tier 2</td>\n",
              "      <td>Tier 1</td>\n",
              "      <td>Tier 1</td>\n",
              "      <td>Tier 3</td>\n",
              "      <td>Tier 3</td>\n",
              "      <td>Tier 3</td>\n",
              "      <td>Tier 3</td>\n",
              "      <td>...</td>\n",
              "      <td>Tier 2</td>\n",
              "      <td>Tier 3</td>\n",
              "      <td>Tier 3</td>\n",
              "      <td>Tier 3</td>\n",
              "      <td>Tier 3</td>\n",
              "      <td>Tier 3</td>\n",
              "      <td>Tier 3</td>\n",
              "      <td>Tier 1</td>\n",
              "      <td>Tier 3</td>\n",
              "      <td>Tier 1</td>\n",
              "      <td>Tier 2</td>\n",
              "      <td>Tier 2</td>\n",
              "      <td>Tier 2</td>\n",
              "      <td>Tier 2</td>\n",
              "      <td>Tier 2</td>\n",
              "      <td>Tier 3</td>\n",
              "      <td>Tier 2</td>\n",
              "      <td>Tier 2</td>\n",
              "      <td>Tier 2</td>\n",
              "      <td>Tier 2</td>\n",
              "      <td>Tier 2</td>\n",
              "      <td>Tier 3</td>\n",
              "      <td>Tier 3</td>\n",
              "      <td>Tier 3</td>\n",
              "      <td>Tier 2</td>\n",
              "      <td>Tier 2</td>\n",
              "      <td>Tier 3</td>\n",
              "      <td>Tier 2</td>\n",
              "      <td>Tier 3</td>\n",
              "      <td>Tier 3</td>\n",
              "      <td>Tier 2</td>\n",
              "      <td>Tier 2</td>\n",
              "      <td>Tier 3</td>\n",
              "      <td>Tier 3</td>\n",
              "      <td>Tier 1</td>\n",
              "      <td>Tier 3</td>\n",
              "      <td>Tier 2</td>\n",
              "      <td>Tier 2</td>\n",
              "      <td>Tier 3</td>\n",
              "      <td>Tier 1</td>\n",
              "    </tr>\n",
              "    <tr>\n",
              "      <th>Outlet_Type</th>\n",
              "      <td>Supermarket Type1</td>\n",
              "      <td>Supermarket Type2</td>\n",
              "      <td>Supermarket Type1</td>\n",
              "      <td>Grocery Store</td>\n",
              "      <td>Supermarket Type1</td>\n",
              "      <td>Supermarket Type2</td>\n",
              "      <td>Supermarket Type1</td>\n",
              "      <td>Supermarket Type3</td>\n",
              "      <td>Supermarket Type1</td>\n",
              "      <td>Supermarket Type1</td>\n",
              "      <td>Supermarket Type1</td>\n",
              "      <td>Supermarket Type1</td>\n",
              "      <td>Supermarket Type1</td>\n",
              "      <td>Supermarket Type1</td>\n",
              "      <td>Supermarket Type1</td>\n",
              "      <td>Supermarket Type1</td>\n",
              "      <td>Supermarket Type2</td>\n",
              "      <td>Supermarket Type1</td>\n",
              "      <td>Supermarket Type3</td>\n",
              "      <td>Supermarket Type1</td>\n",
              "      <td>Supermarket Type1</td>\n",
              "      <td>Supermarket Type3</td>\n",
              "      <td>Supermarket Type1</td>\n",
              "      <td>Grocery Store</td>\n",
              "      <td>Supermarket Type1</td>\n",
              "      <td>Supermarket Type1</td>\n",
              "      <td>Supermarket Type1</td>\n",
              "      <td>Supermarket Type1</td>\n",
              "      <td>Grocery Store</td>\n",
              "      <td>Grocery Store</td>\n",
              "      <td>Grocery Store</td>\n",
              "      <td>Supermarket Type2</td>\n",
              "      <td>Supermarket Type2</td>\n",
              "      <td>Supermarket Type1</td>\n",
              "      <td>Supermarket Type1</td>\n",
              "      <td>Supermarket Type1</td>\n",
              "      <td>Supermarket Type3</td>\n",
              "      <td>Supermarket Type2</td>\n",
              "      <td>Supermarket Type3</td>\n",
              "      <td>Supermarket Type3</td>\n",
              "      <td>...</td>\n",
              "      <td>Supermarket Type1</td>\n",
              "      <td>Supermarket Type1</td>\n",
              "      <td>Supermarket Type3</td>\n",
              "      <td>Grocery Store</td>\n",
              "      <td>Supermarket Type3</td>\n",
              "      <td>Supermarket Type3</td>\n",
              "      <td>Supermarket Type2</td>\n",
              "      <td>Grocery Store</td>\n",
              "      <td>Supermarket Type2</td>\n",
              "      <td>Supermarket Type1</td>\n",
              "      <td>Supermarket Type1</td>\n",
              "      <td>Supermarket Type1</td>\n",
              "      <td>Supermarket Type1</td>\n",
              "      <td>Supermarket Type1</td>\n",
              "      <td>Supermarket Type1</td>\n",
              "      <td>Supermarket Type2</td>\n",
              "      <td>Supermarket Type1</td>\n",
              "      <td>Supermarket Type1</td>\n",
              "      <td>Supermarket Type1</td>\n",
              "      <td>Supermarket Type1</td>\n",
              "      <td>Supermarket Type1</td>\n",
              "      <td>Supermarket Type3</td>\n",
              "      <td>Supermarket Type2</td>\n",
              "      <td>Supermarket Type2</td>\n",
              "      <td>Supermarket Type1</td>\n",
              "      <td>Supermarket Type1</td>\n",
              "      <td>Grocery Store</td>\n",
              "      <td>Supermarket Type1</td>\n",
              "      <td>Supermarket Type2</td>\n",
              "      <td>Supermarket Type1</td>\n",
              "      <td>Supermarket Type1</td>\n",
              "      <td>Supermarket Type1</td>\n",
              "      <td>Supermarket Type2</td>\n",
              "      <td>Supermarket Type2</td>\n",
              "      <td>Supermarket Type1</td>\n",
              "      <td>Supermarket Type1</td>\n",
              "      <td>Supermarket Type1</td>\n",
              "      <td>Supermarket Type1</td>\n",
              "      <td>Supermarket Type2</td>\n",
              "      <td>Supermarket Type1</td>\n",
              "    </tr>\n",
              "    <tr>\n",
              "      <th>Item_Outlet_Sales</th>\n",
              "      <td>3735.14</td>\n",
              "      <td>443.423</td>\n",
              "      <td>2097.27</td>\n",
              "      <td>732.38</td>\n",
              "      <td>994.705</td>\n",
              "      <td>556.609</td>\n",
              "      <td>343.553</td>\n",
              "      <td>4022.76</td>\n",
              "      <td>1076.6</td>\n",
              "      <td>4710.53</td>\n",
              "      <td>1516.03</td>\n",
              "      <td>2187.15</td>\n",
              "      <td>1589.26</td>\n",
              "      <td>2145.21</td>\n",
              "      <td>1977.43</td>\n",
              "      <td>1547.32</td>\n",
              "      <td>1621.89</td>\n",
              "      <td>718.398</td>\n",
              "      <td>2303.67</td>\n",
              "      <td>2748.42</td>\n",
              "      <td>3775.09</td>\n",
              "      <td>4064.04</td>\n",
              "      <td>1587.27</td>\n",
              "      <td>214.388</td>\n",
              "      <td>4078.03</td>\n",
              "      <td>838.908</td>\n",
              "      <td>1065.28</td>\n",
              "      <td>308.931</td>\n",
              "      <td>178.434</td>\n",
              "      <td>125.836</td>\n",
              "      <td>163.787</td>\n",
              "      <td>2741.76</td>\n",
              "      <td>3068.01</td>\n",
              "      <td>2174.5</td>\n",
              "      <td>2085.29</td>\n",
              "      <td>3791.07</td>\n",
              "      <td>2797.69</td>\n",
              "      <td>1609.9</td>\n",
              "      <td>388.161</td>\n",
              "      <td>2180.49</td>\n",
              "      <td>...</td>\n",
              "      <td>1612.57</td>\n",
              "      <td>2324.97</td>\n",
              "      <td>6261.85</td>\n",
              "      <td>45.2744</td>\n",
              "      <td>4111.31</td>\n",
              "      <td>2756.41</td>\n",
              "      <td>2109.25</td>\n",
              "      <td>487.366</td>\n",
              "      <td>4809.74</td>\n",
              "      <td>2419.52</td>\n",
              "      <td>4727.18</td>\n",
              "      <td>1637.87</td>\n",
              "      <td>4314.38</td>\n",
              "      <td>3715.16</td>\n",
              "      <td>2247.07</td>\n",
              "      <td>1601.25</td>\n",
              "      <td>2976.13</td>\n",
              "      <td>1907.52</td>\n",
              "      <td>1508.04</td>\n",
              "      <td>3020.07</td>\n",
              "      <td>3392.92</td>\n",
              "      <td>4138.61</td>\n",
              "      <td>2117.24</td>\n",
              "      <td>3944.86</td>\n",
              "      <td>515.995</td>\n",
              "      <td>2587.96</td>\n",
              "      <td>424.78</td>\n",
              "      <td>7182.65</td>\n",
              "      <td>4207.86</td>\n",
              "      <td>2479.44</td>\n",
              "      <td>595.225</td>\n",
              "      <td>468.723</td>\n",
              "      <td>1571.29</td>\n",
              "      <td>858.882</td>\n",
              "      <td>3608.64</td>\n",
              "      <td>2778.38</td>\n",
              "      <td>549.285</td>\n",
              "      <td>1193.11</td>\n",
              "      <td>1845.6</td>\n",
              "      <td>765.67</td>\n",
              "    </tr>\n",
              "  </tbody>\n",
              "</table>\n",
              "<p>12 rows × 8523 columns</p>\n",
              "</div>"
            ],
            "text/plain": [
              "                                        0     ...               8522\n",
              "Item_Identifier                        FDA15  ...              DRG01\n",
              "Item_Weight                              9.3  ...               14.8\n",
              "Item_Fat_Content                     Low Fat  ...            Low Fat\n",
              "Item_Visibility                    0.0160473  ...          0.0448783\n",
              "Item_Type                              Dairy  ...        Soft Drinks\n",
              "...                                      ...  ...                ...\n",
              "Outlet_Establishment_Year               1999  ...               1997\n",
              "Outlet_Size                           Medium  ...              Small\n",
              "Outlet_Location_Type                  Tier 1  ...             Tier 1\n",
              "Outlet_Type                Supermarket Type1  ...  Supermarket Type1\n",
              "Item_Outlet_Sales                    3735.14  ...             765.67\n",
              "\n",
              "[12 rows x 8523 columns]"
            ]
          },
          "metadata": {
            "tags": []
          },
          "execution_count": 131
        }
      ]
    },
    {
      "cell_type": "code",
      "metadata": {
        "colab": {
          "base_uri": "https://localhost:8080/",
          "height": 934
        },
        "id": "5b4B6cJvNhEb",
        "outputId": "6c388ebb-c58d-4a40-954d-70baa5db5e33"
      },
      "source": [
        "#checking the trends of the numerical features\n",
        "sales_prediction_df.loc[:,:].hist(bins=50,\n",
        "                 figsize=(16,16),\n",
        "                 xlabelsize='10',\n",
        "                 ylabelsize='10');\n"
      ],
      "execution_count": 132,
      "outputs": [
        {
          "output_type": "display_data",
          "data": {
            "image/png": "[encoded data removed]",
            "text/plain": [
              "<Figure size 1152x1152 with 6 Axes>"
            ]
          },
          "metadata": {
            "tags": [],
            "needs_background": "light"
          }
        }
      ]
    },
    {
      "cell_type": "markdown",
      "metadata": {
        "id": "lQQKN-y_oVSr"
      },
      "source": [
        "***There are no directly apparent inconsistencies in the data. We can utilize this data.***"
      ]
    },
    {
      "cell_type": "code",
      "metadata": {
        "colab": {
          "base_uri": "https://localhost:8080/",
          "height": 411
        },
        "id": "4aG85snFKC_e",
        "outputId": "34ed10d0-477d-4c13-82f5-445f8fc61d07"
      },
      "source": [
        "#dropping the irrelevant columns\n",
        "sales_prediction_df=sales_prediction_df.drop(columns=['Outlet_Establishment_Year', 'Outlet_Identifier', 'Item_Weight'])\n",
        "sales_prediction_df.T"
      ],
      "execution_count": 133,
      "outputs": [
        {
          "output_type": "execute_result",
          "data": {
            "text/html": [
              "<div>\n",
              "<style scoped>\n",
              "    .dataframe tbody tr th:only-of-type {\n",
              "        vertical-align: middle;\n",
              "    }\n",
              "\n",
              "    .dataframe tbody tr th {\n",
              "        vertical-align: top;\n",
              "    }\n",
              "\n",
              "    .dataframe thead th {\n",
              "        text-align: right;\n",
              "    }\n",
              "</style>\n",
              "<table border=\"1\" class=\"dataframe\">\n",
              "  <thead>\n",
              "    <tr style=\"text-align: right;\">\n",
              "      <th></th>\n",
              "      <th>0</th>\n",
              "      <th>1</th>\n",
              "      <th>2</th>\n",
              "      <th>3</th>\n",
              "      <th>4</th>\n",
              "      <th>5</th>\n",
              "      <th>6</th>\n",
              "      <th>7</th>\n",
              "      <th>8</th>\n",
              "      <th>9</th>\n",
              "      <th>10</th>\n",
              "      <th>11</th>\n",
              "      <th>12</th>\n",
              "      <th>13</th>\n",
              "      <th>14</th>\n",
              "      <th>15</th>\n",
              "      <th>16</th>\n",
              "      <th>17</th>\n",
              "      <th>18</th>\n",
              "      <th>19</th>\n",
              "      <th>20</th>\n",
              "      <th>21</th>\n",
              "      <th>22</th>\n",
              "      <th>23</th>\n",
              "      <th>24</th>\n",
              "      <th>25</th>\n",
              "      <th>26</th>\n",
              "      <th>27</th>\n",
              "      <th>28</th>\n",
              "      <th>29</th>\n",
              "      <th>30</th>\n",
              "      <th>31</th>\n",
              "      <th>32</th>\n",
              "      <th>33</th>\n",
              "      <th>34</th>\n",
              "      <th>35</th>\n",
              "      <th>36</th>\n",
              "      <th>37</th>\n",
              "      <th>38</th>\n",
              "      <th>39</th>\n",
              "      <th>...</th>\n",
              "      <th>8483</th>\n",
              "      <th>8484</th>\n",
              "      <th>8485</th>\n",
              "      <th>8486</th>\n",
              "      <th>8487</th>\n",
              "      <th>8488</th>\n",
              "      <th>8489</th>\n",
              "      <th>8490</th>\n",
              "      <th>8491</th>\n",
              "      <th>8492</th>\n",
              "      <th>8493</th>\n",
              "      <th>8494</th>\n",
              "      <th>8495</th>\n",
              "      <th>8496</th>\n",
              "      <th>8497</th>\n",
              "      <th>8498</th>\n",
              "      <th>8499</th>\n",
              "      <th>8500</th>\n",
              "      <th>8501</th>\n",
              "      <th>8502</th>\n",
              "      <th>8503</th>\n",
              "      <th>8504</th>\n",
              "      <th>8505</th>\n",
              "      <th>8506</th>\n",
              "      <th>8507</th>\n",
              "      <th>8508</th>\n",
              "      <th>8509</th>\n",
              "      <th>8510</th>\n",
              "      <th>8511</th>\n",
              "      <th>8512</th>\n",
              "      <th>8513</th>\n",
              "      <th>8514</th>\n",
              "      <th>8515</th>\n",
              "      <th>8516</th>\n",
              "      <th>8517</th>\n",
              "      <th>8518</th>\n",
              "      <th>8519</th>\n",
              "      <th>8520</th>\n",
              "      <th>8521</th>\n",
              "      <th>8522</th>\n",
              "    </tr>\n",
              "  </thead>\n",
              "  <tbody>\n",
              "    <tr>\n",
              "      <th>Item_Identifier</th>\n",
              "      <td>FDA15</td>\n",
              "      <td>DRC01</td>\n",
              "      <td>FDN15</td>\n",
              "      <td>FDX07</td>\n",
              "      <td>NCD19</td>\n",
              "      <td>FDP36</td>\n",
              "      <td>FDO10</td>\n",
              "      <td>FDP10</td>\n",
              "      <td>FDH17</td>\n",
              "      <td>FDU28</td>\n",
              "      <td>FDY07</td>\n",
              "      <td>FDA03</td>\n",
              "      <td>FDX32</td>\n",
              "      <td>FDS46</td>\n",
              "      <td>FDF32</td>\n",
              "      <td>FDP49</td>\n",
              "      <td>NCB42</td>\n",
              "      <td>FDP49</td>\n",
              "      <td>DRI11</td>\n",
              "      <td>FDU02</td>\n",
              "      <td>FDN22</td>\n",
              "      <td>FDW12</td>\n",
              "      <td>NCB30</td>\n",
              "      <td>FDC37</td>\n",
              "      <td>FDR28</td>\n",
              "      <td>NCD06</td>\n",
              "      <td>FDV10</td>\n",
              "      <td>DRJ59</td>\n",
              "      <td>FDE51</td>\n",
              "      <td>FDC14</td>\n",
              "      <td>FDV38</td>\n",
              "      <td>NCS17</td>\n",
              "      <td>FDP33</td>\n",
              "      <td>FDO23</td>\n",
              "      <td>DRH01</td>\n",
              "      <td>NCX29</td>\n",
              "      <td>FDV20</td>\n",
              "      <td>DRZ11</td>\n",
              "      <td>FDX10</td>\n",
              "      <td>FDB34</td>\n",
              "      <td>...</td>\n",
              "      <td>DRI11</td>\n",
              "      <td>DRJ49</td>\n",
              "      <td>DRK37</td>\n",
              "      <td>FDR20</td>\n",
              "      <td>DRG13</td>\n",
              "      <td>NCN14</td>\n",
              "      <td>FDV13</td>\n",
              "      <td>FDU44</td>\n",
              "      <td>FDO03</td>\n",
              "      <td>FDT34</td>\n",
              "      <td>FDP21</td>\n",
              "      <td>NCI54</td>\n",
              "      <td>FDE22</td>\n",
              "      <td>FDJ57</td>\n",
              "      <td>FDT08</td>\n",
              "      <td>NCP54</td>\n",
              "      <td>NCK53</td>\n",
              "      <td>NCQ42</td>\n",
              "      <td>FDW21</td>\n",
              "      <td>NCH43</td>\n",
              "      <td>FDQ44</td>\n",
              "      <td>NCN18</td>\n",
              "      <td>FDB46</td>\n",
              "      <td>DRF37</td>\n",
              "      <td>FDN28</td>\n",
              "      <td>FDW31</td>\n",
              "      <td>FDG45</td>\n",
              "      <td>FDN58</td>\n",
              "      <td>FDF05</td>\n",
              "      <td>FDR26</td>\n",
              "      <td>FDH31</td>\n",
              "      <td>FDA01</td>\n",
              "      <td>FDH24</td>\n",
              "      <td>NCJ19</td>\n",
              "      <td>FDF53</td>\n",
              "      <td>FDF22</td>\n",
              "      <td>FDS36</td>\n",
              "      <td>NCJ29</td>\n",
              "      <td>FDN46</td>\n",
              "      <td>DRG01</td>\n",
              "    </tr>\n",
              "    <tr>\n",
              "      <th>Item_Fat_Content</th>\n",
              "      <td>Low Fat</td>\n",
              "      <td>Regular</td>\n",
              "      <td>Low Fat</td>\n",
              "      <td>Regular</td>\n",
              "      <td>Low Fat</td>\n",
              "      <td>Regular</td>\n",
              "      <td>Regular</td>\n",
              "      <td>Low Fat</td>\n",
              "      <td>Regular</td>\n",
              "      <td>Regular</td>\n",
              "      <td>Low Fat</td>\n",
              "      <td>Regular</td>\n",
              "      <td>Regular</td>\n",
              "      <td>Regular</td>\n",
              "      <td>Low Fat</td>\n",
              "      <td>Regular</td>\n",
              "      <td>Low Fat</td>\n",
              "      <td>Regular</td>\n",
              "      <td>Low Fat</td>\n",
              "      <td>Low Fat</td>\n",
              "      <td>Regular</td>\n",
              "      <td>Regular</td>\n",
              "      <td>Low Fat</td>\n",
              "      <td>Low Fat</td>\n",
              "      <td>Regular</td>\n",
              "      <td>Low Fat</td>\n",
              "      <td>Regular</td>\n",
              "      <td>Low Fat</td>\n",
              "      <td>Regular</td>\n",
              "      <td>Regular</td>\n",
              "      <td>Low Fat</td>\n",
              "      <td>Low Fat</td>\n",
              "      <td>Low Fat</td>\n",
              "      <td>Low Fat</td>\n",
              "      <td>Low Fat</td>\n",
              "      <td>Low Fat</td>\n",
              "      <td>Regular</td>\n",
              "      <td>Regular</td>\n",
              "      <td>Regular</td>\n",
              "      <td>Low Fat</td>\n",
              "      <td>...</td>\n",
              "      <td>Low Fat</td>\n",
              "      <td>Low Fat</td>\n",
              "      <td>Low Fat</td>\n",
              "      <td>Regular</td>\n",
              "      <td>Low Fat</td>\n",
              "      <td>Low Fat</td>\n",
              "      <td>Regular</td>\n",
              "      <td>Regular</td>\n",
              "      <td>Regular</td>\n",
              "      <td>Low Fat</td>\n",
              "      <td>Regular</td>\n",
              "      <td>Low Fat</td>\n",
              "      <td>Low Fat</td>\n",
              "      <td>Regular</td>\n",
              "      <td>Low Fat</td>\n",
              "      <td>Low Fat</td>\n",
              "      <td>Low Fat</td>\n",
              "      <td>Low Fat</td>\n",
              "      <td>Regular</td>\n",
              "      <td>Low Fat</td>\n",
              "      <td>Low Fat</td>\n",
              "      <td>Low Fat</td>\n",
              "      <td>Regular</td>\n",
              "      <td>Low Fat</td>\n",
              "      <td>Regular</td>\n",
              "      <td>Regular</td>\n",
              "      <td>Low Fat</td>\n",
              "      <td>Regular</td>\n",
              "      <td>Low Fat</td>\n",
              "      <td>Low Fat</td>\n",
              "      <td>Regular</td>\n",
              "      <td>Regular</td>\n",
              "      <td>Low Fat</td>\n",
              "      <td>Low Fat</td>\n",
              "      <td>Regular</td>\n",
              "      <td>Low Fat</td>\n",
              "      <td>Regular</td>\n",
              "      <td>Low Fat</td>\n",
              "      <td>Regular</td>\n",
              "      <td>Low Fat</td>\n",
              "    </tr>\n",
              "    <tr>\n",
              "      <th>Item_Visibility</th>\n",
              "      <td>0.0160473</td>\n",
              "      <td>0.0192782</td>\n",
              "      <td>0.0167601</td>\n",
              "      <td>0</td>\n",
              "      <td>0</td>\n",
              "      <td>0</td>\n",
              "      <td>0.0127411</td>\n",
              "      <td>0.12747</td>\n",
              "      <td>0.0166871</td>\n",
              "      <td>0.0944496</td>\n",
              "      <td>0</td>\n",
              "      <td>0.0454638</td>\n",
              "      <td>0.100014</td>\n",
              "      <td>0.0472573</td>\n",
              "      <td>0.0680243</td>\n",
              "      <td>0.069089</td>\n",
              "      <td>0.00859605</td>\n",
              "      <td>0.0691964</td>\n",
              "      <td>0.0342377</td>\n",
              "      <td>0.102492</td>\n",
              "      <td>0.13819</td>\n",
              "      <td>0.0353999</td>\n",
              "      <td>0.0256981</td>\n",
              "      <td>0.057557</td>\n",
              "      <td>0.0258965</td>\n",
              "      <td>0.0998871</td>\n",
              "      <td>0.0666934</td>\n",
              "      <td>0.0193561</td>\n",
              "      <td>0.161467</td>\n",
              "      <td>0.0722218</td>\n",
              "      <td>0.170349</td>\n",
              "      <td>0.0808294</td>\n",
              "      <td>0</td>\n",
              "      <td>0</td>\n",
              "      <td>0.097904</td>\n",
              "      <td>0.0892911</td>\n",
              "      <td>0.0595118</td>\n",
              "      <td>0.113124</td>\n",
              "      <td>0.123111</td>\n",
              "      <td>0.026481</td>\n",
              "      <td>...</td>\n",
              "      <td>0.0344741</td>\n",
              "      <td>0</td>\n",
              "      <td>0.0437916</td>\n",
              "      <td>0</td>\n",
              "      <td>0.0370061</td>\n",
              "      <td>0.0914727</td>\n",
              "      <td>0.0277233</td>\n",
              "      <td>0.102296</td>\n",
              "      <td>0.0370332</td>\n",
              "      <td>0.17435</td>\n",
              "      <td>0.0258864</td>\n",
              "      <td>0</td>\n",
              "      <td>0.0295672</td>\n",
              "      <td>0.0216957</td>\n",
              "      <td>0.0492092</td>\n",
              "      <td>0.0352929</td>\n",
              "      <td>0.0375741</td>\n",
              "      <td>0</td>\n",
              "      <td>0.00599762</td>\n",
              "      <td>0.070712</td>\n",
              "      <td>0.0361335</td>\n",
              "      <td>0.124111</td>\n",
              "      <td>0.0941458</td>\n",
              "      <td>0.0846762</td>\n",
              "      <td>0.0302422</td>\n",
              "      <td>0.0432456</td>\n",
              "      <td>0.214306</td>\n",
              "      <td>0.0568616</td>\n",
              "      <td>0.0269804</td>\n",
              "      <td>0.0428011</td>\n",
              "      <td>0.0204073</td>\n",
              "      <td>0.0544885</td>\n",
              "      <td>0.0215184</td>\n",
              "      <td>0.118661</td>\n",
              "      <td>0.0836066</td>\n",
              "      <td>0.0567834</td>\n",
              "      <td>0.0469824</td>\n",
              "      <td>0.0351863</td>\n",
              "      <td>0.145221</td>\n",
              "      <td>0.0448783</td>\n",
              "    </tr>\n",
              "    <tr>\n",
              "      <th>Item_Type</th>\n",
              "      <td>Dairy</td>\n",
              "      <td>Soft Drinks</td>\n",
              "      <td>Meat</td>\n",
              "      <td>Fruits and Vegetables</td>\n",
              "      <td>Household</td>\n",
              "      <td>Baking Goods</td>\n",
              "      <td>Snack Foods</td>\n",
              "      <td>Snack Foods</td>\n",
              "      <td>Frozen Foods</td>\n",
              "      <td>Frozen Foods</td>\n",
              "      <td>Fruits and Vegetables</td>\n",
              "      <td>Dairy</td>\n",
              "      <td>Fruits and Vegetables</td>\n",
              "      <td>Snack Foods</td>\n",
              "      <td>Fruits and Vegetables</td>\n",
              "      <td>Breakfast</td>\n",
              "      <td>Health and Hygiene</td>\n",
              "      <td>Breakfast</td>\n",
              "      <td>Hard Drinks</td>\n",
              "      <td>Dairy</td>\n",
              "      <td>Snack Foods</td>\n",
              "      <td>Baking Goods</td>\n",
              "      <td>Household</td>\n",
              "      <td>Baking Goods</td>\n",
              "      <td>Frozen Foods</td>\n",
              "      <td>Household</td>\n",
              "      <td>Snack Foods</td>\n",
              "      <td>Hard Drinks</td>\n",
              "      <td>Dairy</td>\n",
              "      <td>Canned</td>\n",
              "      <td>Dairy</td>\n",
              "      <td>Health and Hygiene</td>\n",
              "      <td>Snack Foods</td>\n",
              "      <td>Breads</td>\n",
              "      <td>Soft Drinks</td>\n",
              "      <td>Health and Hygiene</td>\n",
              "      <td>Fruits and Vegetables</td>\n",
              "      <td>Soft Drinks</td>\n",
              "      <td>Snack Foods</td>\n",
              "      <td>Snack Foods</td>\n",
              "      <td>...</td>\n",
              "      <td>Hard Drinks</td>\n",
              "      <td>Soft Drinks</td>\n",
              "      <td>Soft Drinks</td>\n",
              "      <td>Fruits and Vegetables</td>\n",
              "      <td>Soft Drinks</td>\n",
              "      <td>Others</td>\n",
              "      <td>Canned</td>\n",
              "      <td>Fruits and Vegetables</td>\n",
              "      <td>Meat</td>\n",
              "      <td>Snack Foods</td>\n",
              "      <td>Snack Foods</td>\n",
              "      <td>Household</td>\n",
              "      <td>Snack Foods</td>\n",
              "      <td>Seafood</td>\n",
              "      <td>Fruits and Vegetables</td>\n",
              "      <td>Household</td>\n",
              "      <td>Health and Hygiene</td>\n",
              "      <td>Household</td>\n",
              "      <td>Snack Foods</td>\n",
              "      <td>Household</td>\n",
              "      <td>Fruits and Vegetables</td>\n",
              "      <td>Household</td>\n",
              "      <td>Snack Foods</td>\n",
              "      <td>Soft Drinks</td>\n",
              "      <td>Frozen Foods</td>\n",
              "      <td>Fruits and Vegetables</td>\n",
              "      <td>Fruits and Vegetables</td>\n",
              "      <td>Snack Foods</td>\n",
              "      <td>Frozen Foods</td>\n",
              "      <td>Dairy</td>\n",
              "      <td>Meat</td>\n",
              "      <td>Canned</td>\n",
              "      <td>Baking Goods</td>\n",
              "      <td>Others</td>\n",
              "      <td>Frozen Foods</td>\n",
              "      <td>Snack Foods</td>\n",
              "      <td>Baking Goods</td>\n",
              "      <td>Health and Hygiene</td>\n",
              "      <td>Snack Foods</td>\n",
              "      <td>Soft Drinks</td>\n",
              "    </tr>\n",
              "    <tr>\n",
              "      <th>Item_MRP</th>\n",
              "      <td>249.809</td>\n",
              "      <td>48.2692</td>\n",
              "      <td>141.618</td>\n",
              "      <td>182.095</td>\n",
              "      <td>53.8614</td>\n",
              "      <td>51.4008</td>\n",
              "      <td>57.6588</td>\n",
              "      <td>107.762</td>\n",
              "      <td>96.9726</td>\n",
              "      <td>187.821</td>\n",
              "      <td>45.5402</td>\n",
              "      <td>144.11</td>\n",
              "      <td>145.479</td>\n",
              "      <td>119.678</td>\n",
              "      <td>196.443</td>\n",
              "      <td>56.3614</td>\n",
              "      <td>115.349</td>\n",
              "      <td>54.3614</td>\n",
              "      <td>113.283</td>\n",
              "      <td>230.535</td>\n",
              "      <td>250.872</td>\n",
              "      <td>144.544</td>\n",
              "      <td>196.508</td>\n",
              "      <td>107.694</td>\n",
              "      <td>165.021</td>\n",
              "      <td>45.906</td>\n",
              "      <td>42.3112</td>\n",
              "      <td>39.1164</td>\n",
              "      <td>45.5086</td>\n",
              "      <td>43.6454</td>\n",
              "      <td>55.7956</td>\n",
              "      <td>96.4436</td>\n",
              "      <td>256.667</td>\n",
              "      <td>93.1436</td>\n",
              "      <td>174.874</td>\n",
              "      <td>146.71</td>\n",
              "      <td>128.068</td>\n",
              "      <td>122.539</td>\n",
              "      <td>36.9874</td>\n",
              "      <td>87.6198</td>\n",
              "      <td>...</td>\n",
              "      <td>117.083</td>\n",
              "      <td>129.965</td>\n",
              "      <td>189.053</td>\n",
              "      <td>46.4744</td>\n",
              "      <td>164.753</td>\n",
              "      <td>184.661</td>\n",
              "      <td>89.6856</td>\n",
              "      <td>162.355</td>\n",
              "      <td>227.935</td>\n",
              "      <td>104.496</td>\n",
              "      <td>189.187</td>\n",
              "      <td>110.491</td>\n",
              "      <td>160.492</td>\n",
              "      <td>185.358</td>\n",
              "      <td>150.005</td>\n",
              "      <td>124.573</td>\n",
              "      <td>100.004</td>\n",
              "      <td>125.168</td>\n",
              "      <td>100.436</td>\n",
              "      <td>216.419</td>\n",
              "      <td>120.176</td>\n",
              "      <td>111.754</td>\n",
              "      <td>210.824</td>\n",
              "      <td>263.191</td>\n",
              "      <td>101.799</td>\n",
              "      <td>199.474</td>\n",
              "      <td>213.99</td>\n",
              "      <td>231.598</td>\n",
              "      <td>262.591</td>\n",
              "      <td>178.303</td>\n",
              "      <td>99.9042</td>\n",
              "      <td>57.5904</td>\n",
              "      <td>157.529</td>\n",
              "      <td>58.7588</td>\n",
              "      <td>178.832</td>\n",
              "      <td>214.522</td>\n",
              "      <td>108.157</td>\n",
              "      <td>85.1224</td>\n",
              "      <td>103.133</td>\n",
              "      <td>75.467</td>\n",
              "    </tr>\n",
              "    <tr>\n",
              "      <th>Outlet_Size</th>\n",
              "      <td>Medium</td>\n",
              "      <td>Medium</td>\n",
              "      <td>Medium</td>\n",
              "      <td>Medium</td>\n",
              "      <td>High</td>\n",
              "      <td>Medium</td>\n",
              "      <td>High</td>\n",
              "      <td>Medium</td>\n",
              "      <td>Medium</td>\n",
              "      <td>Medium</td>\n",
              "      <td>Medium</td>\n",
              "      <td>Small</td>\n",
              "      <td>Medium</td>\n",
              "      <td>Small</td>\n",
              "      <td>High</td>\n",
              "      <td>Small</td>\n",
              "      <td>Medium</td>\n",
              "      <td>Medium</td>\n",
              "      <td>Medium</td>\n",
              "      <td>Small</td>\n",
              "      <td>High</td>\n",
              "      <td>Medium</td>\n",
              "      <td>Small</td>\n",
              "      <td>Small</td>\n",
              "      <td>Small</td>\n",
              "      <td>Medium</td>\n",
              "      <td>Small</td>\n",
              "      <td>High</td>\n",
              "      <td>Medium</td>\n",
              "      <td>Small</td>\n",
              "      <td>Medium</td>\n",
              "      <td>Medium</td>\n",
              "      <td>Medium</td>\n",
              "      <td>Medium</td>\n",
              "      <td>Small</td>\n",
              "      <td>Medium</td>\n",
              "      <td>Medium</td>\n",
              "      <td>Medium</td>\n",
              "      <td>Medium</td>\n",
              "      <td>Medium</td>\n",
              "      <td>...</td>\n",
              "      <td>Medium</td>\n",
              "      <td>High</td>\n",
              "      <td>Medium</td>\n",
              "      <td>Medium</td>\n",
              "      <td>Medium</td>\n",
              "      <td>Medium</td>\n",
              "      <td>Medium</td>\n",
              "      <td>Small</td>\n",
              "      <td>Medium</td>\n",
              "      <td>Small</td>\n",
              "      <td>Medium</td>\n",
              "      <td>Medium</td>\n",
              "      <td>Small</td>\n",
              "      <td>Medium</td>\n",
              "      <td>Small</td>\n",
              "      <td>Medium</td>\n",
              "      <td>Small</td>\n",
              "      <td>Medium</td>\n",
              "      <td>Medium</td>\n",
              "      <td>Medium</td>\n",
              "      <td>Small</td>\n",
              "      <td>Medium</td>\n",
              "      <td>Medium</td>\n",
              "      <td>Medium</td>\n",
              "      <td>Small</td>\n",
              "      <td>Medium</td>\n",
              "      <td>Medium</td>\n",
              "      <td>Small</td>\n",
              "      <td>Medium</td>\n",
              "      <td>High</td>\n",
              "      <td>Small</td>\n",
              "      <td>Medium</td>\n",
              "      <td>Medium</td>\n",
              "      <td>Medium</td>\n",
              "      <td>Small</td>\n",
              "      <td>High</td>\n",
              "      <td>Medium</td>\n",
              "      <td>Small</td>\n",
              "      <td>Medium</td>\n",
              "      <td>Small</td>\n",
              "    </tr>\n",
              "    <tr>\n",
              "      <th>Outlet_Location_Type</th>\n",
              "      <td>Tier 1</td>\n",
              "      <td>Tier 3</td>\n",
              "      <td>Tier 1</td>\n",
              "      <td>Tier 3</td>\n",
              "      <td>Tier 3</td>\n",
              "      <td>Tier 3</td>\n",
              "      <td>Tier 3</td>\n",
              "      <td>Tier 3</td>\n",
              "      <td>Tier 2</td>\n",
              "      <td>Tier 2</td>\n",
              "      <td>Tier 1</td>\n",
              "      <td>Tier 1</td>\n",
              "      <td>Tier 1</td>\n",
              "      <td>Tier 1</td>\n",
              "      <td>Tier 3</td>\n",
              "      <td>Tier 1</td>\n",
              "      <td>Tier 3</td>\n",
              "      <td>Tier 1</td>\n",
              "      <td>Tier 3</td>\n",
              "      <td>Tier 2</td>\n",
              "      <td>Tier 3</td>\n",
              "      <td>Tier 3</td>\n",
              "      <td>Tier 2</td>\n",
              "      <td>Tier 1</td>\n",
              "      <td>Tier 1</td>\n",
              "      <td>Tier 2</td>\n",
              "      <td>Tier 2</td>\n",
              "      <td>Tier 3</td>\n",
              "      <td>Tier 3</td>\n",
              "      <td>Tier 1</td>\n",
              "      <td>Tier 3</td>\n",
              "      <td>Tier 3</td>\n",
              "      <td>Tier 3</td>\n",
              "      <td>Tier 2</td>\n",
              "      <td>Tier 1</td>\n",
              "      <td>Tier 1</td>\n",
              "      <td>Tier 3</td>\n",
              "      <td>Tier 3</td>\n",
              "      <td>Tier 3</td>\n",
              "      <td>Tier 3</td>\n",
              "      <td>...</td>\n",
              "      <td>Tier 2</td>\n",
              "      <td>Tier 3</td>\n",
              "      <td>Tier 3</td>\n",
              "      <td>Tier 3</td>\n",
              "      <td>Tier 3</td>\n",
              "      <td>Tier 3</td>\n",
              "      <td>Tier 3</td>\n",
              "      <td>Tier 1</td>\n",
              "      <td>Tier 3</td>\n",
              "      <td>Tier 1</td>\n",
              "      <td>Tier 2</td>\n",
              "      <td>Tier 2</td>\n",
              "      <td>Tier 2</td>\n",
              "      <td>Tier 2</td>\n",
              "      <td>Tier 2</td>\n",
              "      <td>Tier 3</td>\n",
              "      <td>Tier 2</td>\n",
              "      <td>Tier 2</td>\n",
              "      <td>Tier 2</td>\n",
              "      <td>Tier 2</td>\n",
              "      <td>Tier 2</td>\n",
              "      <td>Tier 3</td>\n",
              "      <td>Tier 3</td>\n",
              "      <td>Tier 3</td>\n",
              "      <td>Tier 2</td>\n",
              "      <td>Tier 2</td>\n",
              "      <td>Tier 3</td>\n",
              "      <td>Tier 2</td>\n",
              "      <td>Tier 3</td>\n",
              "      <td>Tier 3</td>\n",
              "      <td>Tier 2</td>\n",
              "      <td>Tier 2</td>\n",
              "      <td>Tier 3</td>\n",
              "      <td>Tier 3</td>\n",
              "      <td>Tier 1</td>\n",
              "      <td>Tier 3</td>\n",
              "      <td>Tier 2</td>\n",
              "      <td>Tier 2</td>\n",
              "      <td>Tier 3</td>\n",
              "      <td>Tier 1</td>\n",
              "    </tr>\n",
              "    <tr>\n",
              "      <th>Outlet_Type</th>\n",
              "      <td>Supermarket Type1</td>\n",
              "      <td>Supermarket Type2</td>\n",
              "      <td>Supermarket Type1</td>\n",
              "      <td>Grocery Store</td>\n",
              "      <td>Supermarket Type1</td>\n",
              "      <td>Supermarket Type2</td>\n",
              "      <td>Supermarket Type1</td>\n",
              "      <td>Supermarket Type3</td>\n",
              "      <td>Supermarket Type1</td>\n",
              "      <td>Supermarket Type1</td>\n",
              "      <td>Supermarket Type1</td>\n",
              "      <td>Supermarket Type1</td>\n",
              "      <td>Supermarket Type1</td>\n",
              "      <td>Supermarket Type1</td>\n",
              "      <td>Supermarket Type1</td>\n",
              "      <td>Supermarket Type1</td>\n",
              "      <td>Supermarket Type2</td>\n",
              "      <td>Supermarket Type1</td>\n",
              "      <td>Supermarket Type3</td>\n",
              "      <td>Supermarket Type1</td>\n",
              "      <td>Supermarket Type1</td>\n",
              "      <td>Supermarket Type3</td>\n",
              "      <td>Supermarket Type1</td>\n",
              "      <td>Grocery Store</td>\n",
              "      <td>Supermarket Type1</td>\n",
              "      <td>Supermarket Type1</td>\n",
              "      <td>Supermarket Type1</td>\n",
              "      <td>Supermarket Type1</td>\n",
              "      <td>Grocery Store</td>\n",
              "      <td>Grocery Store</td>\n",
              "      <td>Grocery Store</td>\n",
              "      <td>Supermarket Type2</td>\n",
              "      <td>Supermarket Type2</td>\n",
              "      <td>Supermarket Type1</td>\n",
              "      <td>Supermarket Type1</td>\n",
              "      <td>Supermarket Type1</td>\n",
              "      <td>Supermarket Type3</td>\n",
              "      <td>Supermarket Type2</td>\n",
              "      <td>Supermarket Type3</td>\n",
              "      <td>Supermarket Type3</td>\n",
              "      <td>...</td>\n",
              "      <td>Supermarket Type1</td>\n",
              "      <td>Supermarket Type1</td>\n",
              "      <td>Supermarket Type3</td>\n",
              "      <td>Grocery Store</td>\n",
              "      <td>Supermarket Type3</td>\n",
              "      <td>Supermarket Type3</td>\n",
              "      <td>Supermarket Type2</td>\n",
              "      <td>Grocery Store</td>\n",
              "      <td>Supermarket Type2</td>\n",
              "      <td>Supermarket Type1</td>\n",
              "      <td>Supermarket Type1</td>\n",
              "      <td>Supermarket Type1</td>\n",
              "      <td>Supermarket Type1</td>\n",
              "      <td>Supermarket Type1</td>\n",
              "      <td>Supermarket Type1</td>\n",
              "      <td>Supermarket Type2</td>\n",
              "      <td>Supermarket Type1</td>\n",
              "      <td>Supermarket Type1</td>\n",
              "      <td>Supermarket Type1</td>\n",
              "      <td>Supermarket Type1</td>\n",
              "      <td>Supermarket Type1</td>\n",
              "      <td>Supermarket Type3</td>\n",
              "      <td>Supermarket Type2</td>\n",
              "      <td>Supermarket Type2</td>\n",
              "      <td>Supermarket Type1</td>\n",
              "      <td>Supermarket Type1</td>\n",
              "      <td>Grocery Store</td>\n",
              "      <td>Supermarket Type1</td>\n",
              "      <td>Supermarket Type2</td>\n",
              "      <td>Supermarket Type1</td>\n",
              "      <td>Supermarket Type1</td>\n",
              "      <td>Supermarket Type1</td>\n",
              "      <td>Supermarket Type2</td>\n",
              "      <td>Supermarket Type2</td>\n",
              "      <td>Supermarket Type1</td>\n",
              "      <td>Supermarket Type1</td>\n",
              "      <td>Supermarket Type1</td>\n",
              "      <td>Supermarket Type1</td>\n",
              "      <td>Supermarket Type2</td>\n",
              "      <td>Supermarket Type1</td>\n",
              "    </tr>\n",
              "    <tr>\n",
              "      <th>Item_Outlet_Sales</th>\n",
              "      <td>3735.14</td>\n",
              "      <td>443.423</td>\n",
              "      <td>2097.27</td>\n",
              "      <td>732.38</td>\n",
              "      <td>994.705</td>\n",
              "      <td>556.609</td>\n",
              "      <td>343.553</td>\n",
              "      <td>4022.76</td>\n",
              "      <td>1076.6</td>\n",
              "      <td>4710.53</td>\n",
              "      <td>1516.03</td>\n",
              "      <td>2187.15</td>\n",
              "      <td>1589.26</td>\n",
              "      <td>2145.21</td>\n",
              "      <td>1977.43</td>\n",
              "      <td>1547.32</td>\n",
              "      <td>1621.89</td>\n",
              "      <td>718.398</td>\n",
              "      <td>2303.67</td>\n",
              "      <td>2748.42</td>\n",
              "      <td>3775.09</td>\n",
              "      <td>4064.04</td>\n",
              "      <td>1587.27</td>\n",
              "      <td>214.388</td>\n",
              "      <td>4078.03</td>\n",
              "      <td>838.908</td>\n",
              "      <td>1065.28</td>\n",
              "      <td>308.931</td>\n",
              "      <td>178.434</td>\n",
              "      <td>125.836</td>\n",
              "      <td>163.787</td>\n",
              "      <td>2741.76</td>\n",
              "      <td>3068.01</td>\n",
              "      <td>2174.5</td>\n",
              "      <td>2085.29</td>\n",
              "      <td>3791.07</td>\n",
              "      <td>2797.69</td>\n",
              "      <td>1609.9</td>\n",
              "      <td>388.161</td>\n",
              "      <td>2180.49</td>\n",
              "      <td>...</td>\n",
              "      <td>1612.57</td>\n",
              "      <td>2324.97</td>\n",
              "      <td>6261.85</td>\n",
              "      <td>45.2744</td>\n",
              "      <td>4111.31</td>\n",
              "      <td>2756.41</td>\n",
              "      <td>2109.25</td>\n",
              "      <td>487.366</td>\n",
              "      <td>4809.74</td>\n",
              "      <td>2419.52</td>\n",
              "      <td>4727.18</td>\n",
              "      <td>1637.87</td>\n",
              "      <td>4314.38</td>\n",
              "      <td>3715.16</td>\n",
              "      <td>2247.07</td>\n",
              "      <td>1601.25</td>\n",
              "      <td>2976.13</td>\n",
              "      <td>1907.52</td>\n",
              "      <td>1508.04</td>\n",
              "      <td>3020.07</td>\n",
              "      <td>3392.92</td>\n",
              "      <td>4138.61</td>\n",
              "      <td>2117.24</td>\n",
              "      <td>3944.86</td>\n",
              "      <td>515.995</td>\n",
              "      <td>2587.96</td>\n",
              "      <td>424.78</td>\n",
              "      <td>7182.65</td>\n",
              "      <td>4207.86</td>\n",
              "      <td>2479.44</td>\n",
              "      <td>595.225</td>\n",
              "      <td>468.723</td>\n",
              "      <td>1571.29</td>\n",
              "      <td>858.882</td>\n",
              "      <td>3608.64</td>\n",
              "      <td>2778.38</td>\n",
              "      <td>549.285</td>\n",
              "      <td>1193.11</td>\n",
              "      <td>1845.6</td>\n",
              "      <td>765.67</td>\n",
              "    </tr>\n",
              "  </tbody>\n",
              "</table>\n",
              "<p>9 rows × 8523 columns</p>\n",
              "</div>"
            ],
            "text/plain": [
              "                                   0     ...               8522\n",
              "Item_Identifier                   FDA15  ...              DRG01\n",
              "Item_Fat_Content                Low Fat  ...            Low Fat\n",
              "Item_Visibility               0.0160473  ...          0.0448783\n",
              "Item_Type                         Dairy  ...        Soft Drinks\n",
              "Item_MRP                        249.809  ...             75.467\n",
              "Outlet_Size                      Medium  ...              Small\n",
              "Outlet_Location_Type             Tier 1  ...             Tier 1\n",
              "Outlet_Type           Supermarket Type1  ...  Supermarket Type1\n",
              "Item_Outlet_Sales               3735.14  ...             765.67\n",
              "\n",
              "[9 rows x 8523 columns]"
            ]
          },
          "metadata": {
            "tags": []
          },
          "execution_count": 133
        }
      ]
    },
    {
      "cell_type": "code",
      "metadata": {
        "colab": {
          "base_uri": "https://localhost:8080/"
        },
        "id": "x9T7tPQAswdg",
        "outputId": "370ce59c-ecf9-4c5f-c2ac-fd75c9508a6e"
      },
      "source": [
        "sales_prediction_df['Item_Type'].nunique()         #checking how many distinct values the coloumn has"
      ],
      "execution_count": 134,
      "outputs": [
        {
          "output_type": "execute_result",
          "data": {
            "text/plain": [
              "16"
            ]
          },
          "metadata": {
            "tags": []
          },
          "execution_count": 134
        }
      ]
    },
    {
      "cell_type": "code",
      "metadata": {
        "colab": {
          "base_uri": "https://localhost:8080/"
        },
        "id": "Jp2Nu6ePzqU8",
        "outputId": "b3f44389-f6a0-4acf-d36a-42380b2e9d10"
      },
      "source": [
        "sales_prediction_df['Outlet_Type'].value_counts()        #checking how many distinct values the coloumn has"
      ],
      "execution_count": 135,
      "outputs": [
        {
          "output_type": "execute_result",
          "data": {
            "text/plain": [
              "Supermarket Type1    5577\n",
              "Grocery Store        1083\n",
              "Supermarket Type3     935\n",
              "Supermarket Type2     928\n",
              "Name: Outlet_Type, dtype: int64"
            ]
          },
          "metadata": {
            "tags": []
          },
          "execution_count": 135
        }
      ]
    },
    {
      "cell_type": "code",
      "metadata": {
        "colab": {
          "base_uri": "https://localhost:8080/"
        },
        "id": "8GDIWlZ8IUd8",
        "outputId": "5a22a3d8-4ebb-4cbd-93d0-eabdcdc133a0"
      },
      "source": [
        "sales_prediction_df['Item_Identifier'].value_counts()"
      ],
      "execution_count": 136,
      "outputs": [
        {
          "output_type": "execute_result",
          "data": {
            "text/plain": [
              "FDW13    10\n",
              "FDG33    10\n",
              "FDW26     9\n",
              "FDP25     9\n",
              "NCB18     9\n",
              "         ..\n",
              "DRF48     1\n",
              "FDO33     1\n",
              "FDT35     1\n",
              "FDY43     1\n",
              "FDE52     1\n",
              "Name: Item_Identifier, Length: 1559, dtype: int64"
            ]
          },
          "metadata": {
            "tags": []
          },
          "execution_count": 136
        }
      ]
    },
    {
      "cell_type": "code",
      "metadata": {
        "id": "lb_RMmb4Iv6B"
      },
      "source": [
        "#sales_prediction_df['Outlet_Identifier'].nunique()"
      ],
      "execution_count": 137,
      "outputs": []
    },
    {
      "cell_type": "code",
      "metadata": {
        "colab": {
          "base_uri": "https://localhost:8080/",
          "height": 204
        },
        "id": "pwkApf2joSVi",
        "outputId": "61b3baec-8863-47c2-bcd9-72c8628026b7"
      },
      "source": [
        "sales_prediction_df.head()"
      ],
      "execution_count": 138,
      "outputs": [
        {
          "output_type": "execute_result",
          "data": {
            "text/html": [
              "<div>\n",
              "<style scoped>\n",
              "    .dataframe tbody tr th:only-of-type {\n",
              "        vertical-align: middle;\n",
              "    }\n",
              "\n",
              "    .dataframe tbody tr th {\n",
              "        vertical-align: top;\n",
              "    }\n",
              "\n",
              "    .dataframe thead th {\n",
              "        text-align: right;\n",
              "    }\n",
              "</style>\n",
              "<table border=\"1\" class=\"dataframe\">\n",
              "  <thead>\n",
              "    <tr style=\"text-align: right;\">\n",
              "      <th></th>\n",
              "      <th>Item_Identifier</th>\n",
              "      <th>Item_Fat_Content</th>\n",
              "      <th>Item_Visibility</th>\n",
              "      <th>Item_Type</th>\n",
              "      <th>Item_MRP</th>\n",
              "      <th>Outlet_Size</th>\n",
              "      <th>Outlet_Location_Type</th>\n",
              "      <th>Outlet_Type</th>\n",
              "      <th>Item_Outlet_Sales</th>\n",
              "    </tr>\n",
              "  </thead>\n",
              "  <tbody>\n",
              "    <tr>\n",
              "      <th>0</th>\n",
              "      <td>FDA15</td>\n",
              "      <td>Low Fat</td>\n",
              "      <td>0.016047</td>\n",
              "      <td>Dairy</td>\n",
              "      <td>249.8092</td>\n",
              "      <td>Medium</td>\n",
              "      <td>Tier 1</td>\n",
              "      <td>Supermarket Type1</td>\n",
              "      <td>3735.1380</td>\n",
              "    </tr>\n",
              "    <tr>\n",
              "      <th>1</th>\n",
              "      <td>DRC01</td>\n",
              "      <td>Regular</td>\n",
              "      <td>0.019278</td>\n",
              "      <td>Soft Drinks</td>\n",
              "      <td>48.2692</td>\n",
              "      <td>Medium</td>\n",
              "      <td>Tier 3</td>\n",
              "      <td>Supermarket Type2</td>\n",
              "      <td>443.4228</td>\n",
              "    </tr>\n",
              "    <tr>\n",
              "      <th>2</th>\n",
              "      <td>FDN15</td>\n",
              "      <td>Low Fat</td>\n",
              "      <td>0.016760</td>\n",
              "      <td>Meat</td>\n",
              "      <td>141.6180</td>\n",
              "      <td>Medium</td>\n",
              "      <td>Tier 1</td>\n",
              "      <td>Supermarket Type1</td>\n",
              "      <td>2097.2700</td>\n",
              "    </tr>\n",
              "    <tr>\n",
              "      <th>3</th>\n",
              "      <td>FDX07</td>\n",
              "      <td>Regular</td>\n",
              "      <td>0.000000</td>\n",
              "      <td>Fruits and Vegetables</td>\n",
              "      <td>182.0950</td>\n",
              "      <td>Medium</td>\n",
              "      <td>Tier 3</td>\n",
              "      <td>Grocery Store</td>\n",
              "      <td>732.3800</td>\n",
              "    </tr>\n",
              "    <tr>\n",
              "      <th>4</th>\n",
              "      <td>NCD19</td>\n",
              "      <td>Low Fat</td>\n",
              "      <td>0.000000</td>\n",
              "      <td>Household</td>\n",
              "      <td>53.8614</td>\n",
              "      <td>High</td>\n",
              "      <td>Tier 3</td>\n",
              "      <td>Supermarket Type1</td>\n",
              "      <td>994.7052</td>\n",
              "    </tr>\n",
              "  </tbody>\n",
              "</table>\n",
              "</div>"
            ],
            "text/plain": [
              "  Item_Identifier Item_Fat_Content  ...        Outlet_Type Item_Outlet_Sales\n",
              "0           FDA15          Low Fat  ...  Supermarket Type1         3735.1380\n",
              "1           DRC01          Regular  ...  Supermarket Type2          443.4228\n",
              "2           FDN15          Low Fat  ...  Supermarket Type1         2097.2700\n",
              "3           FDX07          Regular  ...      Grocery Store          732.3800\n",
              "4           NCD19          Low Fat  ...  Supermarket Type1          994.7052\n",
              "\n",
              "[5 rows x 9 columns]"
            ]
          },
          "metadata": {
            "tags": []
          },
          "execution_count": 138
        }
      ]
    },
    {
      "cell_type": "markdown",
      "metadata": {
        "id": "TKBiJpxOozoL"
      },
      "source": [
        "Categories:\n",
        "\n",
        "Nominal: Item_Identifier, Item_Type, Outlet_Identifier, Outlet_Location_Type,  Item_Fat_Content, Outlet_Type\n",
        "\n",
        "Ordinal: Outlet Size"
      ]
    },
    {
      "cell_type": "code",
      "metadata": {
        "colab": {
          "base_uri": "https://localhost:8080/",
          "height": 280
        },
        "id": "ul2j_EG60Pbm",
        "outputId": "1c86e89b-a560-470f-8b8b-fbfb5c1adc03"
      },
      "source": [
        "sns.boxplot(x='Outlet_Size', y='Item_Outlet_Sales', data=sales_prediction_df, notch=True);"
      ],
      "execution_count": 139,
      "outputs": [
        {
          "output_type": "display_data",
          "data": {
            "image/png": "[encoded data removed]",
            "text/plain": [
              "<Figure size 432x288 with 1 Axes>"
            ]
          },
          "metadata": {
            "tags": [],
            "needs_background": "light"
          }
        }
      ]
    },
    {
      "cell_type": "code",
      "metadata": {
        "id": "ix-YqsuroxEx",
        "colab": {
          "base_uri": "https://localhost:8080/",
          "height": 280
        },
        "outputId": "1a8994ac-b2b6-4821-fe02-ade905ceed5b"
      },
      "source": [
        "sns.boxplot(x='Outlet_Location_Type', y='Item_Outlet_Sales', data=sales_prediction_df, notch=True);"
      ],
      "execution_count": 140,
      "outputs": [
        {
          "output_type": "display_data",
          "data": {
            "image/png": "[encoded data removed]",
            "text/plain": [
              "<Figure size 432x288 with 1 Axes>"
            ]
          },
          "metadata": {
            "tags": [],
            "needs_background": "light"
          }
        }
      ]
    },
    {
      "cell_type": "code",
      "metadata": {
        "colab": {
          "base_uri": "https://localhost:8080/",
          "height": 280
        },
        "id": "xPrtN7BFdLHC",
        "outputId": "073265c0-6c7e-4203-94c8-140efaeeb086"
      },
      "source": [
        "sns.boxplot(x='Outlet_Size', y='Item_MRP', data=sales_prediction_df, notch=True);"
      ],
      "execution_count": 141,
      "outputs": [
        {
          "output_type": "display_data",
          "data": {
            "image/png": "[encoded data removed]",
            "text/plain": [
              "<Figure size 432x288 with 1 Axes>"
            ]
          },
          "metadata": {
            "tags": [],
            "needs_background": "light"
          }
        }
      ]
    },
    {
      "cell_type": "markdown",
      "metadata": {
        "id": "p2yTyiOyBxpJ"
      },
      "source": [
        "***This Box Plot tells us that there is no differentiation in the MRP of products in differnt sized outlets.***"
      ]
    },
    {
      "cell_type": "code",
      "metadata": {
        "id": "KaUQ7Pf-BuLn",
        "colab": {
          "base_uri": "https://localhost:8080/",
          "height": 346
        },
        "outputId": "c2259b98-ac85-46d2-8be8-f69a2854601e"
      },
      "source": [
        "ax=sns.boxplot(x='Outlet_Type', y='Item_MRP', data=sales_prediction_df, notch=True);\n",
        "ax.set_xticklabels(ax.get_xticklabels(),rotation=45);                       #Thanks to https://stackoverflow.com/questions/44954123/rotate-xtick-labels-in-seaborn-boxplot"
      ],
      "execution_count": 142,
      "outputs": [
        {
          "output_type": "display_data",
          "data": {
            "image/png": "[encoded data removed]",
            "text/plain": [
              "<Figure size 432x288 with 1 Axes>"
            ]
          },
          "metadata": {
            "tags": [],
            "needs_background": "light"
          }
        }
      ]
    },
    {
      "cell_type": "code",
      "metadata": {
        "colab": {
          "base_uri": "https://localhost:8080/",
          "height": 280
        },
        "id": "r82Yjh-g97zx",
        "outputId": "cce18176-4845-407b-a0df-ccc8b8059385"
      },
      "source": [
        "sns.boxplot(x='Outlet_Location_Type', y='Item_MRP', data=sales_prediction_df, notch=True);"
      ],
      "execution_count": 143,
      "outputs": [
        {
          "output_type": "display_data",
          "data": {
            "image/png": "[encoded data removed]",
            "text/plain": [
              "<Figure size 432x288 with 1 Axes>"
            ]
          },
          "metadata": {
            "tags": [],
            "needs_background": "light"
          }
        }
      ]
    },
    {
      "cell_type": "markdown",
      "metadata": {
        "id": "RedJa-JKhcal"
      },
      "source": [
        "# **Process the categorical data into numerical data**\n"
      ]
    },
    {
      "cell_type": "markdown",
      "metadata": {
        "id": "_3s2xr1AHkVy"
      },
      "source": [
        "Categories:\n",
        "Nominal: Item_Identifier, Item_Type, Outlet_Identifier, Outlet_Location_Type, Outlet_Type, , Item_Fat_Content, Outlet Size\n",
        "\n",
        "\n",
        "From all the categorical features, there is no feature which gives the obvious order and if one is necessarily better than the other. So we will treat all of them as Nominal"
      ]
    },
    {
      "cell_type": "code",
      "metadata": {
        "colab": {
          "base_uri": "https://localhost:8080/",
          "height": 241
        },
        "id": "LsPnmkzGBddt",
        "outputId": "3d8ce42c-0b48-4a13-b323-79e967dc3a6e"
      },
      "source": [
        "ohe = pd.get_dummies(sales_prediction_df, columns = ['Item_Type', 'Outlet_Type','Outlet_Location_Type','Item_Fat_Content','Outlet_Size'], drop_first = True)\n",
        "ohe.head()\n"
      ],
      "execution_count": 144,
      "outputs": [
        {
          "output_type": "execute_result",
          "data": {
            "text/html": [
              "<div>\n",
              "<style scoped>\n",
              "    .dataframe tbody tr th:only-of-type {\n",
              "        vertical-align: middle;\n",
              "    }\n",
              "\n",
              "    .dataframe tbody tr th {\n",
              "        vertical-align: top;\n",
              "    }\n",
              "\n",
              "    .dataframe thead th {\n",
              "        text-align: right;\n",
              "    }\n",
              "</style>\n",
              "<table border=\"1\" class=\"dataframe\">\n",
              "  <thead>\n",
              "    <tr style=\"text-align: right;\">\n",
              "      <th></th>\n",
              "      <th>Item_Identifier</th>\n",
              "      <th>Item_Visibility</th>\n",
              "      <th>Item_MRP</th>\n",
              "      <th>Item_Outlet_Sales</th>\n",
              "      <th>Item_Type_Breads</th>\n",
              "      <th>Item_Type_Breakfast</th>\n",
              "      <th>Item_Type_Canned</th>\n",
              "      <th>Item_Type_Dairy</th>\n",
              "      <th>Item_Type_Frozen Foods</th>\n",
              "      <th>Item_Type_Fruits and Vegetables</th>\n",
              "      <th>Item_Type_Hard Drinks</th>\n",
              "      <th>Item_Type_Health and Hygiene</th>\n",
              "      <th>Item_Type_Household</th>\n",
              "      <th>Item_Type_Meat</th>\n",
              "      <th>Item_Type_Others</th>\n",
              "      <th>Item_Type_Seafood</th>\n",
              "      <th>Item_Type_Snack Foods</th>\n",
              "      <th>Item_Type_Soft Drinks</th>\n",
              "      <th>Item_Type_Starchy Foods</th>\n",
              "      <th>Outlet_Type_Supermarket Type1</th>\n",
              "      <th>Outlet_Type_Supermarket Type2</th>\n",
              "      <th>Outlet_Type_Supermarket Type3</th>\n",
              "      <th>Outlet_Location_Type_Tier 2</th>\n",
              "      <th>Outlet_Location_Type_Tier 3</th>\n",
              "      <th>Item_Fat_Content_Regular</th>\n",
              "      <th>Outlet_Size_Medium</th>\n",
              "      <th>Outlet_Size_Small</th>\n",
              "    </tr>\n",
              "  </thead>\n",
              "  <tbody>\n",
              "    <tr>\n",
              "      <th>0</th>\n",
              "      <td>FDA15</td>\n",
              "      <td>0.016047</td>\n",
              "      <td>249.8092</td>\n",
              "      <td>3735.1380</td>\n",
              "      <td>0</td>\n",
              "      <td>0</td>\n",
              "      <td>0</td>\n",
              "      <td>1</td>\n",
              "      <td>0</td>\n",
              "      <td>0</td>\n",
              "      <td>0</td>\n",
              "      <td>0</td>\n",
              "      <td>0</td>\n",
              "      <td>0</td>\n",
              "      <td>0</td>\n",
              "      <td>0</td>\n",
              "      <td>0</td>\n",
              "      <td>0</td>\n",
              "      <td>0</td>\n",
              "      <td>1</td>\n",
              "      <td>0</td>\n",
              "      <td>0</td>\n",
              "      <td>0</td>\n",
              "      <td>0</td>\n",
              "      <td>0</td>\n",
              "      <td>1</td>\n",
              "      <td>0</td>\n",
              "    </tr>\n",
              "    <tr>\n",
              "      <th>1</th>\n",
              "      <td>DRC01</td>\n",
              "      <td>0.019278</td>\n",
              "      <td>48.2692</td>\n",
              "      <td>443.4228</td>\n",
              "      <td>0</td>\n",
              "      <td>0</td>\n",
              "      <td>0</td>\n",
              "      <td>0</td>\n",
              "      <td>0</td>\n",
              "      <td>0</td>\n",
              "      <td>0</td>\n",
              "      <td>0</td>\n",
              "      <td>0</td>\n",
              "      <td>0</td>\n",
              "      <td>0</td>\n",
              "      <td>0</td>\n",
              "      <td>0</td>\n",
              "      <td>1</td>\n",
              "      <td>0</td>\n",
              "      <td>0</td>\n",
              "      <td>1</td>\n",
              "      <td>0</td>\n",
              "      <td>0</td>\n",
              "      <td>1</td>\n",
              "      <td>1</td>\n",
              "      <td>1</td>\n",
              "      <td>0</td>\n",
              "    </tr>\n",
              "    <tr>\n",
              "      <th>2</th>\n",
              "      <td>FDN15</td>\n",
              "      <td>0.016760</td>\n",
              "      <td>141.6180</td>\n",
              "      <td>2097.2700</td>\n",
              "      <td>0</td>\n",
              "      <td>0</td>\n",
              "      <td>0</td>\n",
              "      <td>0</td>\n",
              "      <td>0</td>\n",
              "      <td>0</td>\n",
              "      <td>0</td>\n",
              "      <td>0</td>\n",
              "      <td>0</td>\n",
              "      <td>1</td>\n",
              "      <td>0</td>\n",
              "      <td>0</td>\n",
              "      <td>0</td>\n",
              "      <td>0</td>\n",
              "      <td>0</td>\n",
              "      <td>1</td>\n",
              "      <td>0</td>\n",
              "      <td>0</td>\n",
              "      <td>0</td>\n",
              "      <td>0</td>\n",
              "      <td>0</td>\n",
              "      <td>1</td>\n",
              "      <td>0</td>\n",
              "    </tr>\n",
              "    <tr>\n",
              "      <th>3</th>\n",
              "      <td>FDX07</td>\n",
              "      <td>0.000000</td>\n",
              "      <td>182.0950</td>\n",
              "      <td>732.3800</td>\n",
              "      <td>0</td>\n",
              "      <td>0</td>\n",
              "      <td>0</td>\n",
              "      <td>0</td>\n",
              "      <td>0</td>\n",
              "      <td>1</td>\n",
              "      <td>0</td>\n",
              "      <td>0</td>\n",
              "      <td>0</td>\n",
              "      <td>0</td>\n",
              "      <td>0</td>\n",
              "      <td>0</td>\n",
              "      <td>0</td>\n",
              "      <td>0</td>\n",
              "      <td>0</td>\n",
              "      <td>0</td>\n",
              "      <td>0</td>\n",
              "      <td>0</td>\n",
              "      <td>0</td>\n",
              "      <td>1</td>\n",
              "      <td>1</td>\n",
              "      <td>1</td>\n",
              "      <td>0</td>\n",
              "    </tr>\n",
              "    <tr>\n",
              "      <th>4</th>\n",
              "      <td>NCD19</td>\n",
              "      <td>0.000000</td>\n",
              "      <td>53.8614</td>\n",
              "      <td>994.7052</td>\n",
              "      <td>0</td>\n",
              "      <td>0</td>\n",
              "      <td>0</td>\n",
              "      <td>0</td>\n",
              "      <td>0</td>\n",
              "      <td>0</td>\n",
              "      <td>0</td>\n",
              "      <td>0</td>\n",
              "      <td>1</td>\n",
              "      <td>0</td>\n",
              "      <td>0</td>\n",
              "      <td>0</td>\n",
              "      <td>0</td>\n",
              "      <td>0</td>\n",
              "      <td>0</td>\n",
              "      <td>1</td>\n",
              "      <td>0</td>\n",
              "      <td>0</td>\n",
              "      <td>0</td>\n",
              "      <td>1</td>\n",
              "      <td>0</td>\n",
              "      <td>0</td>\n",
              "      <td>0</td>\n",
              "    </tr>\n",
              "  </tbody>\n",
              "</table>\n",
              "</div>"
            ],
            "text/plain": [
              "  Item_Identifier  Item_Visibility  ...  Outlet_Size_Medium  Outlet_Size_Small\n",
              "0           FDA15         0.016047  ...                   1                  0\n",
              "1           DRC01         0.019278  ...                   1                  0\n",
              "2           FDN15         0.016760  ...                   1                  0\n",
              "3           FDX07         0.000000  ...                   1                  0\n",
              "4           NCD19         0.000000  ...                   0                  0\n",
              "\n",
              "[5 rows x 27 columns]"
            ]
          },
          "metadata": {
            "tags": []
          },
          "execution_count": 144
        }
      ]
    },
    {
      "cell_type": "code",
      "metadata": {
        "colab": {
          "base_uri": "https://localhost:8080/"
        },
        "id": "8Jf9U4qUJUs_",
        "outputId": "c4509db3-f40a-42c6-d113-ac256272e6f4"
      },
      "source": [
        "sales_prediction_df['Outlet_Size'].value_counts()"
      ],
      "execution_count": 145,
      "outputs": [
        {
          "output_type": "execute_result",
          "data": {
            "text/plain": [
              "Medium    5203\n",
              "Small     2388\n",
              "High       932\n",
              "Name: Outlet_Size, dtype: int64"
            ]
          },
          "metadata": {
            "tags": []
          },
          "execution_count": 145
        }
      ]
    },
    {
      "cell_type": "code",
      "metadata": {
        "colab": {
          "base_uri": "https://localhost:8080/",
          "height": 419
        },
        "id": "v_D2pVfIJo9p",
        "outputId": "fdc46a91-a89e-474d-ebbb-10f329af5864"
      },
      "source": [
        "#dict1={ 'Small': 0, 'Medium':1, 'High':2}\n",
        "#dict2={'Regular':0, 'Low Fat':1}\n",
        "\n",
        "#ohe['Outlet_Size']=ohe['Outlet_Size'].map(dict1)\n",
        "#ohe['Item_Fat_Content']=ohe['Item_Fat_Content'].map(dict2)\n",
        "\n",
        "ohe.head().T"
      ],
      "execution_count": 146,
      "outputs": [
        {
          "output_type": "execute_result",
          "data": {
            "text/html": [
              "<div>\n",
              "<style scoped>\n",
              "    .dataframe tbody tr th:only-of-type {\n",
              "        vertical-align: middle;\n",
              "    }\n",
              "\n",
              "    .dataframe tbody tr th {\n",
              "        vertical-align: top;\n",
              "    }\n",
              "\n",
              "    .dataframe thead th {\n",
              "        text-align: right;\n",
              "    }\n",
              "</style>\n",
              "<table border=\"1\" class=\"dataframe\">\n",
              "  <thead>\n",
              "    <tr style=\"text-align: right;\">\n",
              "      <th></th>\n",
              "      <th>0</th>\n",
              "      <th>1</th>\n",
              "      <th>2</th>\n",
              "      <th>3</th>\n",
              "      <th>4</th>\n",
              "    </tr>\n",
              "  </thead>\n",
              "  <tbody>\n",
              "    <tr>\n",
              "      <th>Item_Identifier</th>\n",
              "      <td>FDA15</td>\n",
              "      <td>DRC01</td>\n",
              "      <td>FDN15</td>\n",
              "      <td>FDX07</td>\n",
              "      <td>NCD19</td>\n",
              "    </tr>\n",
              "    <tr>\n",
              "      <th>Item_Visibility</th>\n",
              "      <td>0.0160473</td>\n",
              "      <td>0.0192782</td>\n",
              "      <td>0.0167601</td>\n",
              "      <td>0</td>\n",
              "      <td>0</td>\n",
              "    </tr>\n",
              "    <tr>\n",
              "      <th>Item_MRP</th>\n",
              "      <td>249.809</td>\n",
              "      <td>48.2692</td>\n",
              "      <td>141.618</td>\n",
              "      <td>182.095</td>\n",
              "      <td>53.8614</td>\n",
              "    </tr>\n",
              "    <tr>\n",
              "      <th>Item_Outlet_Sales</th>\n",
              "      <td>3735.14</td>\n",
              "      <td>443.423</td>\n",
              "      <td>2097.27</td>\n",
              "      <td>732.38</td>\n",
              "      <td>994.705</td>\n",
              "    </tr>\n",
              "    <tr>\n",
              "      <th>Item_Type_Breads</th>\n",
              "      <td>0</td>\n",
              "      <td>0</td>\n",
              "      <td>0</td>\n",
              "      <td>0</td>\n",
              "      <td>0</td>\n",
              "    </tr>\n",
              "    <tr>\n",
              "      <th>...</th>\n",
              "      <td>...</td>\n",
              "      <td>...</td>\n",
              "      <td>...</td>\n",
              "      <td>...</td>\n",
              "      <td>...</td>\n",
              "    </tr>\n",
              "    <tr>\n",
              "      <th>Outlet_Location_Type_Tier 2</th>\n",
              "      <td>0</td>\n",
              "      <td>0</td>\n",
              "      <td>0</td>\n",
              "      <td>0</td>\n",
              "      <td>0</td>\n",
              "    </tr>\n",
              "    <tr>\n",
              "      <th>Outlet_Location_Type_Tier 3</th>\n",
              "      <td>0</td>\n",
              "      <td>1</td>\n",
              "      <td>0</td>\n",
              "      <td>1</td>\n",
              "      <td>1</td>\n",
              "    </tr>\n",
              "    <tr>\n",
              "      <th>Item_Fat_Content_Regular</th>\n",
              "      <td>0</td>\n",
              "      <td>1</td>\n",
              "      <td>0</td>\n",
              "      <td>1</td>\n",
              "      <td>0</td>\n",
              "    </tr>\n",
              "    <tr>\n",
              "      <th>Outlet_Size_Medium</th>\n",
              "      <td>1</td>\n",
              "      <td>1</td>\n",
              "      <td>1</td>\n",
              "      <td>1</td>\n",
              "      <td>0</td>\n",
              "    </tr>\n",
              "    <tr>\n",
              "      <th>Outlet_Size_Small</th>\n",
              "      <td>0</td>\n",
              "      <td>0</td>\n",
              "      <td>0</td>\n",
              "      <td>0</td>\n",
              "      <td>0</td>\n",
              "    </tr>\n",
              "  </tbody>\n",
              "</table>\n",
              "<p>27 rows × 5 columns</p>\n",
              "</div>"
            ],
            "text/plain": [
              "                                     0          1          2        3        4\n",
              "Item_Identifier                  FDA15      DRC01      FDN15    FDX07    NCD19\n",
              "Item_Visibility              0.0160473  0.0192782  0.0167601        0        0\n",
              "Item_MRP                       249.809    48.2692    141.618  182.095  53.8614\n",
              "Item_Outlet_Sales              3735.14    443.423    2097.27   732.38  994.705\n",
              "Item_Type_Breads                     0          0          0        0        0\n",
              "...                                ...        ...        ...      ...      ...\n",
              "Outlet_Location_Type_Tier 2          0          0          0        0        0\n",
              "Outlet_Location_Type_Tier 3          0          1          0        1        1\n",
              "Item_Fat_Content_Regular             0          1          0        1        0\n",
              "Outlet_Size_Medium                   1          1          1        1        0\n",
              "Outlet_Size_Small                    0          0          0        0        0\n",
              "\n",
              "[27 rows x 5 columns]"
            ]
          },
          "metadata": {
            "tags": []
          },
          "execution_count": 146
        }
      ]
    },
    {
      "cell_type": "code",
      "metadata": {
        "id": "WTeyC4-SK1AF"
      },
      "source": [
        "ohe=ohe.drop(['Item_Identifier'], axis=1)"
      ],
      "execution_count": 147,
      "outputs": []
    },
    {
      "cell_type": "code",
      "metadata": {
        "id": "-7nwsjEyLzUh",
        "colab": {
          "base_uri": "https://localhost:8080/"
        },
        "outputId": "7908b71f-d5e5-4a22-e4a1-e96eb357903b"
      },
      "source": [
        "y=ohe['Item_Outlet_Sales'].values\n",
        "y.shape"
      ],
      "execution_count": 148,
      "outputs": [
        {
          "output_type": "execute_result",
          "data": {
            "text/plain": [
              "(8523,)"
            ]
          },
          "metadata": {
            "tags": []
          },
          "execution_count": 148
        }
      ]
    },
    {
      "cell_type": "code",
      "metadata": {
        "id": "YMPYPNB-MIQL"
      },
      "source": [
        "x_temp=ohe.drop(['Item_Outlet_Sales'], axis=1)"
      ],
      "execution_count": 149,
      "outputs": []
    },
    {
      "cell_type": "code",
      "metadata": {
        "id": "oiQOmXiwMm44",
        "colab": {
          "base_uri": "https://localhost:8080/"
        },
        "outputId": "2b1a9366-73d4-432f-8b1c-4d60eee4d5dd"
      },
      "source": [
        "X=x_temp.values\n",
        "X.shape"
      ],
      "execution_count": 150,
      "outputs": [
        {
          "output_type": "execute_result",
          "data": {
            "text/plain": [
              "(8523, 25)"
            ]
          },
          "metadata": {
            "tags": []
          },
          "execution_count": 150
        }
      ]
    },
    {
      "cell_type": "code",
      "metadata": {
        "id": "VVm-BsRQHseF"
      },
      "source": [
        "X_train, X_test, y_train, y_test = train_test_split(X, y, random_state=2) "
      ],
      "execution_count": 151,
      "outputs": []
    },
    {
      "cell_type": "markdown",
      "metadata": {
        "id": "T_aTF_BAL1d-"
      },
      "source": [
        "# Baseline Model"
      ]
    },
    {
      "cell_type": "code",
      "metadata": {
        "colab": {
          "base_uri": "https://localhost:8080/"
        },
        "id": "beLuuuhHNuoj",
        "outputId": "37fd52bd-2bbd-44bd-f2af-9494fa578b60"
      },
      "source": [
        "#Finding the mean of the target column\n",
        "y_train.mean()"
      ],
      "execution_count": 152,
      "outputs": [
        {
          "output_type": "execute_result",
          "data": {
            "text/plain": [
              "2165.9521864205253"
            ]
          },
          "metadata": {
            "tags": []
          },
          "execution_count": 152
        }
      ]
    },
    {
      "cell_type": "code",
      "metadata": {
        "colab": {
          "base_uri": "https://localhost:8080/"
        },
        "id": "0POvaqvbOO33",
        "outputId": "d6c13b93-211f-43a4-9c28-fe1b3487d0c0"
      },
      "source": [
        "print('Training RMSE:', np.sqrt(mean_squared_error(y_train, [y_train.mean()]*len(y_train))))          #Thanks Noelle for this code for setting the baseline model\n",
        "print('Testing RMSE:', np.sqrt(mean_squared_error(y_test, [y_train.mean()]*len(y_test))))"
      ],
      "execution_count": 153,
      "outputs": [
        {
          "output_type": "stream",
          "text": [
            "Training RMSE: 1688.8379677877224\n",
            "Testing RMSE: 1758.291431738524\n"
          ],
          "name": "stdout"
        }
      ]
    },
    {
      "cell_type": "markdown",
      "metadata": {
        "id": "hdl0Gf-rL-Wr"
      },
      "source": [
        "# Linear Regression Model"
      ]
    },
    {
      "cell_type": "code",
      "metadata": {
        "id": "PfK2xUjkNMYc"
      },
      "source": [
        "#Linear Regression Model"
      ],
      "execution_count": 154,
      "outputs": []
    },
    {
      "cell_type": "code",
      "metadata": {
        "id": "CALDJB3YNUb_"
      },
      "source": [
        "LinReg=LinearRegression(fit_intercept=True)"
      ],
      "execution_count": 155,
      "outputs": []
    },
    {
      "cell_type": "code",
      "metadata": {
        "colab": {
          "base_uri": "https://localhost:8080/"
        },
        "id": "2ka7pSMRNfbt",
        "outputId": "72f48338-9005-49ed-9ab2-ce61b6d3ce1c"
      },
      "source": [
        "LinReg.fit(X_train,y_train)"
      ],
      "execution_count": 156,
      "outputs": [
        {
          "output_type": "execute_result",
          "data": {
            "text/plain": [
              "LinearRegression(copy_X=True, fit_intercept=True, n_jobs=None, normalize=False)"
            ]
          },
          "metadata": {
            "tags": []
          },
          "execution_count": 156
        }
      ]
    },
    {
      "cell_type": "code",
      "metadata": {
        "id": "DdZPVp5cNjYB"
      },
      "source": [
        "y_pred_ln=LinReg.predict(X_test)"
      ],
      "execution_count": 157,
      "outputs": []
    },
    {
      "cell_type": "code",
      "metadata": {
        "colab": {
          "base_uri": "https://localhost:8080/"
        },
        "id": "GE1xGT4QNqGw",
        "outputId": "36c5e869-6c8c-4cf9-d912-69ede6643646"
      },
      "source": [
        "score = LinReg.score(X_test, y_test)\n",
        "print(\"Linear Regression R2 score is\", score)\n",
        "print(\"RMSE for Linear Regression\", np.sqrt(mean_squared_error(y_test, y_pred_ln)))\n"
      ],
      "execution_count": 158,
      "outputs": [
        {
          "output_type": "stream",
          "text": [
            "Linear Regression R2 score is 0.5604792733992208\n",
            "RMSE for Linear Regression 1164.9736539807084\n"
          ],
          "name": "stdout"
        }
      ]
    },
    {
      "cell_type": "markdown",
      "metadata": {
        "id": "toyiaw3LPHyJ"
      },
      "source": [
        "***Linear Regression does not give us the good result. R2 value of 0.56 is very low. We will try KNNRegressor model to find the values of the sales predicted.***"
      ]
    },
    {
      "cell_type": "markdown",
      "metadata": {
        "id": "AvMF0s8uMYEb"
      },
      "source": [
        "# KNN Regression Model"
      ]
    },
    {
      "cell_type": "code",
      "metadata": {
        "id": "PSDwt3fkN7DJ"
      },
      "source": [
        "#KNN Regressor model"
      ],
      "execution_count": 159,
      "outputs": []
    },
    {
      "cell_type": "code",
      "metadata": {
        "id": "pIQbDIWrOO0y"
      },
      "source": [
        "scaler = StandardScaler()           #standardising the data\n",
        "scaler.fit(X_train)\n",
        "X_train_sc = scaler.transform(X_train)\n",
        "X_test_sc=scaler.transform(X_test)"
      ],
      "execution_count": 160,
      "outputs": []
    },
    {
      "cell_type": "code",
      "metadata": {
        "colab": {
          "base_uri": "https://localhost:8080/"
        },
        "id": "N833MrV4OUzo",
        "outputId": "e5868ba0-4968-49da-fd53-3e72ed4321b7"
      },
      "source": [
        "Reg = KNeighborsRegressor(n_neighbors= 3)     #creating an instant of KNeighborRegressor class\n",
        "Reg.fit(X_train_sc,y_train)          #Creating a model"
      ],
      "execution_count": 161,
      "outputs": [
        {
          "output_type": "execute_result",
          "data": {
            "text/plain": [
              "KNeighborsRegressor(algorithm='auto', leaf_size=30, metric='minkowski',\n",
              "                    metric_params=None, n_jobs=None, n_neighbors=3, p=2,\n",
              "                    weights='uniform')"
            ]
          },
          "metadata": {
            "tags": []
          },
          "execution_count": 161
        }
      ]
    },
    {
      "cell_type": "code",
      "metadata": {
        "id": "OJGDkkN9OZUZ",
        "colab": {
          "base_uri": "https://localhost:8080/"
        },
        "outputId": "a936d19a-3859-419f-b5d5-5b90cca6d24a"
      },
      "source": [
        "y_pred_knn=Reg.predict(X_test_sc)    #Calculating the predicted values\n",
        "y_pred_knn"
      ],
      "execution_count": 162,
      "outputs": [
        {
          "output_type": "execute_result",
          "data": {
            "text/plain": [
              "array([3187.8504    , 2619.2572    , 1628.99066667, ..., 2751.97333333,\n",
              "       1351.574     , 1031.10226667])"
            ]
          },
          "metadata": {
            "tags": []
          },
          "execution_count": 162
        }
      ]
    },
    {
      "cell_type": "code",
      "metadata": {
        "colab": {
          "base_uri": "https://localhost:8080/"
        },
        "id": "RMuxUeb7OvHR",
        "outputId": "36cd4241-d4b6-45cb-eddb-33a4c6ca150d"
      },
      "source": [
        "score = Reg.score(X_test, y_test)\n",
        "print(\"KNN Regression R2 score is\", score)\n",
        "print(\"RMSE for KNN Regression\", np.sqrt(mean_squared_error(y_test, y_pred_knn)))"
      ],
      "execution_count": 163,
      "outputs": [
        {
          "output_type": "stream",
          "text": [
            "KNN Regression R2 score is -0.9773915053125758\n",
            "RMSE for KNN Regression 1300.798608566662\n"
          ],
          "name": "stdout"
        }
      ]
    },
    {
      "cell_type": "markdown",
      "metadata": {
        "id": "sTyrYNhvT_3k"
      },
      "source": [
        "# **Random Forest Regression**"
      ]
    },
    {
      "cell_type": "code",
      "metadata": {
        "id": "z29_-XTbUaAH"
      },
      "source": [
        "clf = RandomForestRegressor(n_estimators=100,\n",
        "                             bootstrap=True,\n",
        "                             oob_score=True)"
      ],
      "execution_count": 164,
      "outputs": []
    },
    {
      "cell_type": "code",
      "metadata": {
        "colab": {
          "base_uri": "https://localhost:8080/"
        },
        "id": "jvX0dOsFUjFX",
        "outputId": "89528fcb-4c1f-4554-800e-e4ffd5fc2ce2"
      },
      "source": [
        "clf.fit(X_train, y_train)"
      ],
      "execution_count": 165,
      "outputs": [
        {
          "output_type": "execute_result",
          "data": {
            "text/plain": [
              "RandomForestRegressor(bootstrap=True, ccp_alpha=0.0, criterion='mse',\n",
              "                      max_depth=None, max_features='auto', max_leaf_nodes=None,\n",
              "                      max_samples=None, min_impurity_decrease=0.0,\n",
              "                      min_impurity_split=None, min_samples_leaf=1,\n",
              "                      min_samples_split=2, min_weight_fraction_leaf=0.0,\n",
              "                      n_estimators=100, n_jobs=None, oob_score=True,\n",
              "                      random_state=None, verbose=0, warm_start=False)"
            ]
          },
          "metadata": {
            "tags": []
          },
          "execution_count": 165
        }
      ]
    },
    {
      "cell_type": "code",
      "metadata": {
        "id": "HT-VAmWPUzLD"
      },
      "source": [
        "y_pred_rf=clf.predict(X_test)"
      ],
      "execution_count": 166,
      "outputs": []
    },
    {
      "cell_type": "code",
      "metadata": {
        "colab": {
          "base_uri": "https://localhost:8080/"
        },
        "id": "x13SCiK-U6pH",
        "outputId": "2acb4a95-4f32-4cbb-9169-0318e55d66dd"
      },
      "source": [
        "score = clf.score(X_test, y_test)\n",
        "print(\"Random Forest Regression R2 score is\", score)\n",
        "print(\"RMSE for Random Forest Regression\", np.sqrt(mean_squared_error(y_test, y_pred_rf)))\n"
      ],
      "execution_count": 167,
      "outputs": [
        {
          "output_type": "stream",
          "text": [
            "Random Forest Regression R2 score is 0.5642673303272845\n",
            "RMSE for Random Forest Regression 1159.9425645455572\n"
          ],
          "name": "stdout"
        }
      ]
    },
    {
      "cell_type": "code",
      "metadata": {
        "colab": {
          "base_uri": "https://localhost:8080/"
        },
        "id": "3X604ns0YISV",
        "outputId": "a31cc7b2-f730-4c01-bc22-47d76b0821b3"
      },
      "source": [
        "from sklearn.model_selection import GridSearchCV    #Thanks Noelle for the insight\n",
        "params = {'n_estimators': [10, 50, 100, 200],\n",
        "          'max_depth': [None, 2, 3, 4, 5],\n",
        "          'min_samples_split': [2, 3],\n",
        "          'min_samples_leaf': [1, 2]}\n",
        "\n",
        "#Fit the grid search\n",
        "gs = GridSearchCV(RandomForestRegressor(), param_grid = params)\n",
        "gs.fit(X_train, y_train)"
      ],
      "execution_count": 168,
      "outputs": [
        {
          "output_type": "execute_result",
          "data": {
            "text/plain": [
              "GridSearchCV(cv=None, error_score=nan,\n",
              "             estimator=RandomForestRegressor(bootstrap=True, ccp_alpha=0.0,\n",
              "                                             criterion='mse', max_depth=None,\n",
              "                                             max_features='auto',\n",
              "                                             max_leaf_nodes=None,\n",
              "                                             max_samples=None,\n",
              "                                             min_impurity_decrease=0.0,\n",
              "                                             min_impurity_split=None,\n",
              "                                             min_samples_leaf=1,\n",
              "                                             min_samples_split=2,\n",
              "                                             min_weight_fraction_leaf=0.0,\n",
              "                                             n_estimators=100, n_jobs=None,\n",
              "                                             oob_score=False, random_state=None,\n",
              "                                             verbose=0, warm_start=False),\n",
              "             iid='deprecated', n_jobs=None,\n",
              "             param_grid={'max_depth': [None, 2, 3, 4, 5],\n",
              "                         'min_samples_leaf': [1, 2],\n",
              "                         'min_samples_split': [2, 3],\n",
              "                         'n_estimators': [10, 50, 100, 200]},\n",
              "             pre_dispatch='2*n_jobs', refit=True, return_train_score=False,\n",
              "             scoring=None, verbose=0)"
            ]
          },
          "metadata": {
            "tags": []
          },
          "execution_count": 168
        }
      ]
    },
    {
      "cell_type": "code",
      "metadata": {
        "colab": {
          "base_uri": "https://localhost:8080/"
        },
        "id": "WbsstoG04IV8",
        "outputId": "de47b417-b036-464a-d1f0-257a82db2a2a"
      },
      "source": [
        "gs.best_params_"
      ],
      "execution_count": 169,
      "outputs": [
        {
          "output_type": "execute_result",
          "data": {
            "text/plain": [
              "{'max_depth': 5,\n",
              " 'min_samples_leaf': 2,\n",
              " 'min_samples_split': 3,\n",
              " 'n_estimators': 200}"
            ]
          },
          "metadata": {
            "tags": []
          },
          "execution_count": 169
        }
      ]
    },
    {
      "cell_type": "code",
      "metadata": {
        "colab": {
          "base_uri": "https://localhost:8080/"
        },
        "id": "jb93Gwys4Zne",
        "outputId": "6a32dd11-5602-4fd9-f313-466a92ed9808"
      },
      "source": [
        "y_pred_rfgs=gs.predict(X_test)\n",
        "score = gs.score(X_test, y_test)\n",
        "print(\"Random Forest Regression R2 score is\", score)\n",
        "print(\"RMSE for Random Forest Regression\", np.sqrt(mean_squared_error(y_test, y_pred_rfgs)))"
      ],
      "execution_count": 170,
      "outputs": [
        {
          "output_type": "stream",
          "text": [
            "Random Forest Regression R2 score is 0.6033087651195673\n",
            "RMSE for Random Forest Regression 1106.758143343933\n"
          ],
          "name": "stdout"
        }
      ]
    },
    {
      "cell_type": "markdown",
      "metadata": {
        "id": "gWIUVk38YuQR"
      },
      "source": [
        "# **Bagged Tree Regression**\n",
        "\n"
      ]
    },
    {
      "cell_type": "code",
      "metadata": {
        "id": "Hpio6wyTY7iO"
      },
      "source": [
        "clf1= BaggingRegressor(n_estimators=50,\n",
        "                             bootstrap=True,\n",
        "                             oob_score=True)"
      ],
      "execution_count": 171,
      "outputs": []
    },
    {
      "cell_type": "code",
      "metadata": {
        "id": "Mf1WslmBY__U"
      },
      "source": [
        "clf1.fit(X_train, y_train)\n",
        "y_pred_bt=clf1.predict(X_test)"
      ],
      "execution_count": 172,
      "outputs": []
    },
    {
      "cell_type": "code",
      "metadata": {
        "id": "Al9o7DAKZImG"
      },
      "source": [
        "score = clf1.score(X_test, y_test)"
      ],
      "execution_count": 173,
      "outputs": []
    },
    {
      "cell_type": "code",
      "metadata": {
        "colab": {
          "base_uri": "https://localhost:8080/"
        },
        "id": "fP8ScWSeZuQm",
        "outputId": "03825bec-1c33-477d-e1ab-6176ed68409d"
      },
      "source": [
        "print(\"Bagged Tree Regression R2 score is\", score)\n",
        "print(\"RMSE for Bagged Tree Regression\", np.sqrt(mean_squared_error(y_test, y_pred_bt)))"
      ],
      "execution_count": 174,
      "outputs": [
        {
          "output_type": "stream",
          "text": [
            "Bagged Tree Regression R2 score is 0.5565653697435833\n",
            "RMSE for Bagged Tree Regression 1170.1491651564022\n"
          ],
          "name": "stdout"
        }
      ]
    },
    {
      "cell_type": "markdown",
      "metadata": {
        "id": "WuRA49LGQdYv"
      },
      "source": [
        "What can be done to improve the model?\n",
        "\n",
        "\n",
        "ANS: \n",
        "1. There is very little information available regarding the Outlet_Location_Type and Outley_Type etc. If we had more background, we would make a better decision about if the features are nominal or ordinal features.\n",
        "2. Here when we fitted linear regression, it was assumed that the relationship is linear and would give us the best results. Probably some other model would work better. \n",
        "3. Also, as we did, try differnt models and check which ones perform better as certain models work better with certain data."
      ]
    },
    {
      "cell_type": "code",
      "metadata": {
        "colab": {
          "base_uri": "https://localhost:8080/"
        },
        "id": "u9i7Y9kO6mBV",
        "outputId": "ede66175-853b-4919-a51b-3d91c7d6fe9d"
      },
      "source": [
        "clf.feature_importances_.shape"
      ],
      "execution_count": 188,
      "outputs": [
        {
          "output_type": "execute_result",
          "data": {
            "text/plain": [
              "(25,)"
            ]
          },
          "metadata": {
            "tags": []
          },
          "execution_count": 188
        }
      ]
    },
    {
      "cell_type": "code",
      "metadata": {
        "colab": {
          "base_uri": "https://localhost:8080/"
        },
        "id": "02JPFLW37RLe",
        "outputId": "ad40fcff-ad8e-45ee-af46-ef08aac3cdbd"
      },
      "source": [
        "x_temp.columns.values.shape"
      ],
      "execution_count": 189,
      "outputs": [
        {
          "output_type": "execute_result",
          "data": {
            "text/plain": [
              "(25,)"
            ]
          },
          "metadata": {
            "tags": []
          },
          "execution_count": 189
        }
      ]
    },
    {
      "cell_type": "code",
      "metadata": {
        "colab": {
          "base_uri": "https://localhost:8080/",
          "height": 279
        },
        "id": "db2WonIEAyuc",
        "outputId": "82d77ef1-fde0-4425-e97a-d1a4625167bc"
      },
      "source": [
        "plt.barh(x_temp.columns.values, clf.feature_importances_).     #Thanks to https://towardsdatascience.com/the-3-ways-to-compute-feature-importance-in-the-random-forest-96c86b49e6d4\n",
        "#plt.figure(figsize=(20, 5))  # width:20, height:3\n",
        "\n",
        "sorted_idx = clf.feature_importances_.argsort()\n",
        "plt.barh(x_temp.columns.values[sorted_idx], clf.feature_importances_[sorted_idx])\n",
        "plt.xlabel(\"Random Forest Feature Importance\");\n"
      ],
      "execution_count": 201,
      "outputs": [
        {
          "output_type": "display_data",
          "data": {
            "image/png": "[encoded data removed]",
            "text/plain": [
              "<Figure size 432x288 with 1 Axes>"
            ]
          },
          "metadata": {
            "tags": [],
            "needs_background": "light"
          }
        }
      ]
    },
    {
      "cell_type": "markdown",
      "metadata": {
        "id": "v6-DDeBkF4Ko"
      },
      "source": [
        "RECOMMENDATIONS:\n",
        "\n",
        "1. From the data and visualisations, it is seen that products with 'Low Fat' Content generate more revenue than Regualr. It is recommended that if the numebr of products with Lower Fat content are increases, overall sales would go up.\n",
        "\n",
        "2. Item Visibility is another factor which boosts the sales of the items. It would help if visibility of the low selling items is increased and it will be interesting to see if the sales increase for those items.\n",
        "\n",
        "3. The factor that affects the most is the MRP of the item. MRP for some of the items can be increased to generate more sales. If the MRP is increased slightly, without causing the significant jump, it would not directly affect the consumer but in the long run, will give you more sales."
      ]
    }
  ]
}